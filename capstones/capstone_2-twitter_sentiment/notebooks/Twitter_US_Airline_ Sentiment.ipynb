{
 "cells": [
  {
   "cell_type": "code",
   "execution_count": 1,
   "metadata": {},
   "outputs": [],
   "source": [
    "import pandas as pd\n",
    "import numpy as np\n",
    "import matplotlib.pyplot as plt\n",
    "%matplotlib inline\n",
    "import seaborn as sns\n",
    "import re"
   ]
  },
  {
   "cell_type": "code",
   "execution_count": 2,
   "metadata": {},
   "outputs": [],
   "source": [
    "df = pd.read_csv('../data/Tweets.csv')"
   ]
  },
  {
   "cell_type": "code",
   "execution_count": 3,
   "metadata": {
    "scrolled": true
   },
   "outputs": [
    {
     "data": {
      "text/html": [
       "<div>\n",
       "<style scoped>\n",
       "    .dataframe tbody tr th:only-of-type {\n",
       "        vertical-align: middle;\n",
       "    }\n",
       "\n",
       "    .dataframe tbody tr th {\n",
       "        vertical-align: top;\n",
       "    }\n",
       "\n",
       "    .dataframe thead th {\n",
       "        text-align: right;\n",
       "    }\n",
       "</style>\n",
       "<table border=\"1\" class=\"dataframe\">\n",
       "  <thead>\n",
       "    <tr style=\"text-align: right;\">\n",
       "      <th></th>\n",
       "      <th>tweet_id</th>\n",
       "      <th>airline_sentiment</th>\n",
       "      <th>airline_sentiment_confidence</th>\n",
       "      <th>negativereason</th>\n",
       "      <th>negativereason_confidence</th>\n",
       "      <th>airline</th>\n",
       "      <th>airline_sentiment_gold</th>\n",
       "      <th>name</th>\n",
       "      <th>negativereason_gold</th>\n",
       "      <th>retweet_count</th>\n",
       "      <th>text</th>\n",
       "      <th>tweet_coord</th>\n",
       "      <th>tweet_created</th>\n",
       "      <th>tweet_location</th>\n",
       "      <th>user_timezone</th>\n",
       "    </tr>\n",
       "  </thead>\n",
       "  <tbody>\n",
       "    <tr>\n",
       "      <th>0</th>\n",
       "      <td>570306133677760513</td>\n",
       "      <td>neutral</td>\n",
       "      <td>1.0000</td>\n",
       "      <td>NaN</td>\n",
       "      <td>NaN</td>\n",
       "      <td>Virgin America</td>\n",
       "      <td>NaN</td>\n",
       "      <td>cairdin</td>\n",
       "      <td>NaN</td>\n",
       "      <td>0</td>\n",
       "      <td>@VirginAmerica What @dhepburn said.</td>\n",
       "      <td>NaN</td>\n",
       "      <td>2015-02-24 11:35:52 -0800</td>\n",
       "      <td>NaN</td>\n",
       "      <td>Eastern Time (US &amp; Canada)</td>\n",
       "    </tr>\n",
       "    <tr>\n",
       "      <th>1</th>\n",
       "      <td>570301130888122368</td>\n",
       "      <td>positive</td>\n",
       "      <td>0.3486</td>\n",
       "      <td>NaN</td>\n",
       "      <td>0.0000</td>\n",
       "      <td>Virgin America</td>\n",
       "      <td>NaN</td>\n",
       "      <td>jnardino</td>\n",
       "      <td>NaN</td>\n",
       "      <td>0</td>\n",
       "      <td>@VirginAmerica plus you've added commercials t...</td>\n",
       "      <td>NaN</td>\n",
       "      <td>2015-02-24 11:15:59 -0800</td>\n",
       "      <td>NaN</td>\n",
       "      <td>Pacific Time (US &amp; Canada)</td>\n",
       "    </tr>\n",
       "    <tr>\n",
       "      <th>2</th>\n",
       "      <td>570301083672813571</td>\n",
       "      <td>neutral</td>\n",
       "      <td>0.6837</td>\n",
       "      <td>NaN</td>\n",
       "      <td>NaN</td>\n",
       "      <td>Virgin America</td>\n",
       "      <td>NaN</td>\n",
       "      <td>yvonnalynn</td>\n",
       "      <td>NaN</td>\n",
       "      <td>0</td>\n",
       "      <td>@VirginAmerica I didn't today... Must mean I n...</td>\n",
       "      <td>NaN</td>\n",
       "      <td>2015-02-24 11:15:48 -0800</td>\n",
       "      <td>Lets Play</td>\n",
       "      <td>Central Time (US &amp; Canada)</td>\n",
       "    </tr>\n",
       "    <tr>\n",
       "      <th>3</th>\n",
       "      <td>570301031407624196</td>\n",
       "      <td>negative</td>\n",
       "      <td>1.0000</td>\n",
       "      <td>Bad Flight</td>\n",
       "      <td>0.7033</td>\n",
       "      <td>Virgin America</td>\n",
       "      <td>NaN</td>\n",
       "      <td>jnardino</td>\n",
       "      <td>NaN</td>\n",
       "      <td>0</td>\n",
       "      <td>@VirginAmerica it's really aggressive to blast...</td>\n",
       "      <td>NaN</td>\n",
       "      <td>2015-02-24 11:15:36 -0800</td>\n",
       "      <td>NaN</td>\n",
       "      <td>Pacific Time (US &amp; Canada)</td>\n",
       "    </tr>\n",
       "    <tr>\n",
       "      <th>4</th>\n",
       "      <td>570300817074462722</td>\n",
       "      <td>negative</td>\n",
       "      <td>1.0000</td>\n",
       "      <td>Can't Tell</td>\n",
       "      <td>1.0000</td>\n",
       "      <td>Virgin America</td>\n",
       "      <td>NaN</td>\n",
       "      <td>jnardino</td>\n",
       "      <td>NaN</td>\n",
       "      <td>0</td>\n",
       "      <td>@VirginAmerica and it's a really big bad thing...</td>\n",
       "      <td>NaN</td>\n",
       "      <td>2015-02-24 11:14:45 -0800</td>\n",
       "      <td>NaN</td>\n",
       "      <td>Pacific Time (US &amp; Canada)</td>\n",
       "    </tr>\n",
       "  </tbody>\n",
       "</table>\n",
       "</div>"
      ],
      "text/plain": [
       "             tweet_id airline_sentiment  airline_sentiment_confidence  \\\n",
       "0  570306133677760513           neutral                        1.0000   \n",
       "1  570301130888122368          positive                        0.3486   \n",
       "2  570301083672813571           neutral                        0.6837   \n",
       "3  570301031407624196          negative                        1.0000   \n",
       "4  570300817074462722          negative                        1.0000   \n",
       "\n",
       "  negativereason  negativereason_confidence         airline  \\\n",
       "0            NaN                        NaN  Virgin America   \n",
       "1            NaN                     0.0000  Virgin America   \n",
       "2            NaN                        NaN  Virgin America   \n",
       "3     Bad Flight                     0.7033  Virgin America   \n",
       "4     Can't Tell                     1.0000  Virgin America   \n",
       "\n",
       "  airline_sentiment_gold        name negativereason_gold  retweet_count  \\\n",
       "0                    NaN     cairdin                 NaN              0   \n",
       "1                    NaN    jnardino                 NaN              0   \n",
       "2                    NaN  yvonnalynn                 NaN              0   \n",
       "3                    NaN    jnardino                 NaN              0   \n",
       "4                    NaN    jnardino                 NaN              0   \n",
       "\n",
       "                                                text tweet_coord  \\\n",
       "0                @VirginAmerica What @dhepburn said.         NaN   \n",
       "1  @VirginAmerica plus you've added commercials t...         NaN   \n",
       "2  @VirginAmerica I didn't today... Must mean I n...         NaN   \n",
       "3  @VirginAmerica it's really aggressive to blast...         NaN   \n",
       "4  @VirginAmerica and it's a really big bad thing...         NaN   \n",
       "\n",
       "               tweet_created tweet_location               user_timezone  \n",
       "0  2015-02-24 11:35:52 -0800            NaN  Eastern Time (US & Canada)  \n",
       "1  2015-02-24 11:15:59 -0800            NaN  Pacific Time (US & Canada)  \n",
       "2  2015-02-24 11:15:48 -0800      Lets Play  Central Time (US & Canada)  \n",
       "3  2015-02-24 11:15:36 -0800            NaN  Pacific Time (US & Canada)  \n",
       "4  2015-02-24 11:14:45 -0800            NaN  Pacific Time (US & Canada)  "
      ]
     },
     "execution_count": 3,
     "metadata": {},
     "output_type": "execute_result"
    }
   ],
   "source": [
    "df.head()"
   ]
  },
  {
   "cell_type": "code",
   "execution_count": 4,
   "metadata": {
    "scrolled": true
   },
   "outputs": [
    {
     "name": "stdout",
     "output_type": "stream",
     "text": [
      "<class 'pandas.core.frame.DataFrame'>\n",
      "RangeIndex: 14640 entries, 0 to 14639\n",
      "Data columns (total 15 columns):\n",
      "tweet_id                        14640 non-null int64\n",
      "airline_sentiment               14640 non-null object\n",
      "airline_sentiment_confidence    14640 non-null float64\n",
      "negativereason                  9178 non-null object\n",
      "negativereason_confidence       10522 non-null float64\n",
      "airline                         14640 non-null object\n",
      "airline_sentiment_gold          40 non-null object\n",
      "name                            14640 non-null object\n",
      "negativereason_gold             32 non-null object\n",
      "retweet_count                   14640 non-null int64\n",
      "text                            14640 non-null object\n",
      "tweet_coord                     1019 non-null object\n",
      "tweet_created                   14640 non-null object\n",
      "tweet_location                  9907 non-null object\n",
      "user_timezone                   9820 non-null object\n",
      "dtypes: float64(2), int64(2), object(11)\n",
      "memory usage: 1.1+ MB\n"
     ]
    }
   ],
   "source": [
    "df.info()"
   ]
  },
  {
   "cell_type": "code",
   "execution_count": 5,
   "metadata": {},
   "outputs": [],
   "source": [
    "df_1 = df.drop(['airline_sentiment_gold', 'negativereason_gold', \n",
    "                'tweet_coord'], axis=1)"
   ]
  },
  {
   "cell_type": "markdown",
   "metadata": {},
   "source": [
    "Looking we see that some columns have really low non-null object counts.  Columns airline_sentiment_gold has 40, negativereason_gold has 32, and twee_coord only has 1019.  These columns with a lot of missing values won't be of use in the model and will be dropped.  "
   ]
  },
  {
   "cell_type": "code",
   "execution_count": 6,
   "metadata": {
    "scrolled": false
   },
   "outputs": [
    {
     "data": {
      "text/html": [
       "<div>\n",
       "<style scoped>\n",
       "    .dataframe tbody tr th:only-of-type {\n",
       "        vertical-align: middle;\n",
       "    }\n",
       "\n",
       "    .dataframe tbody tr th {\n",
       "        vertical-align: top;\n",
       "    }\n",
       "\n",
       "    .dataframe thead th {\n",
       "        text-align: right;\n",
       "    }\n",
       "</style>\n",
       "<table border=\"1\" class=\"dataframe\">\n",
       "  <thead>\n",
       "    <tr style=\"text-align: right;\">\n",
       "      <th></th>\n",
       "      <th>tweet_id</th>\n",
       "      <th>airline_sentiment_confidence</th>\n",
       "      <th>negativereason_confidence</th>\n",
       "      <th>retweet_count</th>\n",
       "    </tr>\n",
       "  </thead>\n",
       "  <tbody>\n",
       "    <tr>\n",
       "      <th>count</th>\n",
       "      <td>1.464000e+04</td>\n",
       "      <td>14640.000000</td>\n",
       "      <td>10522.000000</td>\n",
       "      <td>14640.000000</td>\n",
       "    </tr>\n",
       "    <tr>\n",
       "      <th>mean</th>\n",
       "      <td>5.692184e+17</td>\n",
       "      <td>0.900169</td>\n",
       "      <td>0.638298</td>\n",
       "      <td>0.082650</td>\n",
       "    </tr>\n",
       "    <tr>\n",
       "      <th>std</th>\n",
       "      <td>7.791112e+14</td>\n",
       "      <td>0.162830</td>\n",
       "      <td>0.330440</td>\n",
       "      <td>0.745778</td>\n",
       "    </tr>\n",
       "    <tr>\n",
       "      <th>min</th>\n",
       "      <td>5.675883e+17</td>\n",
       "      <td>0.335000</td>\n",
       "      <td>0.000000</td>\n",
       "      <td>0.000000</td>\n",
       "    </tr>\n",
       "    <tr>\n",
       "      <th>25%</th>\n",
       "      <td>5.685592e+17</td>\n",
       "      <td>0.692300</td>\n",
       "      <td>0.360600</td>\n",
       "      <td>0.000000</td>\n",
       "    </tr>\n",
       "    <tr>\n",
       "      <th>50%</th>\n",
       "      <td>5.694779e+17</td>\n",
       "      <td>1.000000</td>\n",
       "      <td>0.670600</td>\n",
       "      <td>0.000000</td>\n",
       "    </tr>\n",
       "    <tr>\n",
       "      <th>75%</th>\n",
       "      <td>5.698905e+17</td>\n",
       "      <td>1.000000</td>\n",
       "      <td>1.000000</td>\n",
       "      <td>0.000000</td>\n",
       "    </tr>\n",
       "    <tr>\n",
       "      <th>max</th>\n",
       "      <td>5.703106e+17</td>\n",
       "      <td>1.000000</td>\n",
       "      <td>1.000000</td>\n",
       "      <td>44.000000</td>\n",
       "    </tr>\n",
       "  </tbody>\n",
       "</table>\n",
       "</div>"
      ],
      "text/plain": [
       "           tweet_id  airline_sentiment_confidence  negativereason_confidence  \\\n",
       "count  1.464000e+04                  14640.000000               10522.000000   \n",
       "mean   5.692184e+17                      0.900169                   0.638298   \n",
       "std    7.791112e+14                      0.162830                   0.330440   \n",
       "min    5.675883e+17                      0.335000                   0.000000   \n",
       "25%    5.685592e+17                      0.692300                   0.360600   \n",
       "50%    5.694779e+17                      1.000000                   0.670600   \n",
       "75%    5.698905e+17                      1.000000                   1.000000   \n",
       "max    5.703106e+17                      1.000000                   1.000000   \n",
       "\n",
       "       retweet_count  \n",
       "count   14640.000000  \n",
       "mean        0.082650  \n",
       "std         0.745778  \n",
       "min         0.000000  \n",
       "25%         0.000000  \n",
       "50%         0.000000  \n",
       "75%         0.000000  \n",
       "max        44.000000  "
      ]
     },
     "execution_count": 6,
     "metadata": {},
     "output_type": "execute_result"
    }
   ],
   "source": [
    "df_1.describe()"
   ]
  },
  {
   "cell_type": "code",
   "execution_count": 7,
   "metadata": {},
   "outputs": [],
   "source": [
    "df_1 = df_1.drop(['airline_sentiment_confidence', 'negativereason_confidence', 'retweet_count'], axis=1)"
   ]
  },
  {
   "cell_type": "markdown",
   "metadata": {},
   "source": [
    "Looking at the quantative data we see that the max for retweet_count is 44.  That is too low to be useful for the model.  \n",
    "\n",
    "The other quantative columns are tweet_id that is an unique key to each tweet.  The two other columns airline_sentiment_confidence and negativereason_confidence seem to be human confidence of rating the tweets.  They will not be helpful and will be dropped."
   ]
  },
  {
   "cell_type": "code",
   "execution_count": 8,
   "metadata": {},
   "outputs": [
    {
     "data": {
      "text/plain": [
       "negative    9178\n",
       "neutral     3099\n",
       "positive    2363\n",
       "Name: airline_sentiment, dtype: int64"
      ]
     },
     "execution_count": 8,
     "metadata": {},
     "output_type": "execute_result"
    }
   ],
   "source": [
    "df_1['airline_sentiment'].value_counts()"
   ]
  },
  {
   "cell_type": "code",
   "execution_count": 9,
   "metadata": {
    "scrolled": true
   },
   "outputs": [
    {
     "data": {
      "image/png": "[encoded data removed]",
      "text/plain": [
       "<Figure size 432x288 with 1 Axes>"
      ]
     },
     "metadata": {
      "needs_background": "light"
     },
     "output_type": "display_data"
    }
   ],
   "source": [
    "sns.countplot(df_1['airline_sentiment'])\n",
    "plt.title('Airline Sentiment');"
   ]
  },
  {
   "cell_type": "code",
   "execution_count": 10,
   "metadata": {
    "scrolled": true
   },
   "outputs": [
    {
     "data": {
      "image/png": "[encoded data removed]",
      "text/plain": [
       "<Figure size 432x288 with 1 Axes>"
      ]
     },
     "metadata": {
      "needs_background": "light"
     },
     "output_type": "display_data"
    }
   ],
   "source": [
    "sns.countplot(df_1['airline'], hue=df_1['airline_sentiment'])\n",
    "plt.title('Airlines Sentiment');"
   ]
  },
  {
   "cell_type": "code",
   "execution_count": 11,
   "metadata": {},
   "outputs": [],
   "source": [
    "# create a dummie matrix of user_timezone\n",
    "df_a = pd.get_dummies(df_1['airline'])\n",
    "# add tweet_id to dummies matrix and merge with original dataframe\n",
    "df_a['tweet_id'] = df_1['tweet_id']\n",
    "\n",
    "df_1 = pd.merge(df_1, df_a, on='tweet_id')"
   ]
  },
  {
   "cell_type": "markdown",
   "metadata": {},
   "source": [
    "In the graph above we see the airline sentiments of each airline neutral, positive, and negative counts.  We see that all but Virgin America have a lot more negative tweets then neutral or positive and in some cases more then both of them combined."
   ]
  },
  {
   "cell_type": "code",
   "execution_count": 12,
   "metadata": {},
   "outputs": [],
   "source": [
    "columns = ['negativereason', 'name', 'tweet_created', \n",
    "           'tweet_location', 'user_timezone']"
   ]
  },
  {
   "cell_type": "code",
   "execution_count": 13,
   "metadata": {
    "scrolled": false
   },
   "outputs": [
    {
     "data": {
      "image/png": "[encoded data removed]",
      "text/plain": [
       "<Figure size 720x1440 with 5 Axes>"
      ]
     },
     "metadata": {
      "needs_background": "light"
     },
     "output_type": "display_data"
    }
   ],
   "source": [
    "fig = plt.figure(figsize=(10, 20))\n",
    "fig.subplots_adjust(hspace=1, wspace=0.3)\n",
    "\n",
    "for i, c in enumerate(columns, start=1):\n",
    "    ax = fig.add_subplot(3, 2, i)\n",
    "    chart = sns.countplot(x=c, data=df_1, hue='airline_sentiment',\n",
    "                          order=df_1[c].value_counts().iloc[:10].index)\n",
    "    chart.set_xticklabels(chart.get_xticklabels(), rotation=90)"
   ]
  },
  {
   "cell_type": "code",
   "execution_count": 14,
   "metadata": {},
   "outputs": [],
   "source": [
    "df_1 = df_1.drop(['negativereason', 'name'], axis=1)"
   ]
  },
  {
   "cell_type": "markdown",
   "metadata": {},
   "source": [
    "The graphs above show us the top ten most frequent values in the categorical columns.  We see that columns name, tweet_created, tweet_location have very low counts.  But looking at tweet_created as a different type of date would probably bring the counts up.  We could do day of week, hour, or month date."
   ]
  },
  {
   "cell_type": "code",
   "execution_count": 15,
   "metadata": {},
   "outputs": [],
   "source": [
    "df_1['day'] = pd.DatetimeIndex(df_1['tweet_created']).dayofweek\n",
    "df_1['hour'] = pd.DatetimeIndex(df_1['tweet_created']).hour\n",
    "df_1['date'] = pd.DatetimeIndex(df_1['tweet_created']).date"
   ]
  },
  {
   "cell_type": "code",
   "execution_count": 16,
   "metadata": {
    "scrolled": true
   },
   "outputs": [
    {
     "data": {
      "image/png": "[encoded data removed]",
      "text/plain": [
       "<Figure size 432x288 with 1 Axes>"
      ]
     },
     "metadata": {
      "needs_background": "light"
     },
     "output_type": "display_data"
    }
   ],
   "source": [
    "chart = sns.countplot(x='day', data=df_1, hue='airline_sentiment');"
   ]
  },
  {
   "cell_type": "code",
   "execution_count": 17,
   "metadata": {},
   "outputs": [],
   "source": [
    "# Create list of the non top ten inthe user_timezone \n",
    "user_timezone_lowest = list(df_1['user_timezone'].value_counts().tail(842).index)\n",
    "# create a dummie matrix of user_timezone\n",
    "df_day = pd.get_dummies(df_1['day'])\n",
    "df_day =df_day.rename(columns={0: 'Monday', 1: 'Tuesday', 2: 'Wednesday', 3: 'Thursday', 4: 'Friday', 5: 'Saturday', 6: 'Sunday'})\n",
    "# add tweet_id to dummies matrix and merge with original dataframe\n",
    "df_day['tweet_id'] = df_1['tweet_id']\n",
    "\n",
    "df_1 = pd.merge(df_1, df_day, on='tweet_id')"
   ]
  },
  {
   "cell_type": "markdown",
   "metadata": {},
   "source": [
    "We see that most tweets were created on Monday, Tuesday, and Saturday."
   ]
  },
  {
   "cell_type": "code",
   "execution_count": 18,
   "metadata": {
    "scrolled": false
   },
   "outputs": [
    {
     "data": {
      "image/png": "[encoded data removed]",
      "text/plain": [
       "<Figure size 432x288 with 1 Axes>"
      ]
     },
     "metadata": {
      "needs_background": "light"
     },
     "output_type": "display_data"
    }
   ],
   "source": [
    "chart = sns.countplot(x='hour', data=df_1, hue='airline_sentiment');"
   ]
  },
  {
   "cell_type": "code",
   "execution_count": 19,
   "metadata": {
    "scrolled": false
   },
   "outputs": [
    {
     "data": {
      "image/png": "[encoded data removed]",
      "text/plain": [
       "<Figure size 432x288 with 1 Axes>"
      ]
     },
     "metadata": {
      "needs_background": "light"
     },
     "output_type": "display_data"
    }
   ],
   "source": [
    "chart = sns.countplot(x='date', data=df_1, hue='airline_sentiment')\n",
    "chart.set_xticklabels(chart.get_xticklabels(), rotation=45);"
   ]
  },
  {
   "cell_type": "markdown",
   "metadata": {},
   "source": [
    "We see that data was only collected over 8 days Between February 16 and 24 in 2015."
   ]
  },
  {
   "cell_type": "code",
   "execution_count": 20,
   "metadata": {
    "scrolled": true
   },
   "outputs": [
    {
     "name": "stdout",
     "output_type": "stream",
     "text": [
      "Rows where user_timezone is null but tweet_location has value:  2401\n"
     ]
    }
   ],
   "source": [
    "print('Rows where user_timezone is null but tweet_location has value: ', \n",
    "      df_1['tweet_location'][df_1['user_timezone'].isnull()].count())"
   ]
  },
  {
   "cell_type": "code",
   "execution_count": 21,
   "metadata": {
    "scrolled": false
   },
   "outputs": [
    {
     "data": {
      "text/plain": [
       "BK                                50\n",
       "New York                          47\n",
       "San Diego                         38\n",
       "Belle MO                          37\n",
       "Mexico City                       33\n",
       "NY (Globetrotter.ExBonaerense)    32\n",
       "MiniApple(s)                      32\n",
       "San Francisco, CA                 29\n",
       "Plano, Texas                      28\n",
       "Boston, MA                        26\n",
       "Name: tweet_location, dtype: int64"
      ]
     },
     "execution_count": 21,
     "metadata": {},
     "output_type": "execute_result"
    }
   ],
   "source": [
    "df_1['tweet_location'][df_1['user_timezone'].isnull()].value_counts().head(10)"
   ]
  },
  {
   "cell_type": "code",
   "execution_count": 22,
   "metadata": {},
   "outputs": [],
   "source": [
    "us_time = {'Alaska': ['AK', 'ALASKA'], \n",
    "           'Central Time (US & Canada)': ['AL', 'AR', 'IL', 'IA', \n",
    "                                          'KS', 'KY', 'LA', 'MN', \n",
    "                                          'MI', 'MO', 'NE', 'ND', \n",
    "                                          'OK', 'SD', 'TN', 'TX', \n",
    "                                          'WI', 'ALABAMA', \n",
    "                                          'ARKANSAS','ILLINOIS', \n",
    "                                          'IOWA', 'KANSAS', \n",
    "                                          'KENTUCKY', 'LOUISIANA', \n",
    "                                          'MINNESOTA', 'MISSISSIPPI',\n",
    "                                          'MISSOURI', 'NEBRASKA', \n",
    "                                          'NORTH DAKOTA','OKLAHOMA',\n",
    "                                          'SOUTH DAKOTA','TENNESSEE',\n",
    "                                          'TEXAS', 'WISCONSIN'], \n",
    "           'Eastern Time (US & Canada)': ['CT', 'DE', 'DC', 'FL', \n",
    "                                          'GA', 'IN', 'ME', 'MD', \n",
    "                                          'MA', 'MI', 'NH', 'NJ', \n",
    "                                          'NY', 'NC', 'OH', 'PA', \n",
    "                                          'RI', 'SC', 'VT', 'VA', \n",
    "                                          'WV', 'CONNECTICUT', \n",
    "                                          'DELAWARE', 'FLORIDA', \n",
    "                                          'GEORGIA', 'INDIANA', \n",
    "                                          'MAINE', 'MARYLAND', \n",
    "                                          'MASSACHUSETTS', \n",
    "                                          'MICHIGAN','NEW HAMPSHIRE', \n",
    "                                          'NEW JERSEY', 'NEW YORK', \n",
    "                                          'NORTH CAROLINA', 'OHIO', \n",
    "                                          'PENNSYLVANIA', \n",
    "                                          'RHODE ISLAND', \n",
    "                                          'SOUTH CAROLINA', \n",
    "                                          'VERMONT', 'VIRGINIA', \n",
    "                                          'WEST VIRGINIA'], \n",
    "           'Mountain Time (US & Canada)': ['AZ', 'CO', 'ID', 'MT', \n",
    "                                           'NM', 'UT', 'WY', \n",
    "                                           'ARIZONA', 'COLORADO', \n",
    "                                           'IDAHO', 'MONTANA', \n",
    "                                           'NEW MEXICO', 'UTAH', \n",
    "                                           'WYOMING'], \n",
    "           'Pacific Time (US & Canada)' : ['CA', 'NV', 'OR', 'WA', \n",
    "                                           'CALIFORNIA', 'NEVADA', \n",
    "                                           'OREGON', 'WASHINGTON']\n",
    "          }"
   ]
  },
  {
   "cell_type": "code",
   "execution_count": 23,
   "metadata": {},
   "outputs": [],
   "source": [
    "def try_extract(s, p):\n",
    "    try:\n",
    "        s.upper()\n",
    "        return p.search(s).group(1)\n",
    "    except (TypeError, AttributeError):\n",
    "        return s"
   ]
  },
  {
   "cell_type": "code",
   "execution_count": 24,
   "metadata": {
    "scrolled": false
   },
   "outputs": [],
   "source": [
    "for k in us_time.keys():\n",
    "    l = us_time[k]\n",
    "\n",
    "    p = re.compile(rf\"({'|'.join(l)})\")\n",
    "    df_1['test_1'] = [try_extract(s, p) for s in df_1['tweet_location']]\n",
    "    \n",
    "df_1['user_timezone'] = df_1['user_timezone'].fillna(df_1['test_1'])\n",
    "df_1 = df_1.drop(['test_1'], axis=1);"
   ]
  },
  {
   "cell_type": "markdown",
   "metadata": {},
   "source": [
    "Looking at user_timezone and tweet_location we see that they both contain locations.  \n",
    "\n",
    "We see that there are 2149 rows where the user_timezone is null but the tweet_location has a value.  Looking at the values we see that a lot of them contain a state.  We will be able to assign a value to the user_timezone null value according to the state in the tweet_location."
   ]
  },
  {
   "cell_type": "code",
   "execution_count": 25,
   "metadata": {
    "scrolled": false
   },
   "outputs": [
    {
     "data": {
      "text/plain": [
       "Eastern Time (US & Canada)     4080\n",
       "Central Time (US & Canada)     2365\n",
       "Pacific Time (US & Canada)     1376\n",
       "Quito                           934\n",
       "Atlantic Time (Canada)          539\n",
       "Mountain Time (US & Canada)     523\n",
       "London                          278\n",
       "Arizona                         271\n",
       "Alaska                          136\n",
       "CA                              112\n",
       "Name: user_timezone, dtype: int64"
      ]
     },
     "execution_count": 25,
     "metadata": {},
     "output_type": "execute_result"
    }
   ],
   "source": [
    "df_1['user_timezone'].value_counts().head(10)"
   ]
  },
  {
   "cell_type": "code",
   "execution_count": 26,
   "metadata": {
    "scrolled": false
   },
   "outputs": [
    {
     "data": {
      "image/png": "[encoded data removed]",
      "text/plain": [
       "<Figure size 432x288 with 1 Axes>"
      ]
     },
     "metadata": {
      "needs_background": "light"
     },
     "output_type": "display_data"
    }
   ],
   "source": [
    "chart = sns.countplot(x ='user_timezone', hue='airline_sentiment', \n",
    "              data=df_1, order=df_1['user_timezone'].value_counts().iloc[:10].index)\n",
    "chart.set_xticklabels(chart.get_xticklabels(), rotation=90);"
   ]
  },
  {
   "cell_type": "markdown",
   "metadata": {},
   "source": [
    "Looking at the top ten user_timezones we see that all of them have more negative sentiments then other sentiments with some by a lot."
   ]
  },
  {
   "cell_type": "code",
   "execution_count": 27,
   "metadata": {},
   "outputs": [],
   "source": [
    "# Create list of the non top ten inthe user_timezone \n",
    "user_timezone_lowest = list(df_1['user_timezone'].value_counts().tail(842).index)\n",
    "# create a dummie matrix of user_timezone\n",
    "df_ut = pd.get_dummies(df_1['user_timezone'])\n",
    "# create other_timezone column and fill with zero\n",
    "df_ut['other_timezone'] = 0\n",
    "# combine non top ten user_timezone into other_timezone column\n",
    "for c in user_timezone_lowest:\n",
    "    df_ut['other_timezone'] = df_ut['other_timezone'] + df_ut[c]\n",
    "    df_ut = df_ut.drop(c, axis=1)\n",
    "# add tweet_id to dummies matrix and merge with original dataframe\n",
    "df_ut['tweet_id'] = df_1['tweet_id']\n",
    "\n",
    "df_1 = pd.merge(df_1, df_ut, on='tweet_id')"
   ]
  },
  {
   "cell_type": "code",
   "execution_count": 28,
   "metadata": {},
   "outputs": [],
   "source": [
    "df_1 = df_1.drop('tweet_location', axis=1)"
   ]
  },
  {
   "cell_type": "markdown",
   "metadata": {},
   "source": [
    "We will drop tweet_location because there aren't a lot of samples."
   ]
  },
  {
   "cell_type": "code",
   "execution_count": 29,
   "metadata": {},
   "outputs": [],
   "source": [
    "df_1['tweet_char_len'] = df_1['text'].str.len()"
   ]
  },
  {
   "cell_type": "code",
   "execution_count": 30,
   "metadata": {},
   "outputs": [
    {
     "data": {
      "image/png": "[encoded data removed]",
      "text/plain": [
       "<Figure size 432x288 with 4 Axes>"
      ]
     },
     "metadata": {
      "needs_background": "light"
     },
     "output_type": "display_data"
    }
   ],
   "source": [
    "df_1.hist(column='tweet_char_len', by='airline_sentiment');"
   ]
  },
  {
   "cell_type": "markdown",
   "metadata": {},
   "source": [
    "We can create a value with the tweet text charactor length and see if there is corrilation betwee tweet length and negative or positive sentiment.\n",
    "\n",
    "Looking at the negative and other sentiment histograms we see that negative twee_char_len is skewed toards the right "
   ]
  },
  {
   "cell_type": "markdown",
   "metadata": {},
   "source": [
    "# Clean Text"
   ]
  },
  {
   "cell_type": "code",
   "execution_count": 31,
   "metadata": {},
   "outputs": [],
   "source": [
    "import nltk\n",
    "from nltk.corpus import stopwords"
   ]
  },
  {
   "cell_type": "code",
   "execution_count": 32,
   "metadata": {
    "scrolled": true
   },
   "outputs": [],
   "source": [
    "def process_tweets(tweet):\n",
    "    # convert text to lower-case\n",
    "    tweet = tweet.lower()\n",
    "    # remove URLs\n",
    "    tweet = re.sub('((www\\.[^\\s]+)|(https?://[^\\s]+))', \n",
    "                   '', tweet)\n",
    "    # remove usernames\n",
    "    tweet = re.sub('@[^\\s]+', '', tweet)\n",
    "    # remove the # in #hashtag\n",
    "    tweet = re.sub(r'#([^\\s]+)', r'\\1', tweet) \n",
    "    # remove punctuation\n",
    "    tweet = re.sub('[!\"#$%&\\'()*+,-./:;<=>?@[\\\\]^_`{|}~]', '', \n",
    "                   tweet)\n",
    "    # remove stopwords\n",
    "    tweet = ' '.join(word for word in tweet.split() \n",
    "                     if word not in stopwords.words('english')) \n",
    "            \n",
    "    return tweet"
   ]
  },
  {
   "cell_type": "code",
   "execution_count": 34,
   "metadata": {
    "scrolled": true
   },
   "outputs": [],
   "source": [
    "df_1['tweet_clean'] = df_1['text'].apply(process_tweets)"
   ]
  },
  {
   "cell_type": "markdown",
   "metadata": {},
   "source": [
    "## Word Clouds"
   ]
  },
  {
   "cell_type": "code",
   "execution_count": null,
   "metadata": {},
   "outputs": [],
   "source": [
    "from wordcloud import WordCloud"
   ]
  },
  {
   "cell_type": "code",
   "execution_count": null,
   "metadata": {},
   "outputs": [],
   "source": [
    "negative_text = \" \".join(tweet for tweet in df_1['tweet_clean'][df_1['airline_sentiment'] == 'negative'])\n",
    "\n",
    "# Generate a word cloud image\n",
    "wordcloud = WordCloud(stopwords=stopwords.words('english'), background_color=\"white\").generate(negative_text)\n",
    "\n",
    "# Display the generated image:\n",
    "# the matplotlib way:\n",
    "plt.imshow(wordcloud, interpolation='bilinear')\n",
    "plt.axis(\"off\")\n",
    "plt.show()"
   ]
  },
  {
   "cell_type": "code",
   "execution_count": null,
   "metadata": {},
   "outputs": [],
   "source": [
    "positive_text = \" \".join(tweet for tweet in df_1['tweet_clean'][df_1['airline_sentiment'] == 'positive'])\n",
    "\n",
    "# Generate a word cloud image\n",
    "wordcloud = WordCloud(stopwords=stopwords.words('english'), background_color=\"white\").generate(positive_text)\n",
    "\n",
    "# Display the generated image:\n",
    "# the matplotlib way:\n",
    "plt.imshow(wordcloud, interpolation='bilinear')\n",
    "plt.axis(\"off\")\n",
    "plt.show()"
   ]
  },
  {
   "cell_type": "code",
   "execution_count": null,
   "metadata": {
    "scrolled": true
   },
   "outputs": [],
   "source": [
    "neutral_text = \" \".join(tweet for tweet in df_1['tweet_clean'][df_1['airline_sentiment'] == 'neutral'])\n",
    "\n",
    "# Generate a word cloud image\n",
    "wordcloud = WordCloud(stopwords=stopwords.words('english'), background_color=\"white\").generate(neutral_text)\n",
    "\n",
    "# Display the generated image:\n",
    "# the matplotlib way:\n",
    "plt.imshow(wordcloud, interpolation='bilinear')\n",
    "plt.axis(\"off\")\n",
    "plt.show()"
   ]
  },
  {
   "cell_type": "markdown",
   "metadata": {},
   "source": [
    "## Model Building"
   ]
  },
  {
   "cell_type": "markdown",
   "metadata": {},
   "source": [
    "### Vectorizer"
   ]
  },
  {
   "cell_type": "code",
   "execution_count": 40,
   "metadata": {},
   "outputs": [],
   "source": [
    "from sklearn.feature_extraction.text import CountVectorizer\n",
    "from sklearn.feature_extraction.text import TfidfVectorizer"
   ]
  },
  {
   "cell_type": "code",
   "execution_count": 43,
   "metadata": {},
   "outputs": [],
   "source": [
    "cv = CountVectorizer()\n",
    "cv_text = cv.fit_transform(df_1['tweet_clean'])"
   ]
  },
  {
   "cell_type": "code",
   "execution_count": 44,
   "metadata": {},
   "outputs": [],
   "source": [
    "tf=TfidfVectorizer()\n",
    "tf_text= tf.fit_transform(df_1['tweet_clean'])"
   ]
  },
  {
   "cell_type": "markdown",
   "metadata": {},
   "source": [
    "### Split into Train and Test"
   ]
  },
  {
   "cell_type": "code",
   "execution_count": 48,
   "metadata": {},
   "outputs": [],
   "source": [
    "from sklearn.model_selection import train_test_split\n",
    "from sklearn.model_selection import KFold\n",
    "import time\n",
    "\n",
    "from sklearn.model_selection import RandomizedSearchCV\n",
    "from sklearn.model_selection import GridSearchCV\n",
    "from scipy import stats"
   ]
  },
  {
   "cell_type": "code",
   "execution_count": 45,
   "metadata": {
    "scrolled": true
   },
   "outputs": [],
   "source": [
    "# Split the data between train and test\n",
    "X_train_cv, X_test_cv, y_train_cv, y_test_cv = train_test_split(cv_text, df_1['airline_sentiment'],\n",
    "                                                                test_size=0.33, shuffle=True, random_state = 42)\n",
    "X_train_tf, X_test_tf, y_train_tf, y_test_tf = train_test_split(tf_text, df_1['airline_sentiment'], \n",
    "                                                                test_size=0.33, shuffle=True, random_state = 42)\n",
    "\n",
    "# have the model be split into 10 folds\n",
    "kfold = KFold(n_splits=3, shuffle=True, random_state=42)"
   ]
  },
  {
   "cell_type": "markdown",
   "metadata": {},
   "source": [
    "### MultinomialNB Classifier"
   ]
  },
  {
   "cell_type": "code",
   "execution_count": 58,
   "metadata": {},
   "outputs": [],
   "source": [
    "from sklearn.naive_bayes import MultinomialNB\n",
    "\n",
    "clf_mnb = MultinomialNB()\n",
    "\n",
    "hyperparameters = {'alpha': [0.001, 0.01, 0.1, 0, 10, 20, 30, 40, 50, 60, 70, \n",
    "                             80, 90, 100]}"
   ]
  },
  {
   "cell_type": "code",
   "execution_count": 59,
   "metadata": {},
   "outputs": [
    {
     "name": "stdout",
     "output_type": "stream",
     "text": [
      "9.3510000705719\n"
     ]
    }
   ],
   "source": [
    "t0 = time.time()\n",
    "\n",
    "clf_mnb_gridcv = GridSearchCV(estimator=clf_mnb, \n",
    "                              param_grid=hyperparameters, \n",
    "                              scoring='f1_weighted', \n",
    "                              cv=kfold, \n",
    "                              n_jobs=-1, \n",
    "                              return_train_score=True)\n",
    "\n",
    "clf_mnb_gridcv.fit(X_train_cv, y_train_cv)\n",
    "\n",
    "t1 = time.time()\n",
    "timeit=t1-t0\n",
    "print(timeit)"
   ]
  },
  {
   "cell_type": "code",
   "execution_count": 61,
   "metadata": {},
   "outputs": [
    {
     "name": "stdout",
     "output_type": "stream",
     "text": [
      "Training Score = 0.925 (0.000)\n",
      "Validation Score = 0.878 (0.004)\n"
     ]
    }
   ],
   "source": [
    "training_score = clf_mnb_gridcv.cv_results_['mean_train_score'][clf_mnb_gridcv.best_index_]\n",
    "training_std = clf_mnb_gridcv.cv_results_['std_train_score'][clf_mnb_gridcv.best_index_]\n",
    "print(\"Training Score = {:.3f}\".format(training_score)\n",
    "        + \" ({:.3f})\".format(training_std))\n",
    "\n",
    "validation_score = clf_mnb_gridcv.best_score_\n",
    "test_std = clf_mnb_gridcv.cv_results_['std_test_score'][clf_mnb_gridcv.best_index_]\n",
    "print(\"Validation Score = {:.3f}\".format(validation_score)\n",
    "          + \" ({:.3f})\".format(test_std))"
   ]
  },
  {
   "cell_type": "code",
   "execution_count": 60,
   "metadata": {},
   "outputs": [
    {
     "name": "stdout",
     "output_type": "stream",
     "text": [
      "9.259999990463257\n"
     ]
    }
   ],
   "source": [
    "t0 = time.time()\n",
    "\n",
    "clf_mnb_gridtf = GridSearchCV(estimator=clf_mnb, \n",
    "                              param_grid=hyperparameters, \n",
    "                              scoring='f1_weighted', \n",
    "                              cv=kfold, \n",
    "                              n_jobs=-1, \n",
    "                              return_train_score=True)\n",
    "\n",
    "clf_mnb_gridtf.fit(X_train_tf, y_train_tf)\n",
    "\n",
    "t1 = time.time()\n",
    "timeit=t1-t0\n",
    "print(timeit)"
   ]
  },
  {
   "cell_type": "code",
   "execution_count": 62,
   "metadata": {},
   "outputs": [
    {
     "name": "stdout",
     "output_type": "stream",
     "text": [
      "Training Score = 0.919 (0.000)\n",
      "Validation Score = 0.878 (0.005)\n"
     ]
    }
   ],
   "source": [
    "training_score = clf_mnb_gridtf.cv_results_['mean_train_score'][clf_mnb_gridtf.best_index_]\n",
    "training_std = clf_mnb_gridtf.cv_results_['std_train_score'][clf_mnb_gridtf.best_index_]\n",
    "print(\"Training Score = {:.3f}\".format(training_score)\n",
    "        + \" ({:.3f})\".format(training_std))\n",
    "\n",
    "validation_score = clf_mnb_gridtf.best_score_\n",
    "test_std = clf_mnb_gridtf.cv_results_['std_test_score'][clf_mnb_gridtf.best_index_]\n",
    "print(\"Validation Score = {:.3f}\".format(validation_score)\n",
    "          + \" ({:.3f})\".format(test_std))"
   ]
  },
  {
   "cell_type": "markdown",
   "metadata": {},
   "source": [
    "### SVC Classifier"
   ]
  },
  {
   "cell_type": "code",
   "execution_count": 63,
   "metadata": {},
   "outputs": [],
   "source": [
    "# import the required module from scikit learn\n",
    "from sklearn.svm import LinearSVC\n",
    "\n",
    "clf_svc = LinearSVC()\n",
    "\n",
    "hyperparameters = {'C': [1, 11, 21, 31, 41, 51, 61, 71, 81, 91], \n",
    "                   'tol': [0.01, 0.0001, 1e-09]\n",
    "                  }"
   ]
  },
  {
   "cell_type": "code",
   "execution_count": 64,
   "metadata": {
    "scrolled": true
   },
   "outputs": [
    {
     "name": "stdout",
     "output_type": "stream",
     "text": [
      "956.3129999637604\n"
     ]
    }
   ],
   "source": [
    "t0 = time.time()\n",
    "\n",
    "clf_svc_gridcv = GridSearchCV(estimator=clf_svc, \n",
    "                              param_grid=hyperparameters, \n",
    "                              scoring='f1_weighted', \n",
    "                              cv=kfold, \n",
    "                              n_jobs=-1,\n",
    "                              return_train_score=True)\n",
    "\n",
    "clf_svc_gridcv.fit(X_train_cv, y_train_cv)\n",
    "\n",
    "t1 = time.time()\n",
    "timeit=t1-t0\n",
    "print(timeit)"
   ]
  },
  {
   "cell_type": "code",
   "execution_count": 66,
   "metadata": {},
   "outputs": [
    {
     "name": "stdout",
     "output_type": "stream",
     "text": [
      "Training Score = 0.954 (0.000)\n",
      "Validation Score = 0.891 (0.004)\n"
     ]
    }
   ],
   "source": [
    "training_score = clf_svc_gridcv.cv_results_['mean_train_score'][clf_svc_gridcv.best_index_]\n",
    "training_std = clf_svc_gridcv.cv_results_['std_train_score'][clf_svc_gridcv.best_index_]\n",
    "print(\"Training Score = {:.3f}\".format(training_score)\n",
    "        + \" ({:.3f})\".format(training_std))\n",
    "\n",
    "validation_score = clf_svc_gridcv.best_score_\n",
    "test_std = clf_svc_gridcv.cv_results_['std_test_score'][clf_svc_gridcv.best_index_]\n",
    "print(\"Validation Score = {:.3f}\".format(validation_score)\n",
    "          + \" ({:.3f})\".format(test_std))"
   ]
  },
  {
   "cell_type": "code",
   "execution_count": null,
   "metadata": {},
   "outputs": [],
   "source": [
    "t0 = time.time()\n",
    "\n",
    "clf_svc_gridtf = GridSearchCV(estimator=clf_svc, \n",
    "                              param_grid=hyperparameters, \n",
    "                              scoring='f1_weighted', \n",
    "                              cv=kfold, \n",
    "                              n_jobs=-1,\n",
    "                              return_train_score=True)\n",
    "\n",
    "clf_svc_gridtf.fit(X_train_tf, y_train_tf)\n",
    "\n",
    "t1 = time.time()\n",
    "timeit=t1-t0\n",
    "print(timeit)"
   ]
  },
  {
   "cell_type": "code",
   "execution_count": null,
   "metadata": {},
   "outputs": [],
   "source": [
    "training_score = clf_svc_gridtf.cv_results_['mean_train_score'][clf_svc_gridtf.best_index_]\n",
    "training_std = clf_svc_gridtf.cv_results_['std_train_score'][clf_svc_gridtf.best_index_]\n",
    "print(\"Training Score = {:.3f}\".format(training_score)\n",
    "        + \" ({:.3f})\".format(training_std))\n",
    "\n",
    "validation_score = clf_svc_gridtf.best_score_\n",
    "test_std = clf_svc_gridtf.cv_results_['std_test_score'][clf_svc_gridtf.best_index_]\n",
    "print(\"Validation Score = {:.3f}\".format(validation_score)\n",
    "          + \" ({:.3f})\".format(test_std))"
   ]
  },
  {
   "cell_type": "markdown",
   "metadata": {},
   "source": [
    "### Random Forest Classifier"
   ]
  },
  {
   "cell_type": "code",
   "execution_count": null,
   "metadata": {},
   "outputs": [],
   "source": [
    "from sklearn.ensemble import RandomForestClassifier\n",
    "\n",
    "clf_rfc = RandomForestClassifier()\n",
    "\n",
    "hyperparameters = {'n_estimators':stats.randint(10,300), \n",
    "                   'criterion':['gini','entropy'], \n",
    "                   'min_samples_split':stats.randint(2,9), \n",
    "                   'bootstrap':[True,False]\n",
    "                  }"
   ]
  },
  {
   "cell_type": "code",
   "execution_count": null,
   "metadata": {},
   "outputs": [],
   "source": [
    "t0 = time.time()\n",
    "\n",
    "clf_randcv_rfc = RandomizedSearchCV(estimator=clf_rfc, \n",
    "                                param_distributions=hyperparameters, \n",
    "                                scoring='f1_weighted', \n",
    "                                cv=kfold, \n",
    "                                random_state=42, \n",
    "                                n_jobs=-1, \n",
    "                                n_iter=1000, \n",
    "                                return_train_score=True)\n",
    "\n",
    "clf_randcv_rfc.fit(X_train_cv, y_train_cv)\n",
    "\n",
    "t1 = time.time()\n",
    "timeit=t1-t0\n",
    "print(timeit)"
   ]
  },
  {
   "cell_type": "code",
   "execution_count": null,
   "metadata": {},
   "outputs": [],
   "source": [
    "training_score = clf_randcv_rfc.cv_results_['mean_train_score'][clf_randcv_rfc.best_index_]\n",
    "training_std = clf_randcv_rfc.cv_results_['std_train_score'][clf_randcv_rfc.best_index_]\n",
    "print(\"Training Score = {:.3f}\".format(training_score)\n",
    "        + \" ({:.3f})\".format(training_std))\n",
    "\n",
    "validation_score = clf_randcv_rfc.best_score_\n",
    "test_std = clf_randcv_rfc.cv_results_['std_test_score'][clf_randcv_rfc.best_index_]\n",
    "print(\"Validation Score = {:.3f}\".format(validation_score)\n",
    "          + \" ({:.3f})\".format(test_std))"
   ]
  },
  {
   "cell_type": "code",
   "execution_count": null,
   "metadata": {},
   "outputs": [],
   "source": [
    "t0 = time.time()\n",
    "\n",
    "clf_randtf_rfc = RandomizedSearchCV(estimator=clf_rfc, \n",
    "                                param_distributions=hyperparameters, \n",
    "                                scoring='f1_weighted', \n",
    "                                cv=kfold, \n",
    "                                random_state=42, \n",
    "                                n_jobs=-1, \n",
    "                                n_iter=1000, \n",
    "                                return_train_score=True)\n",
    "\n",
    "clf_randtf_rfc.fit(X_train_tf, y_train_tf)\n",
    "\n",
    "t1 = time.time()\n",
    "timeit=t1-t0\n",
    "print(timeit)"
   ]
  },
  {
   "cell_type": "code",
   "execution_count": null,
   "metadata": {},
   "outputs": [],
   "source": [
    "training_score = clf_randtf_rfc.cv_results_['mean_train_score'][clf_randtf_rfc.best_index_]\n",
    "training_std = clf_randtf_rfc.cv_results_['std_train_score'][clf_randtf_rfc.best_index_]\n",
    "print(\"Training Score = {:.3f}\".format(training_score)\n",
    "        + \" ({:.3f})\".format(training_std))\n",
    "\n",
    "validation_score = clf_randtf_rfc.best_score_\n",
    "test_std = clf_randtf_rfc.cv_results_['std_test_score'][clf_randtf_rfc.best_index_]\n",
    "print(\"Validation Score = {:.3f}\".format(validation_score)\n",
    "          + \" ({:.3f})\".format(test_std))"
   ]
  },
  {
   "cell_type": "code",
   "execution_count": null,
   "metadata": {},
   "outputs": [],
   "source": [
    "# Install a pip package in the current Jupyter kernel\n",
    "# import sys\n",
    "# !{sys.executable} -m pip install sklearn_pandas"
   ]
  }
 ],
 "metadata": {
  "kernelspec": {
   "display_name": "Python 3",
   "language": "python",
   "name": "python3"
  },
  "language_info": {
   "codemirror_mode": {
    "name": "ipython",
    "version": 3
   },
   "file_extension": ".py",
   "mimetype": "text/x-python",
   "name": "python",
   "nbconvert_exporter": "python",
   "pygments_lexer": "ipython3",
   "version": "3.7.3"
  }
 },
 "nbformat": 4,
 "nbformat_minor": 2
}
