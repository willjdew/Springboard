{
 "cells": [
  {
   "cell_type": "code",
   "execution_count": 1,
   "metadata": {},
   "outputs": [],
   "source": [
    "import pandas as pd\n",
    "import numpy as np\n",
    "import matplotlib.pyplot as plt\n",
    "%matplotlib inline\n",
    "import seaborn as sns\n",
    "import re"
   ]
  },
  {
   "cell_type": "code",
   "execution_count": 2,
   "metadata": {},
   "outputs": [],
   "source": [
    "df = pd.read_csv('../data/Tweets.csv')"
   ]
  },
  {
   "cell_type": "code",
   "execution_count": 3,
   "metadata": {
    "scrolled": true
   },
   "outputs": [
    {
     "data": {
      "text/html": [
       "<div>\n",
       "<style scoped>\n",
       "    .dataframe tbody tr th:only-of-type {\n",
       "        vertical-align: middle;\n",
       "    }\n",
       "\n",
       "    .dataframe tbody tr th {\n",
       "        vertical-align: top;\n",
       "    }\n",
       "\n",
       "    .dataframe thead th {\n",
       "        text-align: right;\n",
       "    }\n",
       "</style>\n",
       "<table border=\"1\" class=\"dataframe\">\n",
       "  <thead>\n",
       "    <tr style=\"text-align: right;\">\n",
       "      <th></th>\n",
       "      <th>tweet_id</th>\n",
       "      <th>airline_sentiment</th>\n",
       "      <th>airline_sentiment_confidence</th>\n",
       "      <th>negativereason</th>\n",
       "      <th>negativereason_confidence</th>\n",
       "      <th>airline</th>\n",
       "      <th>airline_sentiment_gold</th>\n",
       "      <th>name</th>\n",
       "      <th>negativereason_gold</th>\n",
       "      <th>retweet_count</th>\n",
       "      <th>text</th>\n",
       "      <th>tweet_coord</th>\n",
       "      <th>tweet_created</th>\n",
       "      <th>tweet_location</th>\n",
       "      <th>user_timezone</th>\n",
       "    </tr>\n",
       "  </thead>\n",
       "  <tbody>\n",
       "    <tr>\n",
       "      <th>0</th>\n",
       "      <td>570306133677760513</td>\n",
       "      <td>neutral</td>\n",
       "      <td>1.0000</td>\n",
       "      <td>NaN</td>\n",
       "      <td>NaN</td>\n",
       "      <td>Virgin America</td>\n",
       "      <td>NaN</td>\n",
       "      <td>cairdin</td>\n",
       "      <td>NaN</td>\n",
       "      <td>0</td>\n",
       "      <td>@VirginAmerica What @dhepburn said.</td>\n",
       "      <td>NaN</td>\n",
       "      <td>2015-02-24 11:35:52 -0800</td>\n",
       "      <td>NaN</td>\n",
       "      <td>Eastern Time (US &amp; Canada)</td>\n",
       "    </tr>\n",
       "    <tr>\n",
       "      <th>1</th>\n",
       "      <td>570301130888122368</td>\n",
       "      <td>positive</td>\n",
       "      <td>0.3486</td>\n",
       "      <td>NaN</td>\n",
       "      <td>0.0000</td>\n",
       "      <td>Virgin America</td>\n",
       "      <td>NaN</td>\n",
       "      <td>jnardino</td>\n",
       "      <td>NaN</td>\n",
       "      <td>0</td>\n",
       "      <td>@VirginAmerica plus you've added commercials t...</td>\n",
       "      <td>NaN</td>\n",
       "      <td>2015-02-24 11:15:59 -0800</td>\n",
       "      <td>NaN</td>\n",
       "      <td>Pacific Time (US &amp; Canada)</td>\n",
       "    </tr>\n",
       "    <tr>\n",
       "      <th>2</th>\n",
       "      <td>570301083672813571</td>\n",
       "      <td>neutral</td>\n",
       "      <td>0.6837</td>\n",
       "      <td>NaN</td>\n",
       "      <td>NaN</td>\n",
       "      <td>Virgin America</td>\n",
       "      <td>NaN</td>\n",
       "      <td>yvonnalynn</td>\n",
       "      <td>NaN</td>\n",
       "      <td>0</td>\n",
       "      <td>@VirginAmerica I didn't today... Must mean I n...</td>\n",
       "      <td>NaN</td>\n",
       "      <td>2015-02-24 11:15:48 -0800</td>\n",
       "      <td>Lets Play</td>\n",
       "      <td>Central Time (US &amp; Canada)</td>\n",
       "    </tr>\n",
       "    <tr>\n",
       "      <th>3</th>\n",
       "      <td>570301031407624196</td>\n",
       "      <td>negative</td>\n",
       "      <td>1.0000</td>\n",
       "      <td>Bad Flight</td>\n",
       "      <td>0.7033</td>\n",
       "      <td>Virgin America</td>\n",
       "      <td>NaN</td>\n",
       "      <td>jnardino</td>\n",
       "      <td>NaN</td>\n",
       "      <td>0</td>\n",
       "      <td>@VirginAmerica it's really aggressive to blast...</td>\n",
       "      <td>NaN</td>\n",
       "      <td>2015-02-24 11:15:36 -0800</td>\n",
       "      <td>NaN</td>\n",
       "      <td>Pacific Time (US &amp; Canada)</td>\n",
       "    </tr>\n",
       "    <tr>\n",
       "      <th>4</th>\n",
       "      <td>570300817074462722</td>\n",
       "      <td>negative</td>\n",
       "      <td>1.0000</td>\n",
       "      <td>Can't Tell</td>\n",
       "      <td>1.0000</td>\n",
       "      <td>Virgin America</td>\n",
       "      <td>NaN</td>\n",
       "      <td>jnardino</td>\n",
       "      <td>NaN</td>\n",
       "      <td>0</td>\n",
       "      <td>@VirginAmerica and it's a really big bad thing...</td>\n",
       "      <td>NaN</td>\n",
       "      <td>2015-02-24 11:14:45 -0800</td>\n",
       "      <td>NaN</td>\n",
       "      <td>Pacific Time (US &amp; Canada)</td>\n",
       "    </tr>\n",
       "  </tbody>\n",
       "</table>\n",
       "</div>"
      ],
      "text/plain": [
       "             tweet_id airline_sentiment  airline_sentiment_confidence  \\\n",
       "0  570306133677760513           neutral                        1.0000   \n",
       "1  570301130888122368          positive                        0.3486   \n",
       "2  570301083672813571           neutral                        0.6837   \n",
       "3  570301031407624196          negative                        1.0000   \n",
       "4  570300817074462722          negative                        1.0000   \n",
       "\n",
       "  negativereason  negativereason_confidence         airline  \\\n",
       "0            NaN                        NaN  Virgin America   \n",
       "1            NaN                     0.0000  Virgin America   \n",
       "2            NaN                        NaN  Virgin America   \n",
       "3     Bad Flight                     0.7033  Virgin America   \n",
       "4     Can't Tell                     1.0000  Virgin America   \n",
       "\n",
       "  airline_sentiment_gold        name negativereason_gold  retweet_count  \\\n",
       "0                    NaN     cairdin                 NaN              0   \n",
       "1                    NaN    jnardino                 NaN              0   \n",
       "2                    NaN  yvonnalynn                 NaN              0   \n",
       "3                    NaN    jnardino                 NaN              0   \n",
       "4                    NaN    jnardino                 NaN              0   \n",
       "\n",
       "                                                text tweet_coord  \\\n",
       "0                @VirginAmerica What @dhepburn said.         NaN   \n",
       "1  @VirginAmerica plus you've added commercials t...         NaN   \n",
       "2  @VirginAmerica I didn't today... Must mean I n...         NaN   \n",
       "3  @VirginAmerica it's really aggressive to blast...         NaN   \n",
       "4  @VirginAmerica and it's a really big bad thing...         NaN   \n",
       "\n",
       "               tweet_created tweet_location               user_timezone  \n",
       "0  2015-02-24 11:35:52 -0800            NaN  Eastern Time (US & Canada)  \n",
       "1  2015-02-24 11:15:59 -0800            NaN  Pacific Time (US & Canada)  \n",
       "2  2015-02-24 11:15:48 -0800      Lets Play  Central Time (US & Canada)  \n",
       "3  2015-02-24 11:15:36 -0800            NaN  Pacific Time (US & Canada)  \n",
       "4  2015-02-24 11:14:45 -0800            NaN  Pacific Time (US & Canada)  "
      ]
     },
     "execution_count": 3,
     "metadata": {},
     "output_type": "execute_result"
    }
   ],
   "source": [
    "df.head()"
   ]
  },
  {
   "cell_type": "code",
   "execution_count": 4,
   "metadata": {
    "scrolled": true
   },
   "outputs": [
    {
     "name": "stdout",
     "output_type": "stream",
     "text": [
      "<class 'pandas.core.frame.DataFrame'>\n",
      "RangeIndex: 14640 entries, 0 to 14639\n",
      "Data columns (total 15 columns):\n",
      "tweet_id                        14640 non-null int64\n",
      "airline_sentiment               14640 non-null object\n",
      "airline_sentiment_confidence    14640 non-null float64\n",
      "negativereason                  9178 non-null object\n",
      "negativereason_confidence       10522 non-null float64\n",
      "airline                         14640 non-null object\n",
      "airline_sentiment_gold          40 non-null object\n",
      "name                            14640 non-null object\n",
      "negativereason_gold             32 non-null object\n",
      "retweet_count                   14640 non-null int64\n",
      "text                            14640 non-null object\n",
      "tweet_coord                     1019 non-null object\n",
      "tweet_created                   14640 non-null object\n",
      "tweet_location                  9907 non-null object\n",
      "user_timezone                   9820 non-null object\n",
      "dtypes: float64(2), int64(2), object(11)\n",
      "memory usage: 1.7+ MB\n"
     ]
    }
   ],
   "source": [
    "df.info()"
   ]
  },
  {
   "cell_type": "code",
   "execution_count": 5,
   "metadata": {},
   "outputs": [],
   "source": [
    "df_1 = df.drop(['airline_sentiment_gold', 'negativereason_gold', \n",
    "                'tweet_coord'], axis=1)"
   ]
  },
  {
   "cell_type": "markdown",
   "metadata": {},
   "source": [
    "Looking we see that some columns have really low non-null object counts.  Columns airline_sentiment_gold has 40, negativereason_gold has 32, and twee_coord only has 1019.  These columns with a lot of missing values won't be of use in the model and will be dropped.  "
   ]
  },
  {
   "cell_type": "code",
   "execution_count": 6,
   "metadata": {},
   "outputs": [
    {
     "data": {
      "text/html": [
       "<div>\n",
       "<style scoped>\n",
       "    .dataframe tbody tr th:only-of-type {\n",
       "        vertical-align: middle;\n",
       "    }\n",
       "\n",
       "    .dataframe tbody tr th {\n",
       "        vertical-align: top;\n",
       "    }\n",
       "\n",
       "    .dataframe thead th {\n",
       "        text-align: right;\n",
       "    }\n",
       "</style>\n",
       "<table border=\"1\" class=\"dataframe\">\n",
       "  <thead>\n",
       "    <tr style=\"text-align: right;\">\n",
       "      <th></th>\n",
       "      <th>tweet_id</th>\n",
       "      <th>airline_sentiment</th>\n",
       "      <th>airline_sentiment_confidence</th>\n",
       "      <th>negativereason</th>\n",
       "      <th>negativereason_confidence</th>\n",
       "      <th>airline</th>\n",
       "      <th>airline_sentiment_gold</th>\n",
       "      <th>name</th>\n",
       "      <th>negativereason_gold</th>\n",
       "      <th>retweet_count</th>\n",
       "      <th>text</th>\n",
       "      <th>tweet_coord</th>\n",
       "      <th>tweet_created</th>\n",
       "      <th>tweet_location</th>\n",
       "      <th>user_timezone</th>\n",
       "    </tr>\n",
       "  </thead>\n",
       "  <tbody>\n",
       "    <tr>\n",
       "      <th>12033</th>\n",
       "      <td>569600137296633856</td>\n",
       "      <td>positive</td>\n",
       "      <td>0.9236</td>\n",
       "      <td>NaN</td>\n",
       "      <td>0.0</td>\n",
       "      <td>American</td>\n",
       "      <td>positive</td>\n",
       "      <td>douglaskgordon</td>\n",
       "      <td>NaN</td>\n",
       "      <td>0</td>\n",
       "      <td>@AmericanAir Thank you.....you do the same!!</td>\n",
       "      <td>NaN</td>\n",
       "      <td>2015-02-22 12:50:30 -0800</td>\n",
       "      <td>Caribbean, New York and Miami.</td>\n",
       "      <td>Indiana (East)</td>\n",
       "    </tr>\n",
       "    <tr>\n",
       "      <th>14556</th>\n",
       "      <td>569600137296633856</td>\n",
       "      <td>positive</td>\n",
       "      <td>1.0000</td>\n",
       "      <td>NaN</td>\n",
       "      <td>NaN</td>\n",
       "      <td>American</td>\n",
       "      <td>NaN</td>\n",
       "      <td>douglaskgordon</td>\n",
       "      <td>NaN</td>\n",
       "      <td>0</td>\n",
       "      <td>@AmericanAir Thank you.....you do the same!!</td>\n",
       "      <td>NaN</td>\n",
       "      <td>2015-02-22 12:50:30 -0800</td>\n",
       "      <td>Caribbean, New York and Miami.</td>\n",
       "      <td>Indiana (East)</td>\n",
       "    </tr>\n",
       "  </tbody>\n",
       "</table>\n",
       "</div>"
      ],
      "text/plain": [
       "                 tweet_id airline_sentiment  airline_sentiment_confidence  \\\n",
       "12033  569600137296633856          positive                        0.9236   \n",
       "14556  569600137296633856          positive                        1.0000   \n",
       "\n",
       "      negativereason  negativereason_confidence   airline  \\\n",
       "12033            NaN                        0.0  American   \n",
       "14556            NaN                        NaN  American   \n",
       "\n",
       "      airline_sentiment_gold            name negativereason_gold  \\\n",
       "12033               positive  douglaskgordon                 NaN   \n",
       "14556                    NaN  douglaskgordon                 NaN   \n",
       "\n",
       "       retweet_count                                          text  \\\n",
       "12033              0  @AmericanAir Thank you.....you do the same!!   \n",
       "14556              0  @AmericanAir Thank you.....you do the same!!   \n",
       "\n",
       "      tweet_coord              tweet_created                  tweet_location  \\\n",
       "12033         NaN  2015-02-22 12:50:30 -0800  Caribbean, New York and Miami.   \n",
       "14556         NaN  2015-02-22 12:50:30 -0800  Caribbean, New York and Miami.   \n",
       "\n",
       "        user_timezone  \n",
       "12033  Indiana (East)  \n",
       "14556  Indiana (East)  "
      ]
     },
     "execution_count": 6,
     "metadata": {},
     "output_type": "execute_result"
    }
   ],
   "source": [
    "df['tweet_id'].unique().shape\n",
    "df[df['tweet_id'] == 569600137296633856]"
   ]
  },
  {
   "cell_type": "code",
   "execution_count": 7,
   "metadata": {
    "scrolled": false
   },
   "outputs": [],
   "source": [
    "df_1.sort_values('tweet_id', inplace=True)\n",
    "df_1.drop_duplicates(subset='tweet_id', keep=False, inplace=True)"
   ]
  },
  {
   "cell_type": "code",
   "execution_count": 8,
   "metadata": {
    "scrolled": true
   },
   "outputs": [
    {
     "data": {
      "text/plain": [
       "(14330, 12)"
      ]
     },
     "execution_count": 8,
     "metadata": {},
     "output_type": "execute_result"
    }
   ],
   "source": [
    "df_1.shape"
   ]
  },
  {
   "cell_type": "code",
   "execution_count": 9,
   "metadata": {},
   "outputs": [],
   "source": [
    "df_1 = df_1.drop(['airline_sentiment_confidence', 'negativereason_confidence', 'retweet_count'], axis=1)"
   ]
  },
  {
   "cell_type": "markdown",
   "metadata": {},
   "source": [
    "Looking at the quantative data we see that the max for retweet_count is 44.  That is too low to be useful for the model.  \n",
    "\n",
    "The other quantative columns are tweet_id that is an unique key to each tweet.  The two other columns airline_sentiment_confidence and negativereason_confidence seem to be human confidence of rating the tweets.  They will not be helpful and will be dropped."
   ]
  },
  {
   "cell_type": "code",
   "execution_count": 10,
   "metadata": {},
   "outputs": [
    {
     "data": {
      "text/html": [
       "<div>\n",
       "<style scoped>\n",
       "    .dataframe tbody tr th:only-of-type {\n",
       "        vertical-align: middle;\n",
       "    }\n",
       "\n",
       "    .dataframe tbody tr th {\n",
       "        vertical-align: top;\n",
       "    }\n",
       "\n",
       "    .dataframe thead th {\n",
       "        text-align: right;\n",
       "    }\n",
       "</style>\n",
       "<table border=\"1\" class=\"dataframe\">\n",
       "  <thead>\n",
       "    <tr style=\"text-align: right;\">\n",
       "      <th></th>\n",
       "      <th>tweet_id</th>\n",
       "      <th>airline_sentiment</th>\n",
       "      <th>negativereason</th>\n",
       "      <th>airline</th>\n",
       "      <th>name</th>\n",
       "      <th>text</th>\n",
       "      <th>tweet_created</th>\n",
       "      <th>tweet_location</th>\n",
       "      <th>user_timezone</th>\n",
       "    </tr>\n",
       "  </thead>\n",
       "  <tbody>\n",
       "    <tr>\n",
       "      <th>8965</th>\n",
       "      <td>567588278875213824</td>\n",
       "      <td>neutral</td>\n",
       "      <td>NaN</td>\n",
       "      <td>Delta</td>\n",
       "      <td>JetBlueNews</td>\n",
       "      <td>@JetBlue's new CEO seeks the right balance to ...</td>\n",
       "      <td>2015-02-16 23:36:05 -0800</td>\n",
       "      <td>USA</td>\n",
       "      <td>Sydney</td>\n",
       "    </tr>\n",
       "    <tr>\n",
       "      <th>8964</th>\n",
       "      <td>567590027375702016</td>\n",
       "      <td>negative</td>\n",
       "      <td>Can't Tell</td>\n",
       "      <td>Delta</td>\n",
       "      <td>nesi_1992</td>\n",
       "      <td>@JetBlue is REALLY getting on my nerves !! 😡😡 ...</td>\n",
       "      <td>2015-02-16 23:43:02 -0800</td>\n",
       "      <td>undecided</td>\n",
       "      <td>Pacific Time (US &amp; Canada)</td>\n",
       "    </tr>\n",
       "    <tr>\n",
       "      <th>4325</th>\n",
       "      <td>567591480085463040</td>\n",
       "      <td>negative</td>\n",
       "      <td>Late Flight</td>\n",
       "      <td>United</td>\n",
       "      <td>CPoutloud</td>\n",
       "      <td>@united yes. We waited in line for almost an h...</td>\n",
       "      <td>2015-02-16 23:48:48 -0800</td>\n",
       "      <td>Washington, DC</td>\n",
       "      <td>NaN</td>\n",
       "    </tr>\n",
       "    <tr>\n",
       "      <th>4324</th>\n",
       "      <td>567592368451248130</td>\n",
       "      <td>negative</td>\n",
       "      <td>Late Flight</td>\n",
       "      <td>United</td>\n",
       "      <td>brenduch</td>\n",
       "      <td>@united the we got into the gate at IAH on tim...</td>\n",
       "      <td>2015-02-16 23:52:20 -0800</td>\n",
       "      <td>NaN</td>\n",
       "      <td>Buenos Aires</td>\n",
       "    </tr>\n",
       "    <tr>\n",
       "      <th>6745</th>\n",
       "      <td>567594449874587648</td>\n",
       "      <td>negative</td>\n",
       "      <td>Customer Service Issue</td>\n",
       "      <td>Southwest</td>\n",
       "      <td>VahidESQ</td>\n",
       "      <td>@SouthwestAir its cool that my bags take a bit...</td>\n",
       "      <td>2015-02-17 00:00:36 -0800</td>\n",
       "      <td>Los Angeles, CA</td>\n",
       "      <td>Pacific Time (US &amp; Canada)</td>\n",
       "    </tr>\n",
       "    <tr>\n",
       "      <th>4323</th>\n",
       "      <td>567594579310825473</td>\n",
       "      <td>negative</td>\n",
       "      <td>Bad Flight</td>\n",
       "      <td>United</td>\n",
       "      <td>brenduch</td>\n",
       "      <td>@united and don't hope for me having a nicer f...</td>\n",
       "      <td>2015-02-17 00:01:07 -0800</td>\n",
       "      <td>NaN</td>\n",
       "      <td>Buenos Aires</td>\n",
       "    </tr>\n",
       "    <tr>\n",
       "      <th>4322</th>\n",
       "      <td>567595670463205376</td>\n",
       "      <td>negative</td>\n",
       "      <td>Late Flight</td>\n",
       "      <td>United</td>\n",
       "      <td>CRomerDome</td>\n",
       "      <td>@united I like delays less than you because I'...</td>\n",
       "      <td>2015-02-17 00:05:27 -0800</td>\n",
       "      <td>Portland, OR</td>\n",
       "      <td>Pacific Time (US &amp; Canada)</td>\n",
       "    </tr>\n",
       "    <tr>\n",
       "      <th>4321</th>\n",
       "      <td>567614049425555457</td>\n",
       "      <td>negative</td>\n",
       "      <td>Customer Service Issue</td>\n",
       "      <td>United</td>\n",
       "      <td>JustOGG</td>\n",
       "      <td>@united, link to current status of flights/air...</td>\n",
       "      <td>2015-02-17 01:18:29 -0800</td>\n",
       "      <td>Tweets = My Opinion</td>\n",
       "      <td>Eastern Time (US &amp; Canada)</td>\n",
       "    </tr>\n",
       "    <tr>\n",
       "      <th>6744</th>\n",
       "      <td>567617081336950784</td>\n",
       "      <td>negative</td>\n",
       "      <td>Customer Service Issue</td>\n",
       "      <td>Southwest</td>\n",
       "      <td>mrshossruns</td>\n",
       "      <td>@SouthwestAir you guys there? Are we on hour 2...</td>\n",
       "      <td>2015-02-17 01:30:32 -0800</td>\n",
       "      <td>NaN</td>\n",
       "      <td>Eastern Time (US &amp; Canada)</td>\n",
       "    </tr>\n",
       "    <tr>\n",
       "      <th>4320</th>\n",
       "      <td>567617486703853568</td>\n",
       "      <td>negative</td>\n",
       "      <td>Customer Service Issue</td>\n",
       "      <td>United</td>\n",
       "      <td>feliciastoler</td>\n",
       "      <td>@united I tried 2 DM it would not go thru... n...</td>\n",
       "      <td>2015-02-17 01:32:09 -0800</td>\n",
       "      <td>New Jersey</td>\n",
       "      <td>Central Time (US &amp; Canada)</td>\n",
       "    </tr>\n",
       "    <tr>\n",
       "      <th>4319</th>\n",
       "      <td>567623209026334720</td>\n",
       "      <td>negative</td>\n",
       "      <td>Flight Booking Problems</td>\n",
       "      <td>United</td>\n",
       "      <td>markhlyon</td>\n",
       "      <td>Wanted to get my bag benefit, but instead get ...</td>\n",
       "      <td>2015-02-17 01:54:53 -0800</td>\n",
       "      <td>Washington, DC</td>\n",
       "      <td>Eastern Time (US &amp; Canada)</td>\n",
       "    </tr>\n",
       "    <tr>\n",
       "      <th>4318</th>\n",
       "      <td>567627253991735296</td>\n",
       "      <td>negative</td>\n",
       "      <td>Bad Flight</td>\n",
       "      <td>United</td>\n",
       "      <td>DBsViewOnThings</td>\n",
       "      <td>@united please see a flight attendant for what...</td>\n",
       "      <td>2015-02-17 02:10:58 -0800</td>\n",
       "      <td>NaN</td>\n",
       "      <td>Atlantic Time (Canada)</td>\n",
       "    </tr>\n",
       "    <tr>\n",
       "      <th>4317</th>\n",
       "      <td>567630296783155203</td>\n",
       "      <td>negative</td>\n",
       "      <td>Customer Service Issue</td>\n",
       "      <td>United</td>\n",
       "      <td>ljsbrooks</td>\n",
       "      <td>@united still waiting for a reply</td>\n",
       "      <td>2015-02-17 02:23:03 -0800</td>\n",
       "      <td>NaN</td>\n",
       "      <td>NaN</td>\n",
       "    </tr>\n",
       "    <tr>\n",
       "      <th>4316</th>\n",
       "      <td>567634106058821632</td>\n",
       "      <td>neutral</td>\n",
       "      <td>NaN</td>\n",
       "      <td>United</td>\n",
       "      <td>gwaki</td>\n",
       "      <td>@united even though technically after I land I...</td>\n",
       "      <td>2015-02-17 02:38:11 -0800</td>\n",
       "      <td>NaN</td>\n",
       "      <td>Central Time (US &amp; Canada)</td>\n",
       "    </tr>\n",
       "    <tr>\n",
       "      <th>11878</th>\n",
       "      <td>567643252753694721</td>\n",
       "      <td>neutral</td>\n",
       "      <td>NaN</td>\n",
       "      <td>US Airways</td>\n",
       "      <td>ashenfaced</td>\n",
       "      <td>@USAirways how's us 1797 looking today?</td>\n",
       "      <td>2015-02-17 03:14:32 -0800</td>\n",
       "      <td>Brighton</td>\n",
       "      <td>NaN</td>\n",
       "    </tr>\n",
       "    <tr>\n",
       "      <th>6743</th>\n",
       "      <td>567655489119326209</td>\n",
       "      <td>positive</td>\n",
       "      <td>NaN</td>\n",
       "      <td>Southwest</td>\n",
       "      <td>rjp1208</td>\n",
       "      <td>@SouthwestAir nice work on the update!</td>\n",
       "      <td>2015-02-17 04:03:09 -0800</td>\n",
       "      <td>NaN</td>\n",
       "      <td>Pacific Time (US &amp; Canada)</td>\n",
       "    </tr>\n",
       "    <tr>\n",
       "      <th>4315</th>\n",
       "      <td>567663136082513920</td>\n",
       "      <td>negative</td>\n",
       "      <td>Lost Luggage</td>\n",
       "      <td>United</td>\n",
       "      <td>hannahtorney</td>\n",
       "      <td>@united i have items of sentimental value that...</td>\n",
       "      <td>2015-02-17 04:33:32 -0800</td>\n",
       "      <td>Omagh/Belfast</td>\n",
       "      <td>London</td>\n",
       "    </tr>\n",
       "    <tr>\n",
       "      <th>6742</th>\n",
       "      <td>567663504102940672</td>\n",
       "      <td>negative</td>\n",
       "      <td>Late Flight</td>\n",
       "      <td>Southwest</td>\n",
       "      <td>followkashyap</td>\n",
       "      <td>@SouthwestAir We have been stuck in SJU for se...</td>\n",
       "      <td>2015-02-17 04:35:00 -0800</td>\n",
       "      <td>USA</td>\n",
       "      <td>Eastern Time (US &amp; Canada)</td>\n",
       "    </tr>\n",
       "    <tr>\n",
       "      <th>8963</th>\n",
       "      <td>567667301067915264</td>\n",
       "      <td>neutral</td>\n",
       "      <td>NaN</td>\n",
       "      <td>Delta</td>\n",
       "      <td>BritishAirNews</td>\n",
       "      <td>@JetBlue CEO weighs profits, flyers - @Chronic...</td>\n",
       "      <td>2015-02-17 04:50:05 -0800</td>\n",
       "      <td>UK</td>\n",
       "      <td>Sydney</td>\n",
       "    </tr>\n",
       "    <tr>\n",
       "      <th>11877</th>\n",
       "      <td>567670985403285504</td>\n",
       "      <td>negative</td>\n",
       "      <td>Customer Service Issue</td>\n",
       "      <td>US Airways</td>\n",
       "      <td>sevnthstar</td>\n",
       "      <td>@USAirways @AmericanAir How r u supposed to ch...</td>\n",
       "      <td>2015-02-17 05:04:44 -0800</td>\n",
       "      <td>often underwater</td>\n",
       "      <td>Pacific Time (US &amp; Canada)</td>\n",
       "    </tr>\n",
       "    <tr>\n",
       "      <th>8962</th>\n",
       "      <td>567671602280923136</td>\n",
       "      <td>positive</td>\n",
       "      <td>NaN</td>\n",
       "      <td>Delta</td>\n",
       "      <td>twinkletaters</td>\n",
       "      <td>@JetBlue Thanks! Her flight leaves at 2 but sh...</td>\n",
       "      <td>2015-02-17 05:07:11 -0800</td>\n",
       "      <td>Savannah, GA</td>\n",
       "      <td>NaN</td>\n",
       "    </tr>\n",
       "    <tr>\n",
       "      <th>4314</th>\n",
       "      <td>567676400933416960</td>\n",
       "      <td>negative</td>\n",
       "      <td>Late Flight</td>\n",
       "      <td>United</td>\n",
       "      <td>MiKasuga</td>\n",
       "      <td>@United is officially the worst, most delayed,...</td>\n",
       "      <td>2015-02-17 05:26:15 -0800</td>\n",
       "      <td>New York, NY</td>\n",
       "      <td>Eastern Time (US &amp; Canada)</td>\n",
       "    </tr>\n",
       "    <tr>\n",
       "      <th>6741</th>\n",
       "      <td>567676626855419904</td>\n",
       "      <td>negative</td>\n",
       "      <td>Customer Service Issue</td>\n",
       "      <td>Southwest</td>\n",
       "      <td>WorkingWify</td>\n",
       "      <td>@SouthwestAir won't answer their phones #Horri...</td>\n",
       "      <td>2015-02-17 05:27:09 -0800</td>\n",
       "      <td>America</td>\n",
       "      <td>NaN</td>\n",
       "    </tr>\n",
       "    <tr>\n",
       "      <th>11876</th>\n",
       "      <td>567679487383699456</td>\n",
       "      <td>negative</td>\n",
       "      <td>Customer Service Issue</td>\n",
       "      <td>US Airways</td>\n",
       "      <td>DonnyYardas</td>\n",
       "      <td>@USAirways reservations had me on hold for 2 h...</td>\n",
       "      <td>2015-02-17 05:38:31 -0800</td>\n",
       "      <td>Somewhere Creating</td>\n",
       "      <td>Eastern Time (US &amp; Canada)</td>\n",
       "    </tr>\n",
       "    <tr>\n",
       "      <th>8961</th>\n",
       "      <td>567680108002291712</td>\n",
       "      <td>positive</td>\n",
       "      <td>NaN</td>\n",
       "      <td>Delta</td>\n",
       "      <td>TravellerLukose</td>\n",
       "      <td>@JetBlue No worries. Delay was minor and dealt...</td>\n",
       "      <td>2015-02-17 05:40:59 -0800</td>\n",
       "      <td>NaN</td>\n",
       "      <td>NaN</td>\n",
       "    </tr>\n",
       "    <tr>\n",
       "      <th>6740</th>\n",
       "      <td>567686758708817921</td>\n",
       "      <td>neutral</td>\n",
       "      <td>NaN</td>\n",
       "      <td>Southwest</td>\n",
       "      <td>Tinygami</td>\n",
       "      <td>@SouthwestAir Is it a temporary site glitch or...</td>\n",
       "      <td>2015-02-17 06:07:25 -0800</td>\n",
       "      <td>Michigan</td>\n",
       "      <td>Tehran</td>\n",
       "    </tr>\n",
       "    <tr>\n",
       "      <th>4313</th>\n",
       "      <td>567686845903826947</td>\n",
       "      <td>neutral</td>\n",
       "      <td>NaN</td>\n",
       "      <td>United</td>\n",
       "      <td>AsianAdidasGirl</td>\n",
       "      <td>@united clicked on the link and got this? #con...</td>\n",
       "      <td>2015-02-17 06:07:45 -0800</td>\n",
       "      <td>Houston</td>\n",
       "      <td>Central Time (US &amp; Canada)</td>\n",
       "    </tr>\n",
       "    <tr>\n",
       "      <th>6739</th>\n",
       "      <td>567688325276770306</td>\n",
       "      <td>neutral</td>\n",
       "      <td>NaN</td>\n",
       "      <td>Southwest</td>\n",
       "      <td>DubCook</td>\n",
       "      <td>@SouthwestAir Guys, we've got to do something ...</td>\n",
       "      <td>2015-02-17 06:13:38 -0800</td>\n",
       "      <td>Downtown Dallas, Texas</td>\n",
       "      <td>Central Time (US &amp; Canada)</td>\n",
       "    </tr>\n",
       "    <tr>\n",
       "      <th>6738</th>\n",
       "      <td>567688411289755648</td>\n",
       "      <td>negative</td>\n",
       "      <td>Cancelled Flight</td>\n",
       "      <td>Southwest</td>\n",
       "      <td>kabell87</td>\n",
       "      <td>@SouthwestAir flight was Cancelled Flightled a...</td>\n",
       "      <td>2015-02-17 06:13:59 -0800</td>\n",
       "      <td>NaN</td>\n",
       "      <td>NaN</td>\n",
       "    </tr>\n",
       "    <tr>\n",
       "      <th>8960</th>\n",
       "      <td>567690417265975296</td>\n",
       "      <td>neutral</td>\n",
       "      <td>NaN</td>\n",
       "      <td>Delta</td>\n",
       "      <td>JulianBOGJB</td>\n",
       "      <td>@JetBlue really caring??</td>\n",
       "      <td>2015-02-17 06:21:57 -0800</td>\n",
       "      <td>Colombia</td>\n",
       "      <td>NaN</td>\n",
       "    </tr>\n",
       "    <tr>\n",
       "      <th>...</th>\n",
       "      <td>...</td>\n",
       "      <td>...</td>\n",
       "      <td>...</td>\n",
       "      <td>...</td>\n",
       "      <td>...</td>\n",
       "      <td>...</td>\n",
       "      <td>...</td>\n",
       "      <td>...</td>\n",
       "      <td>...</td>\n",
       "    </tr>\n",
       "    <tr>\n",
       "      <th>6751</th>\n",
       "      <td>570305098557091840</td>\n",
       "      <td>neutral</td>\n",
       "      <td>NaN</td>\n",
       "      <td>Delta</td>\n",
       "      <td>culinarymindz</td>\n",
       "      <td>@JetBlue update on Flight 462 would be appreci...</td>\n",
       "      <td>2015-02-24 11:31:45 -0800</td>\n",
       "      <td>NaN</td>\n",
       "      <td>NaN</td>\n",
       "    </tr>\n",
       "    <tr>\n",
       "      <th>6750</th>\n",
       "      <td>570305363859406848</td>\n",
       "      <td>negative</td>\n",
       "      <td>Bad Flight</td>\n",
       "      <td>Delta</td>\n",
       "      <td>Oneladyyouadore</td>\n",
       "      <td>@JetBlue everyone is here but our pilots are n...</td>\n",
       "      <td>2015-02-24 11:32:49 -0800</td>\n",
       "      <td>Georgia</td>\n",
       "      <td>Quito</td>\n",
       "    </tr>\n",
       "    <tr>\n",
       "      <th>510</th>\n",
       "      <td>570305603056349184</td>\n",
       "      <td>neutral</td>\n",
       "      <td>NaN</td>\n",
       "      <td>United</td>\n",
       "      <td>karenmcgregor86</td>\n",
       "      <td>@united even on international flight Glasgow t...</td>\n",
       "      <td>2015-02-24 11:33:46 -0800</td>\n",
       "      <td>Kilmarnock, now Edinburgh.</td>\n",
       "      <td>Edinburgh</td>\n",
       "    </tr>\n",
       "    <tr>\n",
       "      <th>4330</th>\n",
       "      <td>570305647759265793</td>\n",
       "      <td>negative</td>\n",
       "      <td>Customer Service Issue</td>\n",
       "      <td>Southwest</td>\n",
       "      <td>cindyjwhitaker</td>\n",
       "      <td>@SouthwestAir Very frustrated for the loooooon...</td>\n",
       "      <td>2015-02-24 11:33:56 -0800</td>\n",
       "      <td>NaN</td>\n",
       "      <td>Central Time (US &amp; Canada)</td>\n",
       "    </tr>\n",
       "    <tr>\n",
       "      <th>4329</th>\n",
       "      <td>570306086475075585</td>\n",
       "      <td>neutral</td>\n",
       "      <td>NaN</td>\n",
       "      <td>Southwest</td>\n",
       "      <td>liveseasoned</td>\n",
       "      <td>@SouthwestAir I'm teaching new #travelers how ...</td>\n",
       "      <td>2015-02-24 11:35:41 -0800</td>\n",
       "      <td>NaN</td>\n",
       "      <td>NaN</td>\n",
       "    </tr>\n",
       "    <tr>\n",
       "      <th>0</th>\n",
       "      <td>570306133677760513</td>\n",
       "      <td>neutral</td>\n",
       "      <td>NaN</td>\n",
       "      <td>Virgin America</td>\n",
       "      <td>cairdin</td>\n",
       "      <td>@VirginAmerica What @dhepburn said.</td>\n",
       "      <td>2015-02-24 11:35:52 -0800</td>\n",
       "      <td>NaN</td>\n",
       "      <td>Eastern Time (US &amp; Canada)</td>\n",
       "    </tr>\n",
       "    <tr>\n",
       "      <th>509</th>\n",
       "      <td>570306217001799680</td>\n",
       "      <td>negative</td>\n",
       "      <td>Can't Tell</td>\n",
       "      <td>United</td>\n",
       "      <td>samidip</td>\n",
       "      <td>@united Your ERI-ORD express connections are h...</td>\n",
       "      <td>2015-02-24 11:36:12 -0800</td>\n",
       "      <td>Erie, PA</td>\n",
       "      <td>Eastern Time (US &amp; Canada)</td>\n",
       "    </tr>\n",
       "    <tr>\n",
       "      <th>8976</th>\n",
       "      <td>570306715880706049</td>\n",
       "      <td>negative</td>\n",
       "      <td>Bad Flight</td>\n",
       "      <td>US Airways</td>\n",
       "      <td>Anthony_Scerri</td>\n",
       "      <td>@USAirways flight 645 to Phoenix deboards pass...</td>\n",
       "      <td>2015-02-24 11:38:11 -0800</td>\n",
       "      <td>Astoria, NY</td>\n",
       "      <td>Quito</td>\n",
       "    </tr>\n",
       "    <tr>\n",
       "      <th>508</th>\n",
       "      <td>570306733010264064</td>\n",
       "      <td>positive</td>\n",
       "      <td>NaN</td>\n",
       "      <td>United</td>\n",
       "      <td>rombaa</td>\n",
       "      <td>@united thanks -- we filled it out. How's our ...</td>\n",
       "      <td>2015-02-24 11:38:15 -0800</td>\n",
       "      <td>NaN</td>\n",
       "      <td>NaN</td>\n",
       "    </tr>\n",
       "    <tr>\n",
       "      <th>8975</th>\n",
       "      <td>570306867135696897</td>\n",
       "      <td>neutral</td>\n",
       "      <td>NaN</td>\n",
       "      <td>US Airways</td>\n",
       "      <td>AshleyKAtherton</td>\n",
       "      <td>@USAirways agree! Richard P. Literally ripped ...</td>\n",
       "      <td>2015-02-24 11:38:47 -0800</td>\n",
       "      <td>NaN</td>\n",
       "      <td>Central Time (US &amp; Canada)</td>\n",
       "    </tr>\n",
       "    <tr>\n",
       "      <th>8974</th>\n",
       "      <td>570307011981783040</td>\n",
       "      <td>positive</td>\n",
       "      <td>NaN</td>\n",
       "      <td>US Airways</td>\n",
       "      <td>noelzucchero</td>\n",
       "      <td>@USAirways we were moved to a delta direct. Th...</td>\n",
       "      <td>2015-02-24 11:39:22 -0800</td>\n",
       "      <td>NaN</td>\n",
       "      <td>Eastern Time (US &amp; Canada)</td>\n",
       "    </tr>\n",
       "    <tr>\n",
       "      <th>507</th>\n",
       "      <td>570307026263384064</td>\n",
       "      <td>negative</td>\n",
       "      <td>Late Flight</td>\n",
       "      <td>United</td>\n",
       "      <td>lsalazarll</td>\n",
       "      <td>@united Delayed due to lack of crew and now de...</td>\n",
       "      <td>2015-02-24 11:39:25 -0800</td>\n",
       "      <td>NaN</td>\n",
       "      <td>Mountain Time (US &amp; Canada)</td>\n",
       "    </tr>\n",
       "    <tr>\n",
       "      <th>8973</th>\n",
       "      <td>570307109218340865</td>\n",
       "      <td>negative</td>\n",
       "      <td>Flight Attendant Complaints</td>\n",
       "      <td>US Airways</td>\n",
       "      <td>jeremyleewhite</td>\n",
       "      <td>@USAirways is not the new @AmericanAir is more...</td>\n",
       "      <td>2015-02-24 11:39:45 -0800</td>\n",
       "      <td>NaN</td>\n",
       "      <td>NaN</td>\n",
       "    </tr>\n",
       "    <tr>\n",
       "      <th>506</th>\n",
       "      <td>570307109704900608</td>\n",
       "      <td>negative</td>\n",
       "      <td>Cancelled Flight</td>\n",
       "      <td>United</td>\n",
       "      <td>CoralReefer420</td>\n",
       "      <td>@united still no refund or word via DM. Please...</td>\n",
       "      <td>2015-02-24 11:39:45 -0800</td>\n",
       "      <td>Bay Area, California</td>\n",
       "      <td>Alaska</td>\n",
       "    </tr>\n",
       "    <tr>\n",
       "      <th>8972</th>\n",
       "      <td>570307605631012864</td>\n",
       "      <td>negative</td>\n",
       "      <td>Customer Service Issue</td>\n",
       "      <td>US Airways</td>\n",
       "      <td>Matt_Bernanke</td>\n",
       "      <td>@USAirways you're killing me from the inside</td>\n",
       "      <td>2015-02-24 11:41:43 -0800</td>\n",
       "      <td>NaN</td>\n",
       "      <td>Quito</td>\n",
       "    </tr>\n",
       "    <tr>\n",
       "      <th>4328</th>\n",
       "      <td>570307615189835777</td>\n",
       "      <td>negative</td>\n",
       "      <td>Customer Service Issue</td>\n",
       "      <td>Southwest</td>\n",
       "      <td>cindyjwhitaker</td>\n",
       "      <td>@SouthwestAir Hello - been on hold for extreme...</td>\n",
       "      <td>2015-02-24 11:41:45 -0800</td>\n",
       "      <td>NaN</td>\n",
       "      <td>Central Time (US &amp; Canada)</td>\n",
       "    </tr>\n",
       "    <tr>\n",
       "      <th>6749</th>\n",
       "      <td>570307820962373632</td>\n",
       "      <td>negative</td>\n",
       "      <td>Flight Attendant Complaints</td>\n",
       "      <td>Delta</td>\n",
       "      <td>Oneladyyouadore</td>\n",
       "      <td>@JetBlue They weren't on any flight, they just...</td>\n",
       "      <td>2015-02-24 11:42:34 -0800</td>\n",
       "      <td>Georgia</td>\n",
       "      <td>Quito</td>\n",
       "    </tr>\n",
       "    <tr>\n",
       "      <th>505</th>\n",
       "      <td>570307847281614848</td>\n",
       "      <td>positive</td>\n",
       "      <td>NaN</td>\n",
       "      <td>United</td>\n",
       "      <td>CoreyAStewart</td>\n",
       "      <td>@united Thanks for taking care of that MR!! Ha...</td>\n",
       "      <td>2015-02-24 11:42:41 -0800</td>\n",
       "      <td>Richmond, VA</td>\n",
       "      <td>Eastern Time (US &amp; Canada)</td>\n",
       "    </tr>\n",
       "    <tr>\n",
       "      <th>504</th>\n",
       "      <td>570307876897628160</td>\n",
       "      <td>positive</td>\n",
       "      <td>NaN</td>\n",
       "      <td>United</td>\n",
       "      <td>rdowning76</td>\n",
       "      <td>@united thanks</td>\n",
       "      <td>2015-02-24 11:42:48 -0800</td>\n",
       "      <td>usa</td>\n",
       "      <td>NaN</td>\n",
       "    </tr>\n",
       "    <tr>\n",
       "      <th>8971</th>\n",
       "      <td>570308156699611137</td>\n",
       "      <td>neutral</td>\n",
       "      <td>NaN</td>\n",
       "      <td>US Airways</td>\n",
       "      <td>AshleyKAtherton</td>\n",
       "      <td>@USAirways never received such horrible servic...</td>\n",
       "      <td>2015-02-24 11:43:55 -0800</td>\n",
       "      <td>NaN</td>\n",
       "      <td>Central Time (US &amp; Canada)</td>\n",
       "    </tr>\n",
       "    <tr>\n",
       "      <th>6748</th>\n",
       "      <td>570308513181904901</td>\n",
       "      <td>neutral</td>\n",
       "      <td>NaN</td>\n",
       "      <td>Delta</td>\n",
       "      <td>Oneladyyouadore</td>\n",
       "      <td>@JetBlue flight 1041 to Savannah, GA</td>\n",
       "      <td>2015-02-24 11:45:20 -0800</td>\n",
       "      <td>Georgia</td>\n",
       "      <td>Quito</td>\n",
       "    </tr>\n",
       "    <tr>\n",
       "      <th>8970</th>\n",
       "      <td>570308799950692353</td>\n",
       "      <td>negative</td>\n",
       "      <td>Customer Service Issue</td>\n",
       "      <td>US Airways</td>\n",
       "      <td>retardedlarry</td>\n",
       "      <td>@USAirways just hung up on me again.  Another ...</td>\n",
       "      <td>2015-02-24 11:46:28 -0800</td>\n",
       "      <td>NaN</td>\n",
       "      <td>NaN</td>\n",
       "    </tr>\n",
       "    <tr>\n",
       "      <th>8969</th>\n",
       "      <td>570309000279023616</td>\n",
       "      <td>neutral</td>\n",
       "      <td>NaN</td>\n",
       "      <td>US Airways</td>\n",
       "      <td>AshleyKAtherton</td>\n",
       "      <td>@USAirways Fortunately you have staff like Lyn...</td>\n",
       "      <td>2015-02-24 11:47:16 -0800</td>\n",
       "      <td>NaN</td>\n",
       "      <td>Central Time (US &amp; Canada)</td>\n",
       "    </tr>\n",
       "    <tr>\n",
       "      <th>4327</th>\n",
       "      <td>570309145276125185</td>\n",
       "      <td>negative</td>\n",
       "      <td>Cancelled Flight</td>\n",
       "      <td>Southwest</td>\n",
       "      <td>tomcblock</td>\n",
       "      <td>@SouthwestAir although I'm not happy you Cance...</td>\n",
       "      <td>2015-02-24 11:47:50 -0800</td>\n",
       "      <td>ÜT: 38.965477,-77.428287</td>\n",
       "      <td>Eastern Time (US &amp; Canada)</td>\n",
       "    </tr>\n",
       "    <tr>\n",
       "      <th>4326</th>\n",
       "      <td>570309156290367488</td>\n",
       "      <td>negative</td>\n",
       "      <td>longlines</td>\n",
       "      <td>Southwest</td>\n",
       "      <td>thisradlove</td>\n",
       "      <td>@SouthwestAir still waiting. Just hit one hour.</td>\n",
       "      <td>2015-02-24 11:47:53 -0800</td>\n",
       "      <td>Today I'm in: Maryland</td>\n",
       "      <td>Atlantic Time (Canada)</td>\n",
       "    </tr>\n",
       "    <tr>\n",
       "      <th>6747</th>\n",
       "      <td>570309308937842688</td>\n",
       "      <td>neutral</td>\n",
       "      <td>NaN</td>\n",
       "      <td>Delta</td>\n",
       "      <td>Oneladyyouadore</td>\n",
       "      <td>@JetBlue I hope so because I fly very often an...</td>\n",
       "      <td>2015-02-24 11:48:29 -0800</td>\n",
       "      <td>Georgia</td>\n",
       "      <td>Quito</td>\n",
       "    </tr>\n",
       "    <tr>\n",
       "      <th>8968</th>\n",
       "      <td>570309340952993796</td>\n",
       "      <td>neutral</td>\n",
       "      <td>NaN</td>\n",
       "      <td>US Airways</td>\n",
       "      <td>DebbiMcGinnis</td>\n",
       "      <td>@USAirways is a DM possible if you aren't foll...</td>\n",
       "      <td>2015-02-24 11:48:37 -0800</td>\n",
       "      <td>Missourah</td>\n",
       "      <td>Hawaii</td>\n",
       "    </tr>\n",
       "    <tr>\n",
       "      <th>6746</th>\n",
       "      <td>570309345281486848</td>\n",
       "      <td>positive</td>\n",
       "      <td>NaN</td>\n",
       "      <td>Delta</td>\n",
       "      <td>jaxbra</td>\n",
       "      <td>@JetBlue Yesterday on my way from EWR to FLL j...</td>\n",
       "      <td>2015-02-24 11:48:38 -0800</td>\n",
       "      <td>east brunswick, nj</td>\n",
       "      <td>Atlantic Time (Canada)</td>\n",
       "    </tr>\n",
       "    <tr>\n",
       "      <th>8967</th>\n",
       "      <td>570310144459972608</td>\n",
       "      <td>negative</td>\n",
       "      <td>Customer Service Issue</td>\n",
       "      <td>US Airways</td>\n",
       "      <td>GAKotsch</td>\n",
       "      <td>@USAirways and when will one of these agents b...</td>\n",
       "      <td>2015-02-24 11:51:48 -0800</td>\n",
       "      <td>NaN</td>\n",
       "      <td>Atlantic Time (Canada)</td>\n",
       "    </tr>\n",
       "    <tr>\n",
       "      <th>8966</th>\n",
       "      <td>570310600460525568</td>\n",
       "      <td>negative</td>\n",
       "      <td>Flight Booking Problems</td>\n",
       "      <td>US Airways</td>\n",
       "      <td>jhazelnut</td>\n",
       "      <td>@USAirways  is there a better time to call? My...</td>\n",
       "      <td>2015-02-24 11:53:37 -0800</td>\n",
       "      <td>NaN</td>\n",
       "      <td>NaN</td>\n",
       "    </tr>\n",
       "  </tbody>\n",
       "</table>\n",
       "<p>14330 rows × 9 columns</p>\n",
       "</div>"
      ],
      "text/plain": [
       "                 tweet_id airline_sentiment               negativereason  \\\n",
       "8965   567588278875213824           neutral                          NaN   \n",
       "8964   567590027375702016          negative                   Can't Tell   \n",
       "4325   567591480085463040          negative                  Late Flight   \n",
       "4324   567592368451248130          negative                  Late Flight   \n",
       "6745   567594449874587648          negative       Customer Service Issue   \n",
       "4323   567594579310825473          negative                   Bad Flight   \n",
       "4322   567595670463205376          negative                  Late Flight   \n",
       "4321   567614049425555457          negative       Customer Service Issue   \n",
       "6744   567617081336950784          negative       Customer Service Issue   \n",
       "4320   567617486703853568          negative       Customer Service Issue   \n",
       "4319   567623209026334720          negative      Flight Booking Problems   \n",
       "4318   567627253991735296          negative                   Bad Flight   \n",
       "4317   567630296783155203          negative       Customer Service Issue   \n",
       "4316   567634106058821632           neutral                          NaN   \n",
       "11878  567643252753694721           neutral                          NaN   \n",
       "6743   567655489119326209          positive                          NaN   \n",
       "4315   567663136082513920          negative                 Lost Luggage   \n",
       "6742   567663504102940672          negative                  Late Flight   \n",
       "8963   567667301067915264           neutral                          NaN   \n",
       "11877  567670985403285504          negative       Customer Service Issue   \n",
       "8962   567671602280923136          positive                          NaN   \n",
       "4314   567676400933416960          negative                  Late Flight   \n",
       "6741   567676626855419904          negative       Customer Service Issue   \n",
       "11876  567679487383699456          negative       Customer Service Issue   \n",
       "8961   567680108002291712          positive                          NaN   \n",
       "6740   567686758708817921           neutral                          NaN   \n",
       "4313   567686845903826947           neutral                          NaN   \n",
       "6739   567688325276770306           neutral                          NaN   \n",
       "6738   567688411289755648          negative             Cancelled Flight   \n",
       "8960   567690417265975296           neutral                          NaN   \n",
       "...                   ...               ...                          ...   \n",
       "6751   570305098557091840           neutral                          NaN   \n",
       "6750   570305363859406848          negative                   Bad Flight   \n",
       "510    570305603056349184           neutral                          NaN   \n",
       "4330   570305647759265793          negative       Customer Service Issue   \n",
       "4329   570306086475075585           neutral                          NaN   \n",
       "0      570306133677760513           neutral                          NaN   \n",
       "509    570306217001799680          negative                   Can't Tell   \n",
       "8976   570306715880706049          negative                   Bad Flight   \n",
       "508    570306733010264064          positive                          NaN   \n",
       "8975   570306867135696897           neutral                          NaN   \n",
       "8974   570307011981783040          positive                          NaN   \n",
       "507    570307026263384064          negative                  Late Flight   \n",
       "8973   570307109218340865          negative  Flight Attendant Complaints   \n",
       "506    570307109704900608          negative             Cancelled Flight   \n",
       "8972   570307605631012864          negative       Customer Service Issue   \n",
       "4328   570307615189835777          negative       Customer Service Issue   \n",
       "6749   570307820962373632          negative  Flight Attendant Complaints   \n",
       "505    570307847281614848          positive                          NaN   \n",
       "504    570307876897628160          positive                          NaN   \n",
       "8971   570308156699611137           neutral                          NaN   \n",
       "6748   570308513181904901           neutral                          NaN   \n",
       "8970   570308799950692353          negative       Customer Service Issue   \n",
       "8969   570309000279023616           neutral                          NaN   \n",
       "4327   570309145276125185          negative             Cancelled Flight   \n",
       "4326   570309156290367488          negative                    longlines   \n",
       "6747   570309308937842688           neutral                          NaN   \n",
       "8968   570309340952993796           neutral                          NaN   \n",
       "6746   570309345281486848          positive                          NaN   \n",
       "8967   570310144459972608          negative       Customer Service Issue   \n",
       "8966   570310600460525568          negative      Flight Booking Problems   \n",
       "\n",
       "              airline             name  \\\n",
       "8965            Delta      JetBlueNews   \n",
       "8964            Delta        nesi_1992   \n",
       "4325           United        CPoutloud   \n",
       "4324           United         brenduch   \n",
       "6745        Southwest         VahidESQ   \n",
       "4323           United         brenduch   \n",
       "4322           United       CRomerDome   \n",
       "4321           United          JustOGG   \n",
       "6744        Southwest      mrshossruns   \n",
       "4320           United    feliciastoler   \n",
       "4319           United        markhlyon   \n",
       "4318           United  DBsViewOnThings   \n",
       "4317           United        ljsbrooks   \n",
       "4316           United            gwaki   \n",
       "11878      US Airways       ashenfaced   \n",
       "6743        Southwest          rjp1208   \n",
       "4315           United     hannahtorney   \n",
       "6742        Southwest    followkashyap   \n",
       "8963            Delta   BritishAirNews   \n",
       "11877      US Airways       sevnthstar   \n",
       "8962            Delta    twinkletaters   \n",
       "4314           United         MiKasuga   \n",
       "6741        Southwest      WorkingWify   \n",
       "11876      US Airways      DonnyYardas   \n",
       "8961            Delta  TravellerLukose   \n",
       "6740        Southwest         Tinygami   \n",
       "4313           United  AsianAdidasGirl   \n",
       "6739        Southwest          DubCook   \n",
       "6738        Southwest         kabell87   \n",
       "8960            Delta      JulianBOGJB   \n",
       "...               ...              ...   \n",
       "6751            Delta    culinarymindz   \n",
       "6750            Delta  Oneladyyouadore   \n",
       "510            United  karenmcgregor86   \n",
       "4330        Southwest   cindyjwhitaker   \n",
       "4329        Southwest     liveseasoned   \n",
       "0      Virgin America          cairdin   \n",
       "509            United          samidip   \n",
       "8976       US Airways   Anthony_Scerri   \n",
       "508            United           rombaa   \n",
       "8975       US Airways  AshleyKAtherton   \n",
       "8974       US Airways     noelzucchero   \n",
       "507            United       lsalazarll   \n",
       "8973       US Airways   jeremyleewhite   \n",
       "506            United   CoralReefer420   \n",
       "8972       US Airways    Matt_Bernanke   \n",
       "4328        Southwest   cindyjwhitaker   \n",
       "6749            Delta  Oneladyyouadore   \n",
       "505            United    CoreyAStewart   \n",
       "504            United       rdowning76   \n",
       "8971       US Airways  AshleyKAtherton   \n",
       "6748            Delta  Oneladyyouadore   \n",
       "8970       US Airways    retardedlarry   \n",
       "8969       US Airways  AshleyKAtherton   \n",
       "4327        Southwest        tomcblock   \n",
       "4326        Southwest      thisradlove   \n",
       "6747            Delta  Oneladyyouadore   \n",
       "8968       US Airways    DebbiMcGinnis   \n",
       "6746            Delta           jaxbra   \n",
       "8967       US Airways         GAKotsch   \n",
       "8966       US Airways        jhazelnut   \n",
       "\n",
       "                                                    text  \\\n",
       "8965   @JetBlue's new CEO seeks the right balance to ...   \n",
       "8964   @JetBlue is REALLY getting on my nerves !! 😡😡 ...   \n",
       "4325   @united yes. We waited in line for almost an h...   \n",
       "4324   @united the we got into the gate at IAH on tim...   \n",
       "6745   @SouthwestAir its cool that my bags take a bit...   \n",
       "4323   @united and don't hope for me having a nicer f...   \n",
       "4322   @united I like delays less than you because I'...   \n",
       "4321   @united, link to current status of flights/air...   \n",
       "6744   @SouthwestAir you guys there? Are we on hour 2...   \n",
       "4320   @united I tried 2 DM it would not go thru... n...   \n",
       "4319   Wanted to get my bag benefit, but instead get ...   \n",
       "4318   @united please see a flight attendant for what...   \n",
       "4317                   @united still waiting for a reply   \n",
       "4316   @united even though technically after I land I...   \n",
       "11878            @USAirways how's us 1797 looking today?   \n",
       "6743              @SouthwestAir nice work on the update!   \n",
       "4315   @united i have items of sentimental value that...   \n",
       "6742   @SouthwestAir We have been stuck in SJU for se...   \n",
       "8963   @JetBlue CEO weighs profits, flyers - @Chronic...   \n",
       "11877  @USAirways @AmericanAir How r u supposed to ch...   \n",
       "8962   @JetBlue Thanks! Her flight leaves at 2 but sh...   \n",
       "4314   @United is officially the worst, most delayed,...   \n",
       "6741   @SouthwestAir won't answer their phones #Horri...   \n",
       "11876  @USAirways reservations had me on hold for 2 h...   \n",
       "8961   @JetBlue No worries. Delay was minor and dealt...   \n",
       "6740   @SouthwestAir Is it a temporary site glitch or...   \n",
       "4313   @united clicked on the link and got this? #con...   \n",
       "6739   @SouthwestAir Guys, we've got to do something ...   \n",
       "6738   @SouthwestAir flight was Cancelled Flightled a...   \n",
       "8960                            @JetBlue really caring??   \n",
       "...                                                  ...   \n",
       "6751   @JetBlue update on Flight 462 would be appreci...   \n",
       "6750   @JetBlue everyone is here but our pilots are n...   \n",
       "510    @united even on international flight Glasgow t...   \n",
       "4330   @SouthwestAir Very frustrated for the loooooon...   \n",
       "4329   @SouthwestAir I'm teaching new #travelers how ...   \n",
       "0                    @VirginAmerica What @dhepburn said.   \n",
       "509    @united Your ERI-ORD express connections are h...   \n",
       "8976   @USAirways flight 645 to Phoenix deboards pass...   \n",
       "508    @united thanks -- we filled it out. How's our ...   \n",
       "8975   @USAirways agree! Richard P. Literally ripped ...   \n",
       "8974   @USAirways we were moved to a delta direct. Th...   \n",
       "507    @united Delayed due to lack of crew and now de...   \n",
       "8973   @USAirways is not the new @AmericanAir is more...   \n",
       "506    @united still no refund or word via DM. Please...   \n",
       "8972        @USAirways you're killing me from the inside   \n",
       "4328   @SouthwestAir Hello - been on hold for extreme...   \n",
       "6749   @JetBlue They weren't on any flight, they just...   \n",
       "505    @united Thanks for taking care of that MR!! Ha...   \n",
       "504                                       @united thanks   \n",
       "8971   @USAirways never received such horrible servic...   \n",
       "6748                @JetBlue flight 1041 to Savannah, GA   \n",
       "8970   @USAirways just hung up on me again.  Another ...   \n",
       "8969   @USAirways Fortunately you have staff like Lyn...   \n",
       "4327   @SouthwestAir although I'm not happy you Cance...   \n",
       "4326     @SouthwestAir still waiting. Just hit one hour.   \n",
       "6747   @JetBlue I hope so because I fly very often an...   \n",
       "8968   @USAirways is a DM possible if you aren't foll...   \n",
       "6746   @JetBlue Yesterday on my way from EWR to FLL j...   \n",
       "8967   @USAirways and when will one of these agents b...   \n",
       "8966   @USAirways  is there a better time to call? My...   \n",
       "\n",
       "                   tweet_created               tweet_location  \\\n",
       "8965   2015-02-16 23:36:05 -0800                          USA   \n",
       "8964   2015-02-16 23:43:02 -0800                    undecided   \n",
       "4325   2015-02-16 23:48:48 -0800               Washington, DC   \n",
       "4324   2015-02-16 23:52:20 -0800                          NaN   \n",
       "6745   2015-02-17 00:00:36 -0800              Los Angeles, CA   \n",
       "4323   2015-02-17 00:01:07 -0800                          NaN   \n",
       "4322   2015-02-17 00:05:27 -0800                 Portland, OR   \n",
       "4321   2015-02-17 01:18:29 -0800          Tweets = My Opinion   \n",
       "6744   2015-02-17 01:30:32 -0800                          NaN   \n",
       "4320   2015-02-17 01:32:09 -0800                   New Jersey   \n",
       "4319   2015-02-17 01:54:53 -0800               Washington, DC   \n",
       "4318   2015-02-17 02:10:58 -0800                          NaN   \n",
       "4317   2015-02-17 02:23:03 -0800                          NaN   \n",
       "4316   2015-02-17 02:38:11 -0800                          NaN   \n",
       "11878  2015-02-17 03:14:32 -0800                     Brighton   \n",
       "6743   2015-02-17 04:03:09 -0800                          NaN   \n",
       "4315   2015-02-17 04:33:32 -0800                Omagh/Belfast   \n",
       "6742   2015-02-17 04:35:00 -0800                          USA   \n",
       "8963   2015-02-17 04:50:05 -0800                           UK   \n",
       "11877  2015-02-17 05:04:44 -0800             often underwater   \n",
       "8962   2015-02-17 05:07:11 -0800                 Savannah, GA   \n",
       "4314   2015-02-17 05:26:15 -0800                 New York, NY   \n",
       "6741   2015-02-17 05:27:09 -0800                      America   \n",
       "11876  2015-02-17 05:38:31 -0800           Somewhere Creating   \n",
       "8961   2015-02-17 05:40:59 -0800                          NaN   \n",
       "6740   2015-02-17 06:07:25 -0800                     Michigan   \n",
       "4313   2015-02-17 06:07:45 -0800                      Houston   \n",
       "6739   2015-02-17 06:13:38 -0800       Downtown Dallas, Texas   \n",
       "6738   2015-02-17 06:13:59 -0800                          NaN   \n",
       "8960   2015-02-17 06:21:57 -0800                     Colombia   \n",
       "...                          ...                          ...   \n",
       "6751   2015-02-24 11:31:45 -0800                          NaN   \n",
       "6750   2015-02-24 11:32:49 -0800                      Georgia   \n",
       "510    2015-02-24 11:33:46 -0800  Kilmarnock, now Edinburgh.    \n",
       "4330   2015-02-24 11:33:56 -0800                          NaN   \n",
       "4329   2015-02-24 11:35:41 -0800                          NaN   \n",
       "0      2015-02-24 11:35:52 -0800                          NaN   \n",
       "509    2015-02-24 11:36:12 -0800                     Erie, PA   \n",
       "8976   2015-02-24 11:38:11 -0800                  Astoria, NY   \n",
       "508    2015-02-24 11:38:15 -0800                          NaN   \n",
       "8975   2015-02-24 11:38:47 -0800                          NaN   \n",
       "8974   2015-02-24 11:39:22 -0800                          NaN   \n",
       "507    2015-02-24 11:39:25 -0800                          NaN   \n",
       "8973   2015-02-24 11:39:45 -0800                          NaN   \n",
       "506    2015-02-24 11:39:45 -0800        Bay Area, California    \n",
       "8972   2015-02-24 11:41:43 -0800                          NaN   \n",
       "4328   2015-02-24 11:41:45 -0800                          NaN   \n",
       "6749   2015-02-24 11:42:34 -0800                      Georgia   \n",
       "505    2015-02-24 11:42:41 -0800                 Richmond, VA   \n",
       "504    2015-02-24 11:42:48 -0800                          usa   \n",
       "8971   2015-02-24 11:43:55 -0800                          NaN   \n",
       "6748   2015-02-24 11:45:20 -0800                      Georgia   \n",
       "8970   2015-02-24 11:46:28 -0800                          NaN   \n",
       "8969   2015-02-24 11:47:16 -0800                          NaN   \n",
       "4327   2015-02-24 11:47:50 -0800     ÜT: 38.965477,-77.428287   \n",
       "4326   2015-02-24 11:47:53 -0800      Today I'm in: Maryland    \n",
       "6747   2015-02-24 11:48:29 -0800                      Georgia   \n",
       "8968   2015-02-24 11:48:37 -0800                    Missourah   \n",
       "6746   2015-02-24 11:48:38 -0800           east brunswick, nj   \n",
       "8967   2015-02-24 11:51:48 -0800                          NaN   \n",
       "8966   2015-02-24 11:53:37 -0800                          NaN   \n",
       "\n",
       "                     user_timezone  \n",
       "8965                        Sydney  \n",
       "8964    Pacific Time (US & Canada)  \n",
       "4325                           NaN  \n",
       "4324                  Buenos Aires  \n",
       "6745    Pacific Time (US & Canada)  \n",
       "4323                  Buenos Aires  \n",
       "4322    Pacific Time (US & Canada)  \n",
       "4321    Eastern Time (US & Canada)  \n",
       "6744    Eastern Time (US & Canada)  \n",
       "4320    Central Time (US & Canada)  \n",
       "4319    Eastern Time (US & Canada)  \n",
       "4318        Atlantic Time (Canada)  \n",
       "4317                           NaN  \n",
       "4316    Central Time (US & Canada)  \n",
       "11878                          NaN  \n",
       "6743    Pacific Time (US & Canada)  \n",
       "4315                        London  \n",
       "6742    Eastern Time (US & Canada)  \n",
       "8963                        Sydney  \n",
       "11877   Pacific Time (US & Canada)  \n",
       "8962                           NaN  \n",
       "4314    Eastern Time (US & Canada)  \n",
       "6741                           NaN  \n",
       "11876   Eastern Time (US & Canada)  \n",
       "8961                           NaN  \n",
       "6740                        Tehran  \n",
       "4313    Central Time (US & Canada)  \n",
       "6739    Central Time (US & Canada)  \n",
       "6738                           NaN  \n",
       "8960                           NaN  \n",
       "...                            ...  \n",
       "6751                           NaN  \n",
       "6750                         Quito  \n",
       "510                      Edinburgh  \n",
       "4330    Central Time (US & Canada)  \n",
       "4329                           NaN  \n",
       "0       Eastern Time (US & Canada)  \n",
       "509     Eastern Time (US & Canada)  \n",
       "8976                         Quito  \n",
       "508                            NaN  \n",
       "8975    Central Time (US & Canada)  \n",
       "8974    Eastern Time (US & Canada)  \n",
       "507    Mountain Time (US & Canada)  \n",
       "8973                           NaN  \n",
       "506                         Alaska  \n",
       "8972                         Quito  \n",
       "4328    Central Time (US & Canada)  \n",
       "6749                         Quito  \n",
       "505     Eastern Time (US & Canada)  \n",
       "504                            NaN  \n",
       "8971    Central Time (US & Canada)  \n",
       "6748                         Quito  \n",
       "8970                           NaN  \n",
       "8969    Central Time (US & Canada)  \n",
       "4327    Eastern Time (US & Canada)  \n",
       "4326        Atlantic Time (Canada)  \n",
       "6747                         Quito  \n",
       "8968                        Hawaii  \n",
       "6746        Atlantic Time (Canada)  \n",
       "8967        Atlantic Time (Canada)  \n",
       "8966                           NaN  \n",
       "\n",
       "[14330 rows x 9 columns]"
      ]
     },
     "execution_count": 10,
     "metadata": {},
     "output_type": "execute_result"
    }
   ],
   "source": [
    "df_1['airline_sentiment'].value_counts()\n",
    "df_1"
   ]
  },
  {
   "cell_type": "code",
   "execution_count": 11,
   "metadata": {
    "scrolled": true
   },
   "outputs": [
    {
     "data": {
      "image/png": "[encoded data removed]",
      "text/plain": [
       "<Figure size 432x288 with 1 Axes>"
      ]
     },
     "metadata": {
      "needs_background": "light"
     },
     "output_type": "display_data"
    }
   ],
   "source": [
    "sns.countplot(df_1['airline_sentiment'])\n",
    "plt.title('Airline Sentiment');"
   ]
  },
  {
   "cell_type": "code",
   "execution_count": 12,
   "metadata": {
    "scrolled": true
   },
   "outputs": [
    {
     "data": {
      "image/png": "[encoded data removed]",
      "text/plain": [
       "<Figure size 432x288 with 1 Axes>"
      ]
     },
     "metadata": {
      "needs_background": "light"
     },
     "output_type": "display_data"
    }
   ],
   "source": [
    "sns.countplot(df_1['airline'], hue=df_1['airline_sentiment'])\n",
    "plt.title('Airlines Sentiment');"
   ]
  },
  {
   "cell_type": "code",
   "execution_count": 13,
   "metadata": {},
   "outputs": [],
   "source": [
    "def dummie(df, column):\n",
    "    df_a = pd.get_dummies(df[column])\n",
    "    df_a['tweet_id'] = df['tweet_id']\n",
    "    df = pd.merge(df, df_a, on='tweet_id')\n",
    "    return df"
   ]
  },
  {
   "cell_type": "code",
   "execution_count": 14,
   "metadata": {
    "scrolled": true
   },
   "outputs": [],
   "source": [
    "df_1 = dummie(df_1, 'airline')"
   ]
  },
  {
   "cell_type": "markdown",
   "metadata": {},
   "source": [
    "In the graph above we see the airline sentiments of each airline neutral, positive, and negative counts.  We see that all but Virgin America have a lot more negative tweets then neutral or positive and in some cases more then both of them combined."
   ]
  },
  {
   "cell_type": "code",
   "execution_count": 15,
   "metadata": {},
   "outputs": [],
   "source": [
    "columns = ['negativereason', 'name', 'tweet_created', \n",
    "           'tweet_location', 'user_timezone']"
   ]
  },
  {
   "cell_type": "code",
   "execution_count": 16,
   "metadata": {
    "scrolled": false
   },
   "outputs": [
    {
     "data": {
      "image/png": "[encoded data removed]",
      "text/plain": [
       "<Figure size 720x1440 with 5 Axes>"
      ]
     },
     "metadata": {
      "needs_background": "light"
     },
     "output_type": "display_data"
    }
   ],
   "source": [
    "fig = plt.figure(figsize=(10, 20))\n",
    "fig.subplots_adjust(hspace=1, wspace=0.3)\n",
    "\n",
    "for i, c in enumerate(columns, start=1):\n",
    "    ax = fig.add_subplot(3, 2, i)\n",
    "    chart = sns.countplot(x=c, data=df_1, hue='airline_sentiment',\n",
    "                          order=df_1[c].value_counts().iloc[:10].index)\n",
    "    chart.set_xticklabels(chart.get_xticklabels(), rotation=90)"
   ]
  },
  {
   "cell_type": "code",
   "execution_count": 17,
   "metadata": {},
   "outputs": [],
   "source": [
    "df_1 = df_1.drop(['negativereason', 'name'], axis=1)"
   ]
  },
  {
   "cell_type": "markdown",
   "metadata": {},
   "source": [
    "The graphs above show us the top ten most frequent values in the categorical columns.  We see that columns name, tweet_created, tweet_location have very low counts.  But looking at tweet_created as a different type of date would probably bring the counts up.  We could do day of week, hour, or month date."
   ]
  },
  {
   "cell_type": "code",
   "execution_count": 18,
   "metadata": {},
   "outputs": [],
   "source": [
    "df_1['day'] = pd.DatetimeIndex(df_1['tweet_created']).dayofweek\n",
    "df_1['hour'] = pd.DatetimeIndex(df_1['tweet_created']).hour\n",
    "df_1['date'] = pd.DatetimeIndex(df_1['tweet_created']).date"
   ]
  },
  {
   "cell_type": "code",
   "execution_count": 19,
   "metadata": {
    "scrolled": false
   },
   "outputs": [
    {
     "data": {
      "image/png": "[encoded data removed]",
      "text/plain": [
       "<Figure size 432x288 with 1 Axes>"
      ]
     },
     "metadata": {
      "needs_background": "light"
     },
     "output_type": "display_data"
    }
   ],
   "source": [
    "chart = sns.countplot(x='day', data=df_1, hue='airline_sentiment');"
   ]
  },
  {
   "cell_type": "code",
   "execution_count": 20,
   "metadata": {},
   "outputs": [],
   "source": [
    "df_1 = dummie(df_1, 'day')"
   ]
  },
  {
   "cell_type": "code",
   "execution_count": 21,
   "metadata": {},
   "outputs": [],
   "source": [
    "df_1 = df_1.rename(columns={0: 'Monday', 1: 'Tuesday', 2: 'Wednesday', 3: 'Thursday', 4: 'Friday', 5: 'Saturday', 6: 'Sunday'})"
   ]
  },
  {
   "cell_type": "markdown",
   "metadata": {},
   "source": [
    "We see that most tweets were created on Monday, Tuesday, and Saturday."
   ]
  },
  {
   "cell_type": "code",
   "execution_count": 22,
   "metadata": {
    "scrolled": false
   },
   "outputs": [
    {
     "data": {
      "image/png": "[encoded data removed]",
      "text/plain": [
       "<Figure size 432x288 with 1 Axes>"
      ]
     },
     "metadata": {
      "needs_background": "light"
     },
     "output_type": "display_data"
    }
   ],
   "source": [
    "chart = sns.countplot(x='hour', data=df_1, hue='airline_sentiment');"
   ]
  },
  {
   "cell_type": "code",
   "execution_count": 23,
   "metadata": {
    "scrolled": false
   },
   "outputs": [
    {
     "data": {
      "image/png": "[encoded data removed]",
      "text/plain": [
       "<Figure size 432x288 with 1 Axes>"
      ]
     },
     "metadata": {
      "needs_background": "light"
     },
     "output_type": "display_data"
    }
   ],
   "source": [
    "chart = sns.countplot(x='date', data=df_1, hue='airline_sentiment')\n",
    "chart.set_xticklabels(chart.get_xticklabels(), rotation=45);"
   ]
  },
  {
   "cell_type": "markdown",
   "metadata": {},
   "source": [
    "We see that data was only collected over 8 days Between February 16 and 24 in 2015."
   ]
  },
  {
   "cell_type": "code",
   "execution_count": 24,
   "metadata": {
    "scrolled": true
   },
   "outputs": [
    {
     "name": "stdout",
     "output_type": "stream",
     "text": [
      "Rows where user_timezone is null but tweet_location has value:  2113\n"
     ]
    }
   ],
   "source": [
    "print('Rows where user_timezone is null but tweet_location has value: ', \n",
    "      df_1['tweet_location'][df_1['user_timezone'].isnull()].count())"
   ]
  },
  {
   "cell_type": "code",
   "execution_count": 25,
   "metadata": {
    "scrolled": false
   },
   "outputs": [
    {
     "data": {
      "text/plain": [
       "New York                 47\n",
       "San Francisco, CA        29\n",
       "Boston, MA               26\n",
       "USA                      25\n",
       "Chicago, IL              24\n",
       "Chicago                  23\n",
       "McKinney TX              22\n",
       "San Diego                22\n",
       "Belle MO                 21\n",
       "Does it really matter    19\n",
       "Name: tweet_location, dtype: int64"
      ]
     },
     "execution_count": 25,
     "metadata": {},
     "output_type": "execute_result"
    }
   ],
   "source": [
    "df_1['tweet_location'][df_1['user_timezone'].isnull()].value_counts().head(10)"
   ]
  },
  {
   "cell_type": "code",
   "execution_count": 26,
   "metadata": {},
   "outputs": [],
   "source": [
    "us_time = {'Alaska': ['AK', 'ALASKA'], \n",
    "           'Central Time (US & Canada)': ['AL', 'AR', 'IL', 'IA', \n",
    "                                          'KS', 'KY', 'LA', 'MN', \n",
    "                                          'MI', 'MO', 'NE', 'ND', \n",
    "                                          'OK', 'SD', 'TN', 'TX', \n",
    "                                          'WI', 'ALABAMA', \n",
    "                                          'ARKANSAS','ILLINOIS', \n",
    "                                          'IOWA', 'KANSAS', \n",
    "                                          'KENTUCKY', 'LOUISIANA', \n",
    "                                          'MINNESOTA', 'MISSISSIPPI',\n",
    "                                          'MISSOURI', 'NEBRASKA', \n",
    "                                          'NORTH DAKOTA','OKLAHOMA',\n",
    "                                          'SOUTH DAKOTA','TENNESSEE',\n",
    "                                          'TEXAS', 'WISCONSIN'], \n",
    "           'Eastern Time (US & Canada)': ['CT', 'DE', 'DC', 'FL', \n",
    "                                          'GA', 'IN', 'ME', 'MD', \n",
    "                                          'MA', 'MI', 'NH', 'NJ', \n",
    "                                          'NY', 'NC', 'OH', 'PA', \n",
    "                                          'RI', 'SC', 'VT', 'VA', \n",
    "                                          'WV', 'CONNECTICUT', \n",
    "                                          'DELAWARE', 'FLORIDA', \n",
    "                                          'GEORGIA', 'INDIANA', \n",
    "                                          'MAINE', 'MARYLAND', \n",
    "                                          'MASSACHUSETTS', \n",
    "                                          'MICHIGAN','NEW HAMPSHIRE', \n",
    "                                          'NEW JERSEY', 'NEW YORK', \n",
    "                                          'NORTH CAROLINA', 'OHIO', \n",
    "                                          'PENNSYLVANIA', \n",
    "                                          'RHODE ISLAND', \n",
    "                                          'SOUTH CAROLINA', \n",
    "                                          'VERMONT', 'VIRGINIA', \n",
    "                                          'WEST VIRGINIA'], \n",
    "           'Mountain Time (US & Canada)': ['AZ', 'CO', 'ID', 'MT', \n",
    "                                           'NM', 'UT', 'WY', \n",
    "                                           'ARIZONA', 'COLORADO', \n",
    "                                           'IDAHO', 'MONTANA', \n",
    "                                           'NEW MEXICO', 'UTAH', \n",
    "                                           'WYOMING'], \n",
    "           'Pacific Time (US & Canada)' : ['CA', 'NV', 'OR', 'WA', \n",
    "                                           'CALIFORNIA', 'NEVADA', \n",
    "                                           'OREGON', 'WASHINGTON']\n",
    "          }"
   ]
  },
  {
   "cell_type": "code",
   "execution_count": 27,
   "metadata": {},
   "outputs": [],
   "source": [
    "def try_extract(s, p):\n",
    "    try:\n",
    "        s.upper()\n",
    "        return p.search(s).group(1)\n",
    "    except (TypeError, AttributeError):\n",
    "        return s"
   ]
  },
  {
   "cell_type": "code",
   "execution_count": 28,
   "metadata": {
    "scrolled": false
   },
   "outputs": [],
   "source": [
    "for k in us_time.keys():\n",
    "    l = us_time[k]\n",
    "\n",
    "    p = re.compile(rf\"({'|'.join(l)})\")\n",
    "    df_1['test_1'] = [try_extract(s, p) for s in df_1['tweet_location']]\n",
    "    \n",
    "df_1['user_timezone'] = df_1['user_timezone'].fillna(df_1['test_1'])\n",
    "df_1 = df_1.drop(['test_1'], axis=1);"
   ]
  },
  {
   "cell_type": "markdown",
   "metadata": {},
   "source": [
    "Looking at user_timezone and tweet_location we see that they both contain locations.  \n",
    "\n",
    "We see that there are 2149 rows where the user_timezone is null but the tweet_location has a value.  Looking at the values we see that a lot of them contain a state.  We will be able to assign a value to the user_timezone null value according to the state in the tweet_location."
   ]
  },
  {
   "cell_type": "code",
   "execution_count": 29,
   "metadata": {
    "scrolled": false
   },
   "outputs": [
    {
     "data": {
      "text/plain": [
       "Eastern Time (US & Canada)     3696\n",
       "Central Time (US & Canada)     1869\n",
       "Pacific Time (US & Canada)     1184\n",
       "Quito                           710\n",
       "Atlantic Time (Canada)          491\n",
       "Mountain Time (US & Canada)     347\n",
       "Arizona                         223\n",
       "London                          198\n",
       "CA                              112\n",
       "Sydney                          107\n",
       "Name: user_timezone, dtype: int64"
      ]
     },
     "execution_count": 29,
     "metadata": {},
     "output_type": "execute_result"
    }
   ],
   "source": [
    "df_1['user_timezone'].value_counts().head(10)"
   ]
  },
  {
   "cell_type": "code",
   "execution_count": 30,
   "metadata": {
    "scrolled": false
   },
   "outputs": [
    {
     "data": {
      "image/png": "[encoded data removed]",
      "text/plain": [
       "<Figure size 432x288 with 1 Axes>"
      ]
     },
     "metadata": {
      "needs_background": "light"
     },
     "output_type": "display_data"
    }
   ],
   "source": [
    "chart = sns.countplot(x ='user_timezone', hue='airline_sentiment', \n",
    "              data=df_1, order=df_1['user_timezone'].value_counts().iloc[:10].index)\n",
    "chart.set_xticklabels(chart.get_xticklabels(), rotation=90);"
   ]
  },
  {
   "cell_type": "markdown",
   "metadata": {},
   "source": [
    "Looking at the top ten user_timezones we see that all of them have more negative sentiments then other sentiments with some by a lot."
   ]
  },
  {
   "cell_type": "code",
   "execution_count": 31,
   "metadata": {},
   "outputs": [],
   "source": [
    "ut_tail = df_1['user_timezone'].value_counts().shape[0] - 10\n",
    "# Create list of the non top ten inthe user_timezone \n",
    "user_timezone_lowest = list(df_1['user_timezone'].value_counts().tail(ut_tail).index)\n",
    "# create a dummie matrix of user_timezone\n",
    "df_1 = dummie(df_1, 'user_timezone')"
   ]
  },
  {
   "cell_type": "code",
   "execution_count": 32,
   "metadata": {},
   "outputs": [],
   "source": [
    "# create other_timezone column and fill with zero\n",
    "df_1['other_timezone'] = 0\n",
    "# combine non top ten user_timezone into other_timezone column\n",
    "for c in user_timezone_lowest:\n",
    "    df_1['other_timezone'] = df_1['other_timezone'] + df_1[c]\n",
    "    df_1 = df_1.drop(c, axis=1)"
   ]
  },
  {
   "cell_type": "code",
   "execution_count": 33,
   "metadata": {},
   "outputs": [],
   "source": [
    "df_1 = df_1.drop('tweet_location', axis=1)"
   ]
  },
  {
   "cell_type": "markdown",
   "metadata": {},
   "source": [
    "We will drop tweet_location because there aren't a lot of samples."
   ]
  },
  {
   "cell_type": "code",
   "execution_count": 34,
   "metadata": {},
   "outputs": [],
   "source": [
    "df_1['tweet_char_len'] = df_1['text'].str.len()"
   ]
  },
  {
   "cell_type": "code",
   "execution_count": 35,
   "metadata": {
    "scrolled": true
   },
   "outputs": [
    {
     "data": {
      "image/png": "[encoded data removed]",
      "text/plain": [
       "<Figure size 432x288 with 4 Axes>"
      ]
     },
     "metadata": {
      "needs_background": "light"
     },
     "output_type": "display_data"
    }
   ],
   "source": [
    "df_1.hist(column='tweet_char_len', by='airline_sentiment');"
   ]
  },
  {
   "cell_type": "markdown",
   "metadata": {},
   "source": [
    "We can create a value with the tweet text charactor length and see if there is corrilation betwee tweet length and negative or positive sentiment.\n",
    "\n",
    "Looking at the negative and other sentiment histograms we see that negative twee_char_len is skewed toards the right "
   ]
  },
  {
   "cell_type": "code",
   "execution_count": 36,
   "metadata": {},
   "outputs": [],
   "source": [
    "df_1 = df_1.drop(['airline', 'user_timezone', 'day', 'hour', 'date', 'tweet_created'], axis=1)"
   ]
  },
  {
   "cell_type": "markdown",
   "metadata": {},
   "source": [
    "# Clean Text"
   ]
  },
  {
   "cell_type": "code",
   "execution_count": 37,
   "metadata": {},
   "outputs": [],
   "source": [
    "import nltk\n",
    "from nltk.corpus import stopwords"
   ]
  },
  {
   "cell_type": "code",
   "execution_count": 38,
   "metadata": {
    "scrolled": true
   },
   "outputs": [],
   "source": [
    "def process_tweets(tweet):\n",
    "    # convert text to lower-case\n",
    "    tweet = tweet.lower()\n",
    "    # remove URLs\n",
    "    tweet = re.sub('((www\\.[^\\s]+)|(https?://[^\\s]+))', \n",
    "                   '', tweet)\n",
    "    # remove usernames\n",
    "    tweet = re.sub('@[^\\s]+', '', tweet)\n",
    "    # remove the # in #hashtag\n",
    "    tweet = re.sub(r'#([^\\s]+)', r'\\1', tweet) \n",
    "    # remove punctuation\n",
    "    tweet = re.sub('[!\"#$%&\\'()*+,-./:;<=>?@[\\\\]^_`{|}~]', '', \n",
    "                   tweet)\n",
    "    # remove stopwords\n",
    "    tweet = ' '.join(word for word in tweet.split() \n",
    "                     if word not in stopwords.words('english')) \n",
    "            \n",
    "    return tweet"
   ]
  },
  {
   "cell_type": "code",
   "execution_count": 39,
   "metadata": {
    "scrolled": true
   },
   "outputs": [],
   "source": [
    "df_1['tweet_clean'] = df_1['text'].apply(process_tweets)"
   ]
  },
  {
   "cell_type": "markdown",
   "metadata": {},
   "source": [
    "## Word Clouds"
   ]
  },
  {
   "cell_type": "code",
   "execution_count": 40,
   "metadata": {},
   "outputs": [],
   "source": [
    "from wordcloud import WordCloud"
   ]
  },
  {
   "cell_type": "code",
   "execution_count": 41,
   "metadata": {},
   "outputs": [],
   "source": [
    "def wordcloud_graph(sentiment='negative'):\n",
    "    text = \" \".join(tweet for tweet in df_1['tweet_clean'][df_1['airline_sentiment'] == sentiment])\n",
    "    # Generate a word cloud image\n",
    "    wordcloud = WordCloud(stopwords=stopwords.words('english'), \n",
    "                          background_color=\"white\").generate(text)\n",
    "\n",
    "    # Display the generated image:\n",
    "    # the matplotlib way:\n",
    "    plt.imshow(wordcloud, interpolation='bilinear')\n",
    "    plt.axis(\"off\")\n",
    "    plt.show()"
   ]
  },
  {
   "cell_type": "code",
   "execution_count": 42,
   "metadata": {
    "scrolled": false
   },
   "outputs": [
    {
     "data": {
      "image/png": "[encoded data removed]",
      "text/plain": [
       "<Figure size 432x288 with 1 Axes>"
      ]
     },
     "metadata": {
      "needs_background": "light"
     },
     "output_type": "display_data"
    }
   ],
   "source": [
    "wordcloud_graph('negative')"
   ]
  },
  {
   "cell_type": "code",
   "execution_count": 43,
   "metadata": {},
   "outputs": [
    {
     "data": {
      "image/png": "[encoded data removed]",
      "text/plain": [
       "<Figure size 432x288 with 1 Axes>"
      ]
     },
     "metadata": {
      "needs_background": "light"
     },
     "output_type": "display_data"
    }
   ],
   "source": [
    "wordcloud_graph('positive')"
   ]
  },
  {
   "cell_type": "code",
   "execution_count": 44,
   "metadata": {
    "scrolled": true
   },
   "outputs": [
    {
     "data": {
      "image/png": "[encoded data removed]",
      "text/plain": [
       "<Figure size 432x288 with 1 Axes>"
      ]
     },
     "metadata": {
      "needs_background": "light"
     },
     "output_type": "display_data"
    }
   ],
   "source": [
    "wordcloud_graph('neutral')"
   ]
  },
  {
   "cell_type": "code",
   "execution_count": 45,
   "metadata": {
    "scrolled": true
   },
   "outputs": [
    {
     "name": "stdout",
     "output_type": "stream",
     "text": [
      "(14330, 15)\n",
      "(14330, 29)\n"
     ]
    }
   ],
   "source": [
    "print('(14330, 15)')\n",
    "print(df_1.shape)"
   ]
  },
  {
   "cell_type": "code",
   "execution_count": 46,
   "metadata": {},
   "outputs": [
    {
     "data": {
      "text/html": [
       "<div>\n",
       "<style scoped>\n",
       "    .dataframe tbody tr th:only-of-type {\n",
       "        vertical-align: middle;\n",
       "    }\n",
       "\n",
       "    .dataframe tbody tr th {\n",
       "        vertical-align: top;\n",
       "    }\n",
       "\n",
       "    .dataframe thead th {\n",
       "        text-align: right;\n",
       "    }\n",
       "</style>\n",
       "<table border=\"1\" class=\"dataframe\">\n",
       "  <thead>\n",
       "    <tr style=\"text-align: right;\">\n",
       "      <th></th>\n",
       "      <th>tweet_id</th>\n",
       "      <th>airline_sentiment</th>\n",
       "      <th>text</th>\n",
       "      <th>American</th>\n",
       "      <th>Delta</th>\n",
       "      <th>Southwest</th>\n",
       "      <th>US Airways</th>\n",
       "      <th>United</th>\n",
       "      <th>Virgin America</th>\n",
       "      <th>Monday</th>\n",
       "      <th>...</th>\n",
       "      <th>Central Time (US &amp; Canada)</th>\n",
       "      <th>Eastern Time (US &amp; Canada)</th>\n",
       "      <th>London</th>\n",
       "      <th>Mountain Time (US &amp; Canada)</th>\n",
       "      <th>Pacific Time (US &amp; Canada)</th>\n",
       "      <th>Quito</th>\n",
       "      <th>Sydney</th>\n",
       "      <th>other_timezone</th>\n",
       "      <th>tweet_char_len</th>\n",
       "      <th>tweet_clean</th>\n",
       "    </tr>\n",
       "  </thead>\n",
       "  <tbody>\n",
       "    <tr>\n",
       "      <th>0</th>\n",
       "      <td>567588278875213824</td>\n",
       "      <td>neutral</td>\n",
       "      <td>@JetBlue's new CEO seeks the right balance to ...</td>\n",
       "      <td>0</td>\n",
       "      <td>1</td>\n",
       "      <td>0</td>\n",
       "      <td>0</td>\n",
       "      <td>0</td>\n",
       "      <td>0</td>\n",
       "      <td>1</td>\n",
       "      <td>...</td>\n",
       "      <td>0</td>\n",
       "      <td>0</td>\n",
       "      <td>0</td>\n",
       "      <td>0</td>\n",
       "      <td>0</td>\n",
       "      <td>0</td>\n",
       "      <td>1</td>\n",
       "      <td>0</td>\n",
       "      <td>127</td>\n",
       "      <td>new ceo seeks right balance please passengers ...</td>\n",
       "    </tr>\n",
       "    <tr>\n",
       "      <th>1</th>\n",
       "      <td>567590027375702016</td>\n",
       "      <td>negative</td>\n",
       "      <td>@JetBlue is REALLY getting on my nerves !! 😡😡 ...</td>\n",
       "      <td>0</td>\n",
       "      <td>1</td>\n",
       "      <td>0</td>\n",
       "      <td>0</td>\n",
       "      <td>0</td>\n",
       "      <td>0</td>\n",
       "      <td>1</td>\n",
       "      <td>...</td>\n",
       "      <td>0</td>\n",
       "      <td>0</td>\n",
       "      <td>0</td>\n",
       "      <td>0</td>\n",
       "      <td>1</td>\n",
       "      <td>0</td>\n",
       "      <td>0</td>\n",
       "      <td>0</td>\n",
       "      <td>55</td>\n",
       "      <td>really getting nerves 😡😡 nothappy</td>\n",
       "    </tr>\n",
       "    <tr>\n",
       "      <th>2</th>\n",
       "      <td>567591480085463040</td>\n",
       "      <td>negative</td>\n",
       "      <td>@united yes. We waited in line for almost an h...</td>\n",
       "      <td>0</td>\n",
       "      <td>0</td>\n",
       "      <td>0</td>\n",
       "      <td>0</td>\n",
       "      <td>1</td>\n",
       "      <td>0</td>\n",
       "      <td>1</td>\n",
       "      <td>...</td>\n",
       "      <td>0</td>\n",
       "      <td>0</td>\n",
       "      <td>0</td>\n",
       "      <td>0</td>\n",
       "      <td>0</td>\n",
       "      <td>0</td>\n",
       "      <td>0</td>\n",
       "      <td>1</td>\n",
       "      <td>115</td>\n",
       "      <td>yes waited line almost hour passengers left wa...</td>\n",
       "    </tr>\n",
       "    <tr>\n",
       "      <th>3</th>\n",
       "      <td>567592368451248130</td>\n",
       "      <td>negative</td>\n",
       "      <td>@united the we got into the gate at IAH on tim...</td>\n",
       "      <td>0</td>\n",
       "      <td>0</td>\n",
       "      <td>0</td>\n",
       "      <td>0</td>\n",
       "      <td>1</td>\n",
       "      <td>0</td>\n",
       "      <td>1</td>\n",
       "      <td>...</td>\n",
       "      <td>0</td>\n",
       "      <td>0</td>\n",
       "      <td>0</td>\n",
       "      <td>0</td>\n",
       "      <td>0</td>\n",
       "      <td>0</td>\n",
       "      <td>0</td>\n",
       "      <td>1</td>\n",
       "      <td>140</td>\n",
       "      <td>got gate iah time given seats closed flight kn...</td>\n",
       "    </tr>\n",
       "    <tr>\n",
       "      <th>4</th>\n",
       "      <td>567594449874587648</td>\n",
       "      <td>negative</td>\n",
       "      <td>@SouthwestAir its cool that my bags take a bit...</td>\n",
       "      <td>0</td>\n",
       "      <td>0</td>\n",
       "      <td>1</td>\n",
       "      <td>0</td>\n",
       "      <td>0</td>\n",
       "      <td>0</td>\n",
       "      <td>0</td>\n",
       "      <td>...</td>\n",
       "      <td>0</td>\n",
       "      <td>0</td>\n",
       "      <td>0</td>\n",
       "      <td>0</td>\n",
       "      <td>1</td>\n",
       "      <td>0</td>\n",
       "      <td>0</td>\n",
       "      <td>0</td>\n",
       "      <td>139</td>\n",
       "      <td>cool bags take bit longer dont give baggage bl...</td>\n",
       "    </tr>\n",
       "  </tbody>\n",
       "</table>\n",
       "<p>5 rows × 29 columns</p>\n",
       "</div>"
      ],
      "text/plain": [
       "             tweet_id airline_sentiment  \\\n",
       "0  567588278875213824           neutral   \n",
       "1  567590027375702016          negative   \n",
       "2  567591480085463040          negative   \n",
       "3  567592368451248130          negative   \n",
       "4  567594449874587648          negative   \n",
       "\n",
       "                                                text  American  Delta  \\\n",
       "0  @JetBlue's new CEO seeks the right balance to ...         0      1   \n",
       "1  @JetBlue is REALLY getting on my nerves !! 😡😡 ...         0      1   \n",
       "2  @united yes. We waited in line for almost an h...         0      0   \n",
       "3  @united the we got into the gate at IAH on tim...         0      0   \n",
       "4  @SouthwestAir its cool that my bags take a bit...         0      0   \n",
       "\n",
       "   Southwest  US Airways  United  Virgin America  Monday  ...  \\\n",
       "0          0           0       0               0       1  ...   \n",
       "1          0           0       0               0       1  ...   \n",
       "2          0           0       1               0       1  ...   \n",
       "3          0           0       1               0       1  ...   \n",
       "4          1           0       0               0       0  ...   \n",
       "\n",
       "   Central Time (US & Canada)  Eastern Time (US & Canada)  London  \\\n",
       "0                           0                           0       0   \n",
       "1                           0                           0       0   \n",
       "2                           0                           0       0   \n",
       "3                           0                           0       0   \n",
       "4                           0                           0       0   \n",
       "\n",
       "   Mountain Time (US & Canada)  Pacific Time (US & Canada)  Quito  Sydney  \\\n",
       "0                            0                           0      0       1   \n",
       "1                            0                           1      0       0   \n",
       "2                            0                           0      0       0   \n",
       "3                            0                           0      0       0   \n",
       "4                            0                           1      0       0   \n",
       "\n",
       "   other_timezone  tweet_char_len  \\\n",
       "0               0             127   \n",
       "1               0              55   \n",
       "2               1             115   \n",
       "3               1             140   \n",
       "4               0             139   \n",
       "\n",
       "                                         tweet_clean  \n",
       "0  new ceo seeks right balance please passengers ...  \n",
       "1                  really getting nerves 😡😡 nothappy  \n",
       "2  yes waited line almost hour passengers left wa...  \n",
       "3  got gate iah time given seats closed flight kn...  \n",
       "4  cool bags take bit longer dont give baggage bl...  \n",
       "\n",
       "[5 rows x 29 columns]"
      ]
     },
     "execution_count": 46,
     "metadata": {},
     "output_type": "execute_result"
    }
   ],
   "source": [
    "df_1.head()"
   ]
  },
  {
   "cell_type": "markdown",
   "metadata": {},
   "source": [
    "## Model Building"
   ]
  },
  {
   "cell_type": "markdown",
   "metadata": {},
   "source": [
    "### Vectorizer"
   ]
  },
  {
   "cell_type": "code",
   "execution_count": 47,
   "metadata": {},
   "outputs": [],
   "source": [
    "from sklearn.feature_extraction.text import CountVectorizer\n",
    "from sklearn.feature_extraction.text import TfidfVectorizer\n",
    "import scipy.sparse"
   ]
  },
  {
   "cell_type": "code",
   "execution_count": 48,
   "metadata": {
    "scrolled": true
   },
   "outputs": [],
   "source": [
    "cv = CountVectorizer()\n",
    "\n",
    "cv_text = cv.fit_transform(df_1['tweet_clean'])\n",
    "\n",
    "cv_n = CountVectorizer(ngram_range=(2,2))\n",
    "\n",
    "cv_text_n = cv.fit_transform(df_1['tweet_clean'])"
   ]
  },
  {
   "cell_type": "code",
   "execution_count": 49,
   "metadata": {},
   "outputs": [],
   "source": [
    "tf = TfidfVectorizer()\n",
    "\n",
    "tf_text = tf.fit_transform(df_1['tweet_clean'])\n",
    "\n",
    "tf_n = TfidfVectorizer(ngram_range=(2,2))\n",
    "\n",
    "tf_text_n = tf.fit_transform(df_1['tweet_clean'])"
   ]
  },
  {
   "cell_type": "markdown",
   "metadata": {},
   "source": [
    "### Split into Train and Test"
   ]
  },
  {
   "cell_type": "code",
   "execution_count": 50,
   "metadata": {},
   "outputs": [],
   "source": [
    "from sklearn.model_selection import train_test_split\n",
    "from sklearn.model_selection import KFold\n",
    "import time\n",
    "\n",
    "from sklearn.model_selection import RandomizedSearchCV\n",
    "from sklearn.model_selection import GridSearchCV\n",
    "from scipy import stats"
   ]
  },
  {
   "cell_type": "code",
   "execution_count": 51,
   "metadata": {
    "scrolled": true
   },
   "outputs": [],
   "source": [
    "# Split the data between train and test\n",
    "X_train_cv, X_test_cv, y_train_cv, y_test_cv = train_test_split(cv_text, df_1['airline_sentiment'],\n",
    "                                                                test_size=0.33, shuffle=True, random_state = 42)\n",
    "\n",
    "X_train_tf, X_test_tf, y_train_tf, y_test_tf = train_test_split(tf_text, df_1['airline_sentiment'], test_size=0.33, \n",
    "                                                                shuffle=True, random_state = 42)\n",
    "\n",
    "# Split the data between train and test for n_gram\n",
    "X_train_cvn, X_test_cvn, y_train_cvn, y_test_cvn = train_test_split(cv_text_n, df_1['airline_sentiment'],\n",
    "                                                                test_size=0.33, shuffle=True, random_state = 42)\n",
    "\n",
    "X_train_tfn, X_test_tfn, y_train_tfn, y_test_tfn = train_test_split(tf_text_n, df_1['airline_sentiment'], test_size=0.33, \n",
    "                                                                shuffle=True, random_state = 42)\n",
    "\n",
    "# have the model be split into 10 folds\n",
    "kfold = KFold(n_splits=3, shuffle=True, random_state=42)"
   ]
  },
  {
   "cell_type": "markdown",
   "metadata": {},
   "source": [
    "### MultinomialNB Classifier"
   ]
  },
  {
   "cell_type": "code",
   "execution_count": 52,
   "metadata": {},
   "outputs": [],
   "source": [
    "from sklearn.naive_bayes import MultinomialNB\n",
    "\n",
    "clf_mnb = MultinomialNB()\n",
    "\n",
    "hyperparameters = {'alpha': [0.001, 0.01, 0.1, 10, 20, 30, 40, 50, 60, 70, \n",
    "                             80, 90, 100]}"
   ]
  },
  {
   "cell_type": "code",
   "execution_count": 53,
   "metadata": {
    "scrolled": false
   },
   "outputs": [
    {
     "name": "stdout",
     "output_type": "stream",
     "text": [
      "8.19110631942749\n"
     ]
    }
   ],
   "source": [
    "t0 = time.time()\n",
    "\n",
    "clf_mnb_gridcv = GridSearchCV(estimator=clf_mnb, \n",
    "                              param_grid=hyperparameters, \n",
    "                              scoring='f1_weighted', \n",
    "                              cv=kfold, \n",
    "                              n_jobs=-1, \n",
    "                              return_train_score=True)\n",
    "\n",
    "clf_mnb_gridcv.fit(X_train_cv, y_train_cv)\n",
    "\n",
    "t1 = time.time()\n",
    "timeit=t1-t0\n",
    "print(timeit)"
   ]
  },
  {
   "cell_type": "code",
   "execution_count": 54,
   "metadata": {},
   "outputs": [
    {
     "name": "stdout",
     "output_type": "stream",
     "text": [
      "Training Score = 0.930 (0.002)\n",
      "Validation Score = 0.745 (0.007)\n"
     ]
    }
   ],
   "source": [
    "training_score = clf_mnb_gridcv.cv_results_['mean_train_score'][clf_mnb_gridcv.best_index_]\n",
    "training_std = clf_mnb_gridcv.cv_results_['std_train_score'][clf_mnb_gridcv.best_index_]\n",
    "print(\"Training Score = {:.3f}\".format(training_score)\n",
    "        + \" ({:.3f})\".format(training_std))\n",
    "\n",
    "validation_score = clf_mnb_gridcv.best_score_\n",
    "test_std = clf_mnb_gridcv.cv_results_['std_test_score'][clf_mnb_gridcv.best_index_]\n",
    "print(\"Validation Score = {:.3f}\".format(validation_score)\n",
    "          + \" ({:.3f})\".format(test_std))"
   ]
  },
  {
   "cell_type": "code",
   "execution_count": 55,
   "metadata": {},
   "outputs": [
    {
     "data": {
      "text/plain": [
       "MultinomialNB(alpha=0.1, class_prior=None, fit_prior=True)"
      ]
     },
     "execution_count": 55,
     "metadata": {},
     "output_type": "execute_result"
    }
   ],
   "source": [
    "clf_mnb_gridcv.best_estimator_"
   ]
  },
  {
   "cell_type": "code",
   "execution_count": 56,
   "metadata": {},
   "outputs": [
    {
     "name": "stdout",
     "output_type": "stream",
     "text": [
      "1.9477934837341309\n"
     ]
    }
   ],
   "source": [
    "t0 = time.time()\n",
    "\n",
    "clf_mnb_gridtf = GridSearchCV(estimator=clf_mnb, \n",
    "                              param_grid=hyperparameters, \n",
    "                              scoring='f1_weighted', \n",
    "                              cv=kfold, \n",
    "                              n_jobs=-1, \n",
    "                              return_train_score=True)\n",
    "\n",
    "clf_mnb_gridtf.fit(X_train_tf, y_train_tf)\n",
    "\n",
    "t1 = time.time()\n",
    "timeit=t1-t0\n",
    "print(timeit)"
   ]
  },
  {
   "cell_type": "code",
   "execution_count": 57,
   "metadata": {},
   "outputs": [
    {
     "name": "stdout",
     "output_type": "stream",
     "text": [
      "Training Score = 0.935 (0.000)\n",
      "Validation Score = 0.716 (0.005)\n"
     ]
    }
   ],
   "source": [
    "training_score = clf_mnb_gridtf.cv_results_['mean_train_score'][clf_mnb_gridtf.best_index_]\n",
    "training_std = clf_mnb_gridtf.cv_results_['std_train_score'][clf_mnb_gridtf.best_index_]\n",
    "print(\"Training Score = {:.3f}\".format(training_score)\n",
    "        + \" ({:.3f})\".format(training_std))\n",
    "\n",
    "validation_score = clf_mnb_gridtf.best_score_\n",
    "test_std = clf_mnb_gridtf.cv_results_['std_test_score'][clf_mnb_gridtf.best_index_]\n",
    "print(\"Validation Score = {:.3f}\".format(validation_score)\n",
    "          + \" ({:.3f})\".format(test_std))"
   ]
  },
  {
   "cell_type": "code",
   "execution_count": 58,
   "metadata": {},
   "outputs": [
    {
     "name": "stdout",
     "output_type": "stream",
     "text": [
      "2.0804383754730225\n"
     ]
    }
   ],
   "source": [
    "t0 = time.time()\n",
    "\n",
    "clf_mnb_gridcvn = GridSearchCV(estimator=clf_mnb, \n",
    "                              param_grid=hyperparameters, \n",
    "                              scoring='f1_weighted', \n",
    "                              cv=kfold, \n",
    "                              n_jobs=-1, \n",
    "                              return_train_score=True)\n",
    "\n",
    "clf_mnb_gridcvn.fit(X_train_cvn, y_train_cvn)\n",
    "\n",
    "t1 = time.time()\n",
    "timeit=t1-t0\n",
    "print(timeit)"
   ]
  },
  {
   "cell_type": "code",
   "execution_count": 59,
   "metadata": {},
   "outputs": [
    {
     "name": "stdout",
     "output_type": "stream",
     "text": [
      "Training Score = 0.930 (0.002)\n",
      "Validation Score = 0.745 (0.007)\n"
     ]
    }
   ],
   "source": [
    "training_score = clf_mnb_gridcvn.cv_results_['mean_train_score'][clf_mnb_gridcvn.best_index_]\n",
    "training_std = clf_mnb_gridcvn.cv_results_['std_train_score'][clf_mnb_gridcvn.best_index_]\n",
    "print(\"Training Score = {:.3f}\".format(training_score)\n",
    "        + \" ({:.3f})\".format(training_std))\n",
    "\n",
    "validation_score = clf_mnb_gridcvn.best_score_\n",
    "test_std = clf_mnb_gridcvn.cv_results_['std_test_score'][clf_mnb_gridcvn.best_index_]\n",
    "print(\"Validation Score = {:.3f}\".format(validation_score)\n",
    "          + \" ({:.3f})\".format(test_std))"
   ]
  },
  {
   "cell_type": "code",
   "execution_count": 60,
   "metadata": {},
   "outputs": [
    {
     "data": {
      "text/plain": [
       "MultinomialNB(alpha=0.1, class_prior=None, fit_prior=True)"
      ]
     },
     "execution_count": 60,
     "metadata": {},
     "output_type": "execute_result"
    }
   ],
   "source": [
    "clf_mnb_gridcvn.best_estimator_"
   ]
  },
  {
   "cell_type": "code",
   "execution_count": 61,
   "metadata": {},
   "outputs": [
    {
     "name": "stdout",
     "output_type": "stream",
     "text": [
      "2.0864241123199463\n"
     ]
    }
   ],
   "source": [
    "t0 = time.time()\n",
    "\n",
    "clf_mnb_gridtfn = GridSearchCV(estimator=clf_mnb, \n",
    "                              param_grid=hyperparameters, \n",
    "                              scoring='f1_weighted', \n",
    "                              cv=kfold, \n",
    "                              n_jobs=-1, \n",
    "                              return_train_score=True)\n",
    "\n",
    "clf_mnb_gridtfn.fit(X_train_tfn, y_train_tfn)\n",
    "\n",
    "t1 = time.time()\n",
    "timeit=t1-t0\n",
    "print(timeit)"
   ]
  },
  {
   "cell_type": "code",
   "execution_count": 62,
   "metadata": {},
   "outputs": [
    {
     "name": "stdout",
     "output_type": "stream",
     "text": [
      "Training Score = 0.935 (0.000)\n",
      "Validation Score = 0.716 (0.005)\n"
     ]
    }
   ],
   "source": [
    "training_score = clf_mnb_gridtfn.cv_results_['mean_train_score'][clf_mnb_gridtfn.best_index_]\n",
    "training_std = clf_mnb_gridtfn.cv_results_['std_train_score'][clf_mnb_gridtfn.best_index_]\n",
    "print(\"Training Score = {:.3f}\".format(training_score)\n",
    "        + \" ({:.3f})\".format(training_std))\n",
    "\n",
    "validation_score = clf_mnb_gridtfn.best_score_\n",
    "test_std = clf_mnb_gridtfn.cv_results_['std_test_score'][clf_mnb_gridtfn.best_index_]\n",
    "print(\"Validation Score = {:.3f}\".format(validation_score)\n",
    "          + \" ({:.3f})\".format(test_std))"
   ]
  },
  {
   "cell_type": "code",
   "execution_count": 63,
   "metadata": {},
   "outputs": [
    {
     "data": {
      "text/plain": [
       "MultinomialNB(alpha=0.01, class_prior=None, fit_prior=True)"
      ]
     },
     "execution_count": 63,
     "metadata": {},
     "output_type": "execute_result"
    }
   ],
   "source": [
    "clf_mnb_gridtfn.best_estimator_"
   ]
  },
  {
   "cell_type": "markdown",
   "metadata": {},
   "source": [
    "### SVC Classifier"
   ]
  },
  {
   "cell_type": "code",
   "execution_count": 64,
   "metadata": {},
   "outputs": [],
   "source": [
    "# import the required module from scikit learn\n",
    "from sklearn.svm import LinearSVC\n",
    "\n",
    "clf_svc = LinearSVC()\n",
    "\n",
    "hyperparameters = {'C': [1, 11, 21, 31, 41, 51, 61, 71, 81, 91], \n",
    "                   'tol': [0.01, 0.0001, 1e-09],\n",
    "                   'dual': [False]\n",
    "                  }"
   ]
  },
  {
   "cell_type": "code",
   "execution_count": 65,
   "metadata": {
    "scrolled": true
   },
   "outputs": [
    {
     "name": "stdout",
     "output_type": "stream",
     "text": [
      "199.65445852279663\n"
     ]
    }
   ],
   "source": [
    "t0 = time.time()\n",
    "\n",
    "clf_svc_gridcv = GridSearchCV(estimator=clf_svc, \n",
    "                              param_grid=hyperparameters, \n",
    "                              scoring='f1_weighted', \n",
    "                              cv=kfold, \n",
    "                              n_jobs=-1,\n",
    "                              return_train_score=True)\n",
    "\n",
    "clf_svc_gridcv.fit(X_train_cv, y_train_cv)\n",
    "\n",
    "t1 = time.time()\n",
    "timeit=t1-t0\n",
    "print(timeit)"
   ]
  },
  {
   "cell_type": "code",
   "execution_count": 66,
   "metadata": {},
   "outputs": [
    {
     "name": "stdout",
     "output_type": "stream",
     "text": [
      "Training Score = 0.987 (0.000)\n",
      "Validation Score = 0.750 (0.005)\n"
     ]
    }
   ],
   "source": [
    "training_score = clf_svc_gridcv.cv_results_['mean_train_score'][clf_svc_gridcv.best_index_]\n",
    "training_std = clf_svc_gridcv.cv_results_['std_train_score'][clf_svc_gridcv.best_index_]\n",
    "print(\"Training Score = {:.3f}\".format(training_score)\n",
    "        + \" ({:.3f})\".format(training_std))\n",
    "\n",
    "validation_score = clf_svc_gridcv.best_score_\n",
    "test_std = clf_svc_gridcv.cv_results_['std_test_score'][clf_svc_gridcv.best_index_]\n",
    "print(\"Validation Score = {:.3f}\".format(validation_score)\n",
    "          + \" ({:.3f})\".format(test_std))"
   ]
  },
  {
   "cell_type": "code",
   "execution_count": 67,
   "metadata": {},
   "outputs": [
    {
     "data": {
      "text/plain": [
       "LinearSVC(C=1, class_weight=None, dual=False, fit_intercept=True,\n",
       "          intercept_scaling=1, loss='squared_hinge', max_iter=1000,\n",
       "          multi_class='ovr', penalty='l2', random_state=None, tol=0.01,\n",
       "          verbose=0)"
      ]
     },
     "execution_count": 67,
     "metadata": {},
     "output_type": "execute_result"
    }
   ],
   "source": [
    "clf_svc_gridcv.best_estimator_"
   ]
  },
  {
   "cell_type": "code",
   "execution_count": 68,
   "metadata": {},
   "outputs": [
    {
     "name": "stdout",
     "output_type": "stream",
     "text": [
      "55.2303626537323\n"
     ]
    }
   ],
   "source": [
    "t0 = time.time()\n",
    "\n",
    "clf_svc_gridtf = GridSearchCV(estimator=clf_svc, \n",
    "                              param_grid=hyperparameters, \n",
    "                              scoring='f1_weighted', \n",
    "                              cv=kfold, \n",
    "                              n_jobs=-1,\n",
    "                              return_train_score=True)\n",
    "\n",
    "clf_svc_gridtf.fit(X_train_tf, y_train_tf)\n",
    "\n",
    "t1 = time.time()\n",
    "timeit=t1-t0\n",
    "print(timeit)"
   ]
  },
  {
   "cell_type": "code",
   "execution_count": 69,
   "metadata": {},
   "outputs": [
    {
     "name": "stdout",
     "output_type": "stream",
     "text": [
      "Training Score = 0.973 (0.001)\n",
      "Validation Score = 0.757 (0.002)\n"
     ]
    }
   ],
   "source": [
    " training_score = clf_svc_gridtf.cv_results_['mean_train_score'][clf_svc_gridtf.best_index_]\n",
    "training_std = clf_svc_gridtf.cv_results_['std_train_score'][clf_svc_gridtf.best_index_]\n",
    "print(\"Training Score = {:.3f}\".format(training_score)\n",
    "        + \" ({:.3f})\".format(training_std))\n",
    "\n",
    "validation_score = clf_svc_gridtf.best_score_\n",
    "test_std = clf_svc_gridtf.cv_results_['std_test_score'][clf_svc_gridtf.best_index_]\n",
    "print(\"Validation Score = {:.3f}\".format(validation_score)\n",
    "          + \" ({:.3f})\".format(test_std))"
   ]
  },
  {
   "cell_type": "code",
   "execution_count": 70,
   "metadata": {},
   "outputs": [
    {
     "name": "stdout",
     "output_type": "stream",
     "text": [
      "213.40894484519958\n"
     ]
    }
   ],
   "source": [
    "t0 = time.time()\n",
    "\n",
    "clf_svc_gridcvn = GridSearchCV(estimator=clf_svc, \n",
    "                              param_grid=hyperparameters, \n",
    "                              scoring='f1_weighted', \n",
    "                              cv=kfold, \n",
    "                              n_jobs=-1,\n",
    "                              return_train_score=True)\n",
    "\n",
    "clf_svc_gridcvn.fit(X_train_cvn, y_train_cvn)\n",
    "\n",
    "t1 = time.time()\n",
    "timeit=t1-t0\n",
    "print(timeit)"
   ]
  },
  {
   "cell_type": "code",
   "execution_count": 71,
   "metadata": {},
   "outputs": [
    {
     "name": "stdout",
     "output_type": "stream",
     "text": [
      "Training Score = 0.987 (0.000)\n",
      "Validation Score = 0.750 (0.005)\n"
     ]
    }
   ],
   "source": [
    "training_score = clf_svc_gridcvn.cv_results_['mean_train_score'][clf_svc_gridcvn.best_index_]\n",
    "training_std = clf_svc_gridcvn.cv_results_['std_train_score'][clf_svc_gridcvn.best_index_]\n",
    "print(\"Training Score = {:.3f}\".format(training_score)\n",
    "        + \" ({:.3f})\".format(training_std))\n",
    "\n",
    "validation_score = clf_svc_gridcvn.best_score_\n",
    "test_std = clf_svc_gridcvn.cv_results_['std_test_score'][clf_svc_gridcvn.best_index_]\n",
    "print(\"Validation Score = {:.3f}\".format(validation_score)\n",
    "          + \" ({:.3f})\".format(test_std))"
   ]
  },
  {
   "cell_type": "code",
   "execution_count": 72,
   "metadata": {},
   "outputs": [
    {
     "name": "stdout",
     "output_type": "stream",
     "text": [
      "61.11760210990906\n"
     ]
    }
   ],
   "source": [
    "t0 = time.time()\n",
    "\n",
    "clf_svc_gridtfn = GridSearchCV(estimator=clf_svc, \n",
    "                              param_grid=hyperparameters, \n",
    "                              scoring='f1_weighted', \n",
    "                              cv=kfold, \n",
    "                              n_jobs=-1,\n",
    "                              return_train_score=True)\n",
    "\n",
    "clf_svc_gridtfn.fit(X_train_tfn, y_train_tfn)\n",
    "\n",
    "t1 = time.time()\n",
    "timeit=t1-t0\n",
    "print(timeit)"
   ]
  },
  {
   "cell_type": "code",
   "execution_count": 73,
   "metadata": {},
   "outputs": [
    {
     "name": "stdout",
     "output_type": "stream",
     "text": [
      "Training Score = 0.973 (0.001)\n",
      "Validation Score = 0.757 (0.002)\n"
     ]
    }
   ],
   "source": [
    " training_score = clf_svc_gridtfn.cv_results_['mean_train_score'][clf_svc_gridtfn.best_index_]\n",
    "training_std = clf_svc_gridtfn.cv_results_['std_train_score'][clf_svc_gridtfn.best_index_]\n",
    "print(\"Training Score = {:.3f}\".format(training_score)\n",
    "        + \" ({:.3f})\".format(training_std))\n",
    "\n",
    "validation_score = clf_svc_gridtfn.best_score_\n",
    "test_std = clf_svc_gridtfn.cv_results_['std_test_score'][clf_svc_gridtfn.best_index_]\n",
    "print(\"Validation Score = {:.3f}\".format(validation_score)\n",
    "          + \" ({:.3f})\".format(test_std))"
   ]
  },
  {
   "cell_type": "markdown",
   "metadata": {},
   "source": [
    "### Random Forest Classifier"
   ]
  },
  {
   "cell_type": "code",
   "execution_count": 74,
   "metadata": {},
   "outputs": [],
   "source": [
    "from sklearn.ensemble import RandomForestClassifier\n",
    "\n",
    "clf_rfc = RandomForestClassifier()\n",
    "\n",
    "hyperparameters = {'n_estimators':stats.randint(10,300), \n",
    "                   'criterion':['gini','entropy'], \n",
    "                   'min_samples_split':stats.randint(2,9), \n",
    "                   'bootstrap':[True,False]\n",
    "                  }"
   ]
  },
  {
   "cell_type": "code",
   "execution_count": 75,
   "metadata": {},
   "outputs": [
    {
     "name": "stdout",
     "output_type": "stream",
     "text": [
      "37359.38108801842\n"
     ]
    }
   ],
   "source": [
    "t0 = time.time()\n",
    "\n",
    "clf_randcv_rfc = RandomizedSearchCV(estimator=clf_rfc, \n",
    "                                param_distributions=hyperparameters, \n",
    "                                scoring='f1_weighted', \n",
    "                                cv=kfold, \n",
    "                                random_state=42, \n",
    "                                n_jobs=-1, \n",
    "                                n_iter=1000, \n",
    "                                return_train_score=True)\n",
    "\n",
    "clf_randcv_rfc.fit(X_train_cv, y_train_cv)\n",
    "\n",
    "t1 = time.time()\n",
    "timeit=t1-t0\n",
    "print(timeit)"
   ]
  },
  {
   "cell_type": "code",
   "execution_count": 76,
   "metadata": {},
   "outputs": [
    {
     "name": "stdout",
     "output_type": "stream",
     "text": [
      "Training Score = 0.996 (0.000)\n",
      "Validation Score = 0.752 (0.006)\n"
     ]
    }
   ],
   "source": [
    "training_score = clf_randcv_rfc.cv_results_['mean_train_score'][clf_randcv_rfc.best_index_]\n",
    "training_std = clf_randcv_rfc.cv_results_['std_train_score'][clf_randcv_rfc.best_index_]\n",
    "print(\"Training Score = {:.3f}\".format(training_score)\n",
    "        + \" ({:.3f})\".format(training_std))\n",
    "\n",
    "validation_score = clf_randcv_rfc.best_score_\n",
    "test_std = clf_randcv_rfc.cv_results_['std_test_score'][clf_randcv_rfc.best_index_]\n",
    "print(\"Validation Score = {:.3f}\".format(validation_score)\n",
    "          + \" ({:.3f})\".format(test_std))"
   ]
  },
  {
   "cell_type": "code",
   "execution_count": null,
   "metadata": {},
   "outputs": [],
   "source": [
    "t0 = time.time()\n",
    "\n",
    "clf_randtf_rfc = RandomizedSearchCV(estimator=clf_rfc, \n",
    "                                param_distributions=hyperparameters, \n",
    "                                scoring='f1_weighted', \n",
    "                                cv=kfold, \n",
    "                                random_state=42, \n",
    "                                n_jobs=-1, \n",
    "                                n_iter=1000, \n",
    "                                return_train_score=True)\n",
    "\n",
    "clf_randtf_rfc.fit(X_train_tf, y_train_tf)\n",
    "\n",
    "t1 = time.time()\n",
    "timeit=t1-t0\n",
    "print(timeit)"
   ]
  },
  {
   "cell_type": "code",
   "execution_count": null,
   "metadata": {},
   "outputs": [],
   "source": [
    "training_score = clf_randtf_rfc.cv_results_['mean_train_score'][clf_randtf_rfc.best_index_]\n",
    "training_std = clf_randtf_rfc.cv_results_['std_train_score'][clf_randtf_rfc.best_index_]\n",
    "print(\"Training Score = {:.3f}\".format(training_score)\n",
    "        + \" ({:.3f})\".format(training_std))\n",
    "\n",
    "validation_score = clf_randtf_rfc.best_score_\n",
    "test_std = clf_randtf_rfc.cv_results_['std_test_score'][clf_randtf_rfc.best_index_]\n",
    "print(\"Validation Score = {:.3f}\".format(validation_score)\n",
    "          + \" ({:.3f})\".format(test_std))"
   ]
  },
  {
   "cell_type": "code",
   "execution_count": null,
   "metadata": {},
   "outputs": [],
   "source": [
    "t0 = time.time()\n",
    "\n",
    "clf_randcv_rfcn = RandomizedSearchCV(estimator=clf_rfc, \n",
    "                                param_distributions=hyperparameters, \n",
    "                                scoring='f1_weighted', \n",
    "                                cv=kfold, \n",
    "                                random_state=42, \n",
    "                                n_jobs=-1, \n",
    "                                n_iter=1000, \n",
    "                                return_train_score=True)\n",
    "\n",
    "clf_randcv_rfcn.fit(X_train_cvn, y_train_cvn)\n",
    "\n",
    "t1 = time.time()\n",
    "timeit=t1-t0\n",
    "print(timeit)"
   ]
  },
  {
   "cell_type": "code",
   "execution_count": null,
   "metadata": {},
   "outputs": [],
   "source": [
    "training_score = clf_randcv_rfcn.cv_results_['mean_train_score'][clf_randcv_rfcn.best_index_]\n",
    "training_std = clf_randcv_rfcn.cv_results_['std_train_score'][clf_randcv_rfcn.best_index_]\n",
    "print(\"Training Score = {:.3f}\".format(training_score)\n",
    "        + \" ({:.3f})\".format(training_std))\n",
    "\n",
    "validation_score = clf_randcv_rfcn.best_score_\n",
    "test_std = clf_randcv_rfcn.cv_results_['std_test_score'][clf_randcv_rfcn.best_index_]\n",
    "print(\"Validation Score = {:.3f}\".format(validation_score)\n",
    "          + \" ({:.3f})\".format(test_std))"
   ]
  },
  {
   "cell_type": "code",
   "execution_count": null,
   "metadata": {},
   "outputs": [],
   "source": [
    "t0 = time.time()\n",
    "\n",
    "clf_randtf_rfcn = RandomizedSearchCV(estimator=clf_rfc, \n",
    "                                param_distributions=hyperparameters, \n",
    "                                scoring='f1_weighted', \n",
    "                                cv=kfold, \n",
    "                                random_state=42, \n",
    "                                n_jobs=-1, \n",
    "                                n_iter=1000, \n",
    "                                return_train_score=True)\n",
    "\n",
    "clf_randtf_rfcn.fit(X_train_tfn, y_train_tfn)\n",
    "\n",
    "t1 = time.time()\n",
    "timeit=t1-t0\n",
    "print(timeit)"
   ]
  },
  {
   "cell_type": "code",
   "execution_count": null,
   "metadata": {},
   "outputs": [],
   "source": [
    "training_score = clf_randtf_rfcn.cv_results_['mean_train_score'][clf_randtf_rfcn.best_index_]\n",
    "training_std = clf_randtf_rfcn.cv_results_['std_train_score'][clf_randtf_rfcn.best_index_]\n",
    "print(\"Training Score = {:.3f}\".format(training_score)\n",
    "        + \" ({:.3f})\".format(training_std))\n",
    "\n",
    "validation_score = clf_randtf_rfcn.best_score_\n",
    "test_std = clf_randtf_rfcn.cv_results_['std_test_score'][clf_randtf_rfcn.best_index_]\n",
    "print(\"Validation Score = {:.3f}\".format(validation_score)\n",
    "          + \" ({:.3f})\".format(test_std))"
   ]
  },
  {
   "cell_type": "code",
   "execution_count": null,
   "metadata": {},
   "outputs": [],
   "source": [
    "# Install a pip package in the current Jupyter kernel\n",
    "# import sys\n",
    "# !{sys.executable} -m pip install sklearn_pandas"
   ]
  },
  {
   "cell_type": "code",
   "execution_count": null,
   "metadata": {},
   "outputs": [],
   "source": [
    "'''def concatenate_csc_matrices_by_columns(matrix1, matrix2):\n",
    "    new_data = np.concatenate((matrix1.data, matrix2.data))\n",
    "    new_indices = np.concatenate((matrix1.indices, matrix2.indices))\n",
    "    new_ind_ptr = matrix2.indptr + len(matrix1.data)\n",
    "    new_ind_ptr = new_ind_ptr[1:]\n",
    "    new_ind_ptr = np.concatenate((matrix1.indptr, new_ind_ptr))\n",
    "\n",
    "    return scipy.sparse.csc_matrix((new_data, new_indices, new_ind_ptr))\n",
    "\n",
    "def bag_of_words(df, vect):\n",
    "    if vect == 'cv':\n",
    "        v = CountVectorizer()\n",
    "    else:\n",
    "        v = TfidfVectorizer()\n",
    "    v_text = v.fit_transform(df['tweet_clean'])\n",
    "\n",
    "    df = df.drop(['tweet_clean', 'airline_sentiment'], axis=1)\n",
    "    df = scipy.sparse.csc_matrix(df.values)\n",
    "    \n",
    "    matrix = concatenate_csc_matrices_by_columns(v_text, df)\n",
    "    \n",
    "    return df\n",
    "\n",
    "df_1_col = list(df_1.columns)\n",
    "df_1_col.remove('tweet_id')\n",
    "df_1_col.remove('text')\n",
    "\n",
    "df_cv = bag_of_words(df_1[df_1_col], 'cv')\n",
    "df_tf = bag_of_words(df_1[df_1_col], 'tf')'''"
   ]
  }
 ],
 "metadata": {
  "kernelspec": {
   "display_name": "Python 3",
   "language": "python",
   "name": "python3"
  },
  "language_info": {
   "codemirror_mode": {
    "name": "ipython",
    "version": 3
   },
   "file_extension": ".py",
   "mimetype": "text/x-python",
   "name": "python",
   "nbconvert_exporter": "python",
   "pygments_lexer": "ipython3",
   "version": "3.7.3"
  }
 },
 "nbformat": 4,
 "nbformat_minor": 2
}
