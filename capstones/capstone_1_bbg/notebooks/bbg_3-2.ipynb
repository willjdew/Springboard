{
 "cells": [
  {
   "cell_type": "markdown",
   "metadata": {},
   "source": [
    "# BGG Stats\n",
    "\n",
    "There are a lot of different themes of board games.  Two of the most popular themes are Science Fiction and Fantasy.  The question that I have is if there is a statistical difference between the two themes average score or geek score."
   ]
  },
  {
   "cell_type": "markdown",
   "metadata": {},
   "source": [
    "### Import Data"
   ]
  },
  {
   "cell_type": "code",
   "execution_count": 1,
   "metadata": {},
   "outputs": [],
   "source": [
    "import pandas as pd\n",
    "import numpy as np\n",
    "import matplotlib.pyplot as plt\n",
    "%matplotlib inline\n",
    "import seaborn as sns\n",
    "\n",
    "import sys\n",
    "sys.path.append(\"../data/\")"
   ]
  },
  {
   "cell_type": "code",
   "execution_count": 2,
   "metadata": {},
   "outputs": [],
   "source": [
    "df = pd.read_csv('../data/bgg_2.csv')"
   ]
  },
  {
   "cell_type": "markdown",
   "metadata": {},
   "source": [
    "### Data Prep"
   ]
  },
  {
   "cell_type": "code",
   "execution_count": 35,
   "metadata": {},
   "outputs": [],
   "source": [
    "# Create series with fantasy or scifi games\n",
    "fantasy = df[['game_id', 'Fantasy']]\n",
    "scifi = df[['game_id', 'Science Fiction']]\n",
    "\n",
    "fantasy = fantasy[fantasy['Fantasy'] > 0]\n",
    "f_game_id = fantasy.game_id.values\n",
    "\n",
    "scifi = scifi[scifi['Science Fiction'] > 0]\n",
    "s_game_id = scifi.game_id.values\n",
    "\n",
    "df_fantasy = df.loc[df['game_id'].isin(f_game_id)]\n",
    "fantasy_avg = df_fantasy['avg_rating']\n",
    "fantasy_geek = df_fantasy['geek_rating']\n",
    "\n",
    "df_scifi = df.loc[df['game_id'].isin(s_game_id)]\n",
    "scifi_avg = df_scifi['avg_rating']\n",
    "scifi_geek = df_scifi['geek_rating']"
   ]
  },
  {
   "cell_type": "code",
   "execution_count": 40,
   "metadata": {
    "scrolled": true
   },
   "outputs": [
    {
     "name": "stdout",
     "output_type": "stream",
     "text": [
      "Avg rating for Fantasy game: 7.044\n",
      "Avg rating for SciFi game: 7.103\n",
      "Geek Avg rating for Fantasy game: 6.182\n",
      "Geek Avg rating for SciFi game: 6.198\n"
     ]
    }
   ],
   "source": [
    "print('Avg rating for Fantasy game: {:.3f}'.format(df_fantasy['avg_rating'].mean()))\n",
    "print('Avg rating for SciFi game: {:.3f}'.format(df_scifi['avg_rating'].mean()))\n",
    "\n",
    "print('Geek Avg rating for Fantasy game: {:.3f}'.format(df_fantasy['geek_rating'].mean()))\n",
    "print('Geek Avg rating for SciFi game: {:.3f}'.format(df_scifi['geek_rating'].mean()))"
   ]
  },
  {
   "cell_type": "markdown",
   "metadata": {},
   "source": [
    "We see that the avg_rating and geek_rating between Fantasy and SciFi board games are very close.  Using bootstrp replicates we will see if there is a statistical difference between the two.\n",
    "\n",
    "The null hypothesis is that there is no difference betweent the two themes of board games while hypothesis claims there is a difference.\n",
    "\n",
    "H0 = fantasy ratings = scifi ratings OR fantasy ratings - scifi ratings = 0\n",
    "\n",
    "Ha = fantasy ratings != scifi ratings"
   ]
  },
  {
   "cell_type": "markdown",
   "metadata": {},
   "source": [
    "### Bootstrap"
   ]
  },
  {
   "cell_type": "code",
   "execution_count": 7,
   "metadata": {},
   "outputs": [],
   "source": [
    "# DataQuest bootstrap functions\n",
    "def bootstrap_replicate_1d(data, func):\n",
    "    return func(np.random.choice(data, len(data)))\n",
    "\n",
    "def draw_bs_reps(data, func, size=1):\n",
    "    return np.array([bootstrap_replicate_1d(data, func) for _ in range(size)])"
   ]
  },
  {
   "cell_type": "code",
   "execution_count": 8,
   "metadata": {},
   "outputs": [],
   "source": [
    "# Bootstrap 10,000 replicates of the mean()\n",
    "bs_mean_fantasy_avg = draw_bs_reps(fantasy_avg, np.mean, 10000)\n",
    "bs_mean_fantasy_geek = draw_bs_reps(fantasy_geek, np.mean, 10000)\n",
    "\n",
    "bs_mean_scifi_avg = draw_bs_reps(scifi_avg, np.mean, 10000)\n",
    "bs_mean_scifi_geek = draw_bs_reps(scifi_geek, np.mean, 10000)"
   ]
  },
  {
   "cell_type": "code",
   "execution_count": 9,
   "metadata": {},
   "outputs": [],
   "source": [
    "# difference of means\n",
    "bs_mean_diff_avg = bs_mean_fantasy_avg - bs_mean_scifi_avg\n",
    "bs_mean_diff_geek = bs_mean_fantasy_geek - bs_mean_scifi_geek\n",
    "\n",
    "# 95% confidence interval\n",
    "conf_int_95_avg = np.percentile(bs_mean_diff_avg, [2.5, 97.5])\n",
    "conf_int_95_geek = np.percentile(bs_mean_diff_geek, [2.5, 97.5])"
   ]
  },
  {
   "cell_type": "code",
   "execution_count": 10,
   "metadata": {},
   "outputs": [
    {
     "data": {
      "image/png": "[encoded data removed]",
      "text/plain": [
       "<Figure size 432x288 with 1 Axes>"
      ]
     },
     "metadata": {
      "needs_background": "light"
     },
     "output_type": "display_data"
    }
   ],
   "source": [
    "plt.hist(bs_mean_diff_avg, density=True, bins=50)\n",
    "plt.axvline(x=conf_int_95_avg[0], color='r')\n",
    "plt.axvline(x=conf_int_95_avg[1], color='r')\n",
    "plt.xlabel('Fantasy/Science Fiction Average Rating Mean Difference')\n",
    "plt.ylabel('Frequency')\n",
    "plt.title('Mean Difference from 10,000 bootrap replicates');"
   ]
  },
  {
   "cell_type": "code",
   "execution_count": 11,
   "metadata": {
    "scrolled": true
   },
   "outputs": [
    {
     "data": {
      "image/png": "[encoded data removed]",
      "text/plain": [
       "<Figure size 432x288 with 1 Axes>"
      ]
     },
     "metadata": {
      "needs_background": "light"
     },
     "output_type": "display_data"
    }
   ],
   "source": [
    "plt.hist(bs_mean_diff_geek, density=True, bins=50)\n",
    "plt.axvline(x=conf_int_95_geek[0], color='r')\n",
    "plt.axvline(x=conf_int_95_geek[1], color='r')\n",
    "plt.xlabel('Fantasy/Science Fiction Geek Rating Mean Difference')\n",
    "plt.ylabel('Frequency')\n",
    "plt.title('Mean Difference from 10,000 bootrap replicates');"
   ]
  },
  {
   "cell_type": "markdown",
   "metadata": {},
   "source": [
    "The above histograms is the mean difference in bootstap deviation of 10,000 samples.  The red lines mark the 95% confidenc interval.  We see that the 95% confidence interval does contain 0 on both avg_rating and geek_rating.  This means we can accept the null hypothesis that the avg_rating and geek_rating of the themes Fantasy and SciFi have no statitical difference."
   ]
  },
  {
   "cell_type": "code",
   "execution_count": 12,
   "metadata": {},
   "outputs": [],
   "source": [
    "def shifted_arrays(whole_data, data, func):\n",
    "    return(data * func(whole_data) / func(data))"
   ]
  },
  {
   "cell_type": "code",
   "execution_count": 13,
   "metadata": {},
   "outputs": [],
   "source": [
    "concate_data_avg = np.concatenate((fantasy_avg, scifi_avg))\n",
    "concate_data_geek = np.concatenate((fantasy_geek, scifi_geek))"
   ]
  },
  {
   "cell_type": "code",
   "execution_count": 14,
   "metadata": {},
   "outputs": [],
   "source": [
    "shifted_fantasy_avg = shifted_arrays(concate_data_avg, fantasy_avg, np.mean)\n",
    "shifted_fantasy_geek = shifted_arrays(concate_data_geek, fantasy_geek, np.mean)\n",
    "\n",
    "shifted_scifi_avg = shifted_arrays(concate_data_avg, scifi_avg, np.mean)\n",
    "shifted_scifi_geek = shifted_arrays(concate_data_geek, scifi_geek, np.mean)"
   ]
  },
  {
   "cell_type": "code",
   "execution_count": 15,
   "metadata": {},
   "outputs": [],
   "source": [
    "bs_mean_shifted_fantasy_avg = draw_bs_reps(shifted_fantasy_avg, np.mean, 10000)\n",
    "bs_mean_shifted_fantasy_geek = draw_bs_reps(shifted_fantasy_geek, np.mean, 10000)\n",
    "\n",
    "bs_mean_shifted_scifi_avg = draw_bs_reps(shifted_scifi_avg, np.mean, 10000)\n",
    "bs_mean_shifted_scifi_geek = draw_bs_reps(shifted_scifi_geek, np.mean, 10000)"
   ]
  },
  {
   "cell_type": "code",
   "execution_count": 16,
   "metadata": {},
   "outputs": [],
   "source": [
    "mean_diff_shifted_avg = bs_mean_shifted_fantasy_avg - bs_mean_shifted_scifi_avg\n",
    "mean_diff_shifted_geek = bs_mean_shifted_fantasy_geek - bs_mean_shifted_scifi_geek\n",
    "\n",
    "measured_mean_diff_avg = np.mean(fantasy_avg) - np.mean(scifi_avg)\n",
    "measured_mean_diff_geek = np.mean(fantasy_geek) - np.mean(scifi_geek)"
   ]
  },
  {
   "cell_type": "code",
   "execution_count": 17,
   "metadata": {},
   "outputs": [],
   "source": [
    "# Compute and print p-value\n",
    "def find_p(bs_diff, measured_diff):\n",
    "    return(np.sum(bs_diff >= measured_diff) / len(bs_diff))"
   ]
  },
  {
   "cell_type": "code",
   "execution_count": 18,
   "metadata": {},
   "outputs": [
    {
     "name": "stdout",
     "output_type": "stream",
     "text": [
      "0.9534 0.6978\n"
     ]
    }
   ],
   "source": [
    "p_avg = find_p(mean_diff_shifted_avg, measured_mean_diff_avg)\n",
    "p_geek = find_p(mean_diff_shifted_geek, measured_mean_diff_geek)\n",
    "\n",
    "print(p_avg, p_geek)"
   ]
  },
  {
   "cell_type": "code",
   "execution_count": 19,
   "metadata": {},
   "outputs": [],
   "source": [
    "df_2017 = df[df['year'] == 2017]\n",
    "df_2004 = df[df['year'] == 2004]"
   ]
  },
  {
   "cell_type": "code",
   "execution_count": 20,
   "metadata": {
    "scrolled": true
   },
   "outputs": [
    {
     "data": {
      "text/html": [
       "<div>\n",
       "<style scoped>\n",
       "    .dataframe tbody tr th:only-of-type {\n",
       "        vertical-align: middle;\n",
       "    }\n",
       "\n",
       "    .dataframe tbody tr th {\n",
       "        vertical-align: top;\n",
       "    }\n",
       "\n",
       "    .dataframe thead th {\n",
       "        text-align: right;\n",
       "    }\n",
       "</style>\n",
       "<table border=\"1\" class=\"dataframe\">\n",
       "  <thead>\n",
       "    <tr style=\"text-align: right;\">\n",
       "      <th></th>\n",
       "      <th>game_id</th>\n",
       "      <th>min_players</th>\n",
       "      <th>max_players</th>\n",
       "      <th>min_time</th>\n",
       "      <th>max_time</th>\n",
       "      <th>year</th>\n",
       "      <th>avg_rating</th>\n",
       "      <th>geek_rating</th>\n",
       "      <th>num_votes</th>\n",
       "      <th>age</th>\n",
       "      <th>...</th>\n",
       "      <th>Economic</th>\n",
       "      <th>Exploration</th>\n",
       "      <th>Fantasy</th>\n",
       "      <th>Fighting</th>\n",
       "      <th>Medieval</th>\n",
       "      <th>Miniatures</th>\n",
       "      <th>Party Game</th>\n",
       "      <th>Science Fiction</th>\n",
       "      <th>combined_war</th>\n",
       "      <th>other_category</th>\n",
       "    </tr>\n",
       "  </thead>\n",
       "  <tbody>\n",
       "    <tr>\n",
       "      <th>count</th>\n",
       "      <td>139.000000</td>\n",
       "      <td>139.000000</td>\n",
       "      <td>139.000000</td>\n",
       "      <td>139.000000</td>\n",
       "      <td>139.000000</td>\n",
       "      <td>139.0</td>\n",
       "      <td>139.000000</td>\n",
       "      <td>139.000000</td>\n",
       "      <td>139.000000</td>\n",
       "      <td>139.000000</td>\n",
       "      <td>...</td>\n",
       "      <td>139.000000</td>\n",
       "      <td>139.000000</td>\n",
       "      <td>139.000000</td>\n",
       "      <td>139.000000</td>\n",
       "      <td>139.000000</td>\n",
       "      <td>139.000000</td>\n",
       "      <td>139.000000</td>\n",
       "      <td>139.000000</td>\n",
       "      <td>139.000000</td>\n",
       "      <td>139.000000</td>\n",
       "    </tr>\n",
       "    <tr>\n",
       "      <th>mean</th>\n",
       "      <td>11735.482014</td>\n",
       "      <td>2.122302</td>\n",
       "      <td>4.546763</td>\n",
       "      <td>90.359712</td>\n",
       "      <td>95.971223</td>\n",
       "      <td>2004.0</td>\n",
       "      <td>6.795969</td>\n",
       "      <td>6.127984</td>\n",
       "      <td>3347.899281</td>\n",
       "      <td>10.485633</td>\n",
       "      <td>...</td>\n",
       "      <td>0.122302</td>\n",
       "      <td>0.100719</td>\n",
       "      <td>0.129496</td>\n",
       "      <td>0.115108</td>\n",
       "      <td>0.079137</td>\n",
       "      <td>0.093525</td>\n",
       "      <td>0.071942</td>\n",
       "      <td>0.057554</td>\n",
       "      <td>0.366906</td>\n",
       "      <td>1.000000</td>\n",
       "    </tr>\n",
       "    <tr>\n",
       "      <th>std</th>\n",
       "      <td>3445.846648</td>\n",
       "      <td>0.531070</td>\n",
       "      <td>1.908118</td>\n",
       "      <td>92.186878</td>\n",
       "      <td>97.491876</td>\n",
       "      <td>0.0</td>\n",
       "      <td>0.549388</td>\n",
       "      <td>0.506793</td>\n",
       "      <td>7329.592857</td>\n",
       "      <td>2.113571</td>\n",
       "      <td>...</td>\n",
       "      <td>0.328819</td>\n",
       "      <td>0.302045</td>\n",
       "      <td>0.336963</td>\n",
       "      <td>0.320306</td>\n",
       "      <td>0.270928</td>\n",
       "      <td>0.292220</td>\n",
       "      <td>0.259327</td>\n",
       "      <td>0.233740</td>\n",
       "      <td>0.723757</td>\n",
       "      <td>0.992727</td>\n",
       "    </tr>\n",
       "    <tr>\n",
       "      <th>min</th>\n",
       "      <td>2651.000000</td>\n",
       "      <td>1.000000</td>\n",
       "      <td>2.000000</td>\n",
       "      <td>15.000000</td>\n",
       "      <td>15.000000</td>\n",
       "      <td>2004.0</td>\n",
       "      <td>5.792010</td>\n",
       "      <td>5.643470</td>\n",
       "      <td>90.000000</td>\n",
       "      <td>3.000000</td>\n",
       "      <td>...</td>\n",
       "      <td>0.000000</td>\n",
       "      <td>0.000000</td>\n",
       "      <td>0.000000</td>\n",
       "      <td>0.000000</td>\n",
       "      <td>0.000000</td>\n",
       "      <td>0.000000</td>\n",
       "      <td>0.000000</td>\n",
       "      <td>0.000000</td>\n",
       "      <td>0.000000</td>\n",
       "      <td>0.000000</td>\n",
       "    </tr>\n",
       "    <tr>\n",
       "      <th>25%</th>\n",
       "      <td>9769.500000</td>\n",
       "      <td>2.000000</td>\n",
       "      <td>4.000000</td>\n",
       "      <td>30.000000</td>\n",
       "      <td>30.000000</td>\n",
       "      <td>2004.0</td>\n",
       "      <td>6.322440</td>\n",
       "      <td>5.739130</td>\n",
       "      <td>445.500000</td>\n",
       "      <td>9.000000</td>\n",
       "      <td>...</td>\n",
       "      <td>0.000000</td>\n",
       "      <td>0.000000</td>\n",
       "      <td>0.000000</td>\n",
       "      <td>0.000000</td>\n",
       "      <td>0.000000</td>\n",
       "      <td>0.000000</td>\n",
       "      <td>0.000000</td>\n",
       "      <td>0.000000</td>\n",
       "      <td>0.000000</td>\n",
       "      <td>0.000000</td>\n",
       "    </tr>\n",
       "    <tr>\n",
       "      <th>50%</th>\n",
       "      <td>11202.000000</td>\n",
       "      <td>2.000000</td>\n",
       "      <td>4.000000</td>\n",
       "      <td>60.000000</td>\n",
       "      <td>60.000000</td>\n",
       "      <td>2004.0</td>\n",
       "      <td>6.767460</td>\n",
       "      <td>5.933380</td>\n",
       "      <td>872.000000</td>\n",
       "      <td>10.000000</td>\n",
       "      <td>...</td>\n",
       "      <td>0.000000</td>\n",
       "      <td>0.000000</td>\n",
       "      <td>0.000000</td>\n",
       "      <td>0.000000</td>\n",
       "      <td>0.000000</td>\n",
       "      <td>0.000000</td>\n",
       "      <td>0.000000</td>\n",
       "      <td>0.000000</td>\n",
       "      <td>0.000000</td>\n",
       "      <td>1.000000</td>\n",
       "    </tr>\n",
       "    <tr>\n",
       "      <th>75%</th>\n",
       "      <td>13004.500000</td>\n",
       "      <td>2.000000</td>\n",
       "      <td>6.000000</td>\n",
       "      <td>120.000000</td>\n",
       "      <td>120.000000</td>\n",
       "      <td>2004.0</td>\n",
       "      <td>7.166370</td>\n",
       "      <td>6.432610</td>\n",
       "      <td>2660.000000</td>\n",
       "      <td>12.000000</td>\n",
       "      <td>...</td>\n",
       "      <td>0.000000</td>\n",
       "      <td>0.000000</td>\n",
       "      <td>0.000000</td>\n",
       "      <td>0.000000</td>\n",
       "      <td>0.000000</td>\n",
       "      <td>0.000000</td>\n",
       "      <td>0.000000</td>\n",
       "      <td>0.000000</td>\n",
       "      <td>0.000000</td>\n",
       "      <td>1.500000</td>\n",
       "    </tr>\n",
       "    <tr>\n",
       "      <th>max</th>\n",
       "      <td>39332.000000</td>\n",
       "      <td>4.000000</td>\n",
       "      <td>10.000000</td>\n",
       "      <td>480.000000</td>\n",
       "      <td>480.000000</td>\n",
       "      <td>2004.0</td>\n",
       "      <td>8.261290</td>\n",
       "      <td>7.827220</td>\n",
       "      <td>55115.000000</td>\n",
       "      <td>14.000000</td>\n",
       "      <td>...</td>\n",
       "      <td>1.000000</td>\n",
       "      <td>1.000000</td>\n",
       "      <td>1.000000</td>\n",
       "      <td>1.000000</td>\n",
       "      <td>1.000000</td>\n",
       "      <td>1.000000</td>\n",
       "      <td>1.000000</td>\n",
       "      <td>1.000000</td>\n",
       "      <td>3.000000</td>\n",
       "      <td>4.000000</td>\n",
       "    </tr>\n",
       "  </tbody>\n",
       "</table>\n",
       "<p>8 rows × 52 columns</p>\n",
       "</div>"
      ],
      "text/plain": [
       "            game_id  min_players  max_players    min_time    max_time    year  \\\n",
       "count    139.000000   139.000000   139.000000  139.000000  139.000000   139.0   \n",
       "mean   11735.482014     2.122302     4.546763   90.359712   95.971223  2004.0   \n",
       "std     3445.846648     0.531070     1.908118   92.186878   97.491876     0.0   \n",
       "min     2651.000000     1.000000     2.000000   15.000000   15.000000  2004.0   \n",
       "25%     9769.500000     2.000000     4.000000   30.000000   30.000000  2004.0   \n",
       "50%    11202.000000     2.000000     4.000000   60.000000   60.000000  2004.0   \n",
       "75%    13004.500000     2.000000     6.000000  120.000000  120.000000  2004.0   \n",
       "max    39332.000000     4.000000    10.000000  480.000000  480.000000  2004.0   \n",
       "\n",
       "       avg_rating  geek_rating     num_votes         age  ...    Economic  \\\n",
       "count  139.000000   139.000000    139.000000  139.000000  ...  139.000000   \n",
       "mean     6.795969     6.127984   3347.899281   10.485633  ...    0.122302   \n",
       "std      0.549388     0.506793   7329.592857    2.113571  ...    0.328819   \n",
       "min      5.792010     5.643470     90.000000    3.000000  ...    0.000000   \n",
       "25%      6.322440     5.739130    445.500000    9.000000  ...    0.000000   \n",
       "50%      6.767460     5.933380    872.000000   10.000000  ...    0.000000   \n",
       "75%      7.166370     6.432610   2660.000000   12.000000  ...    0.000000   \n",
       "max      8.261290     7.827220  55115.000000   14.000000  ...    1.000000   \n",
       "\n",
       "       Exploration     Fantasy    Fighting    Medieval  Miniatures  \\\n",
       "count   139.000000  139.000000  139.000000  139.000000  139.000000   \n",
       "mean      0.100719    0.129496    0.115108    0.079137    0.093525   \n",
       "std       0.302045    0.336963    0.320306    0.270928    0.292220   \n",
       "min       0.000000    0.000000    0.000000    0.000000    0.000000   \n",
       "25%       0.000000    0.000000    0.000000    0.000000    0.000000   \n",
       "50%       0.000000    0.000000    0.000000    0.000000    0.000000   \n",
       "75%       0.000000    0.000000    0.000000    0.000000    0.000000   \n",
       "max       1.000000    1.000000    1.000000    1.000000    1.000000   \n",
       "\n",
       "       Party Game  Science Fiction  combined_war  other_category  \n",
       "count  139.000000       139.000000    139.000000      139.000000  \n",
       "mean     0.071942         0.057554      0.366906        1.000000  \n",
       "std      0.259327         0.233740      0.723757        0.992727  \n",
       "min      0.000000         0.000000      0.000000        0.000000  \n",
       "25%      0.000000         0.000000      0.000000        0.000000  \n",
       "50%      0.000000         0.000000      0.000000        1.000000  \n",
       "75%      0.000000         0.000000      0.000000        1.500000  \n",
       "max      1.000000         1.000000      3.000000        4.000000  \n",
       "\n",
       "[8 rows x 52 columns]"
      ]
     },
     "execution_count": 20,
     "metadata": {},
     "output_type": "execute_result"
    }
   ],
   "source": [
    "df_2004.describe()"
   ]
  },
  {
   "cell_type": "code",
   "execution_count": 21,
   "metadata": {},
   "outputs": [],
   "source": [
    "def bootstrap_replicate_1d(data, func):\n",
    "    return func(np.random.choice(data, len(data)))"
   ]
  },
  {
   "cell_type": "code",
   "execution_count": 22,
   "metadata": {},
   "outputs": [],
   "source": [
    "def draw_bs_reps(data, func, size=1):\n",
    "    return np.array([bootstrap_replicate_1d(data, func) for _ in range(size)])"
   ]
  },
  {
   "cell_type": "code",
   "execution_count": 23,
   "metadata": {},
   "outputs": [],
   "source": [
    "# Generate Shifted arrays\n",
    "def shifted_arrays(data, stat_data, stat):\n",
    "    return(data - stat(data) + stat_data)"
   ]
  },
  {
   "cell_type": "code",
   "execution_count": 24,
   "metadata": {},
   "outputs": [],
   "source": [
    "# A two sample boostrap hypothesis for difference\n",
    "def bootstrap_differences(data_1, data_2, stat, size=1):\n",
    "    # Concatenate forces: forces_concat\n",
    "    data_concat = np.concatenate((data_1, data_2))\n",
    "    \n",
    "    # Compute stat of all data\n",
    "    stat_data = stat(data_concat)\n",
    "    \n",
    "    # Generate Shifted arrays\n",
    "    data_1_shifted = shifted_arrays(data_1, stat_data, stat)\n",
    "    data_2_shifted = shifted_arrays(data_2, stat_data, stat)\n",
    "\n",
    "    # Compute size bootstrap replicates from shifted arrays\n",
    "    bs_data_1 = draw_bs_reps(data_1_shifted, stat, size)\n",
    "    bs_data_2 = draw_bs_reps(data_2_shifted, stat, size)\n",
    "    \n",
    "    # Get replicates of difference of stat\n",
    "    bs_replicated = bs_data_1 - bs_data_2\n",
    "    \n",
    "    return bs_replicated"
   ]
  },
  {
   "cell_type": "code",
   "execution_count": 25,
   "metadata": {},
   "outputs": [],
   "source": [
    "geek_rating_2004 = df_2004['geek_rating']\n",
    "geek_rating_2017 = df_2017['geek_rating']\n",
    "\n",
    "avg_rating_2004 = df_2004['geek_rating']\n",
    "avg_rating_2017 = df_2017['geek_rating']"
   ]
  },
  {
   "cell_type": "code",
   "execution_count": 26,
   "metadata": {
    "scrolled": true
   },
   "outputs": [],
   "source": [
    "bs_geek_rating_mean = bootstrap_differences(geek_rating_2004, geek_rating_2017, np.mean, 10000)\n",
    "bs_avg_rating_mean = bootstrap_differences(avg_rating_2004, avg_rating_2017, np.mean, 10000)"
   ]
  },
  {
   "cell_type": "code",
   "execution_count": 27,
   "metadata": {},
   "outputs": [],
   "source": [
    "# Compute difference of stat impact data from experiment\n",
    "def diff_of_stat(data_1, data_2, stat):\n",
    "    return stat(data_1) - stat(data_2)"
   ]
  },
  {
   "cell_type": "code",
   "execution_count": 28,
   "metadata": {},
   "outputs": [],
   "source": [
    "# Compute and print p-value\n",
    "def find_p(data, diff_stat):\n",
    "    return(np.sum(data >= diff_stat) / len(data))"
   ]
  },
  {
   "cell_type": "code",
   "execution_count": 29,
   "metadata": {},
   "outputs": [
    {
     "data": {
      "text/plain": [
       "0.2801"
      ]
     },
     "execution_count": 29,
     "metadata": {},
     "output_type": "execute_result"
    }
   ],
   "source": [
    "emp_diff_mean_geek = diff_of_stat(geek_rating_2004, geek_rating_2017, np.mean)\n",
    "geek_p = find_p(bs_geek_rating_mean, emp_diff_mean_geek)\n",
    "geek_p"
   ]
  },
  {
   "cell_type": "code",
   "execution_count": 30,
   "metadata": {},
   "outputs": [
    {
     "data": {
      "text/plain": [
       "0.284"
      ]
     },
     "execution_count": 30,
     "metadata": {},
     "output_type": "execute_result"
    }
   ],
   "source": [
    "emp_diff_mean_avg = diff_of_stat(avg_rating_2004, avg_rating_2017, np.mean)\n",
    "avg_p = find_p(bs_avg_rating_mean, emp_diff_mean_avg)\n",
    "avg_p"
   ]
  },
  {
   "cell_type": "code",
   "execution_count": 31,
   "metadata": {},
   "outputs": [],
   "source": [
    "geek_boot_mean_2004 = draw_bs_reps(geek_rating_2004, np.mean, 10000)\n",
    "geek_boot_mean_2017 = draw_bs_reps(geek_rating_2017, np.mean, 10000)"
   ]
  },
  {
   "cell_type": "code",
   "execution_count": 32,
   "metadata": {},
   "outputs": [],
   "source": [
    "mean_diff_geek = geek_boot_mean_2004 - geek_boot_mean_2017"
   ]
  },
  {
   "cell_type": "code",
   "execution_count": 33,
   "metadata": {},
   "outputs": [],
   "source": [
    "gbm_2004 = np.mean(geek_boot_mean_2004)\n",
    "gbm_2017 = np.mean(geek_boot_mean_2017)\n",
    "mdg = np.mean(mean_diff_geek)"
   ]
  },
  {
   "cell_type": "code",
   "execution_count": 34,
   "metadata": {},
   "outputs": [
    {
     "data": {
      "text/plain": [
       "Text(0.5, 0, 'Mean Charges')"
      ]
     },
     "execution_count": 34,
     "metadata": {},
     "output_type": "execute_result"
    },
    {
     "data": {
      "image/png": "[encoded data removed]",
      "text/plain": [
       "<Figure size 432x288 with 1 Axes>"
      ]
     },
     "metadata": {
      "needs_background": "light"
     },
     "output_type": "display_data"
    }
   ],
   "source": [
    "plt.hist(mean_diff_geek, density=True, bins=50)\n",
    "plt.axvline(x=gbm_2004, color='r')\n",
    "plt.axvline(x=gbm_2017, color='g')\n",
    "plt.axvline(x=mdg, color='b')\n",
    "plt.xlabel('Mean Charges')"
   ]
  }
 ],
 "metadata": {
  "kernelspec": {
   "display_name": "Python 3",
   "language": "python",
   "name": "python3"
  },
  "language_info": {
   "codemirror_mode": {
    "name": "ipython",
    "version": 3
   },
   "file_extension": ".py",
   "mimetype": "text/x-python",
   "name": "python",
   "nbconvert_exporter": "python",
   "pygments_lexer": "ipython3",
   "version": "3.7.3"
  }
 },
 "nbformat": 4,
 "nbformat_minor": 2
}
